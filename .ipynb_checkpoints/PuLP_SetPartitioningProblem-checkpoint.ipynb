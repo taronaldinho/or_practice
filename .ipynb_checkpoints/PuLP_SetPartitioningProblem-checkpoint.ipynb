{
 "cells": [
  {
   "cell_type": "markdown",
   "metadata": {},
   "source": [
    "# PuLP で組み合わせ問題 (Set Partitioning Problem) を解く  \n",
    "\n",
    "PuLP は Python で線形計画 (Linear Programing) 問題をモデル化し、ソルバーで解くためのツールです。  \n",
    "\n",
    "- [coin-or/pulp: A python Linear Programming API](https://github.com/coin-or/pulp)  \n",
    "- [Optimization with PuLP](https://coin-or.github.io/pulp/)  \n",
    "- [pulp: Pulp classes](https://coin-or.github.io/pulp/technical/pulp.html)  \n",
    "\n",
    "Anaconda Cloud ではパッケージは公開されていませんので、`pip install pulp` でインストールしてください。  "
   ]
  },
  {
   "cell_type": "markdown",
   "metadata": {},
   "source": [
    "## 問題  \n",
    "\n",
    "あるパーティの席割を検討しています。条件は、\n",
    "\n",
    "- 参加者数は 18 名  \n",
    "- テーブルは 5 つ  \n",
    "- 各テーブルに参加者を 1 名以上、4 名以下を割り当てる  \n",
    "\n",
    "です。この条件下で、各テーブルの幸福度の総和を最大化したいと考えています。幸福度は、    \n",
    "\n",
    "- 参加者同士は 0 以上 1 未満の相性度というパラメータを持っている (大きいほど相性がよい)  \n",
    "- 各テーブルに割り当てられた参加者同士の最も低い相性度をそのテーブルの幸福度とする\n",
    "\n",
    "で求められるものとします。  "
   ]
  },
  {
   "cell_type": "code",
   "execution_count": null,
   "metadata": {},
   "outputs": [],
   "source": [
    "# 必要なモジュールのインポート\n",
    "import pulp\n",
    "from pulp import LpProblem, LpMaximize, LpVariable, \\\n",
    "                 LpInteger, lpSum\n",
    "import numpy as np\n",
    "import pandas as pd\n",
    "import itertools"
   ]
  },
  {
   "cell_type": "code",
   "execution_count": null,
   "metadata": {},
   "outputs": [],
   "source": [
    "# 乱数のシード値を指定\n",
    "np.random.seed(0)"
   ]
  },
  {
   "cell_type": "code",
   "execution_count": null,
   "metadata": {},
   "outputs": [],
   "source": [
    "max_tables = 5\n",
    "max_table_size = 4\n",
    "guests = \"A B C D E F G H I J K L M N O P Q R\".split()\n",
    "num_guests = len(guests)\n",
    "print(\"出席者数: {} 人\".format(num_guests))"
   ]
  },
  {
   "cell_type": "code",
   "execution_count": null,
   "metadata": {},
   "outputs": [],
   "source": [
    "# 各個人間の相性度を作成する\n",
    "# 対角成分が 0 で、それ以外は 0 以上 1 未満の値の対称行列とする\n",
    "a = np.round(np.random.rand(num_guests**2), 4).reshape(num_guests, -1)\n",
    "a_tri = np.triu(a)  # 上側に値を持つ三角行列\n",
    "affinity = a_tri + a_tri.T - 2*np.diag(a_tri.diagonal())"
   ]
  },
  {
   "cell_type": "code",
   "execution_count": null,
   "metadata": {},
   "outputs": [],
   "source": [
    "pd.DataFrame(affinity, index=guests, columns=guests)"
   ]
  },
  {
   "cell_type": "code",
   "execution_count": null,
   "metadata": {},
   "outputs": [],
   "source": [
    "# ひとつのテーブルに対して、起こりうるすべての席割のリストを作成\n",
    "possible_tables = [tuple(c) for c in pulp.allcombinations(guests, max_table_size)]\n",
    "print(\"{} 通りの組み合わせが存在\".format(len(possible_tables)))"
   ]
  },
  {
   "cell_type": "code",
   "execution_count": null,
   "metadata": {},
   "outputs": [],
   "source": [
    "# 最後の要素を確認\n",
    "possible_tables[-1]"
   ]
  },
  {
   "cell_type": "code",
   "execution_count": null,
   "metadata": {},
   "outputs": [],
   "source": [
    "# テーブルの幸福度を求める関数\n",
    "def happiness(guests: list, table: tuple, aff: np.ndarray) -> float: \n",
    "    \"\"\"\n",
    "    テーブルの幸福度を割り当てられた人のリストと相性度テーブルから取得する関数。\n",
    "    割り当てられた人から 2 人選んで最も低い相性度がそのテーブルの幸福度となる。\n",
    "    \"\"\"\n",
    "    if len(table) <= 1: return 0  # 簡易な if 式の書き方\n",
    "    \n",
    "    ret = 1\n",
    "    for c in itertools.combinations(table, 2):\n",
    "        a = aff[guests.index(c[0]), guests.index(c[1])]\n",
    "        if ret > a:\n",
    "            ret = a            \n",
    "    return ret"
   ]
  },
  {
   "cell_type": "code",
   "execution_count": null,
   "metadata": {},
   "outputs": [],
   "source": [
    "# 関数のテスト\n",
    "happiness(guests, (\"A\", \"B\", \"C\"), affinity)"
   ]
  },
  {
   "cell_type": "code",
   "execution_count": null,
   "metadata": {},
   "outputs": [],
   "source": [
    "# モデルの作成 目的関数を最大化する\n",
    "zaseki = pulp.LpProblem(name=\"座席割\", sense=pulp.LpMaximize)"
   ]
  },
  {
   "cell_type": "code",
   "execution_count": null,
   "metadata": {},
   "outputs": [],
   "source": [
    "# その席割を使用するかどうかの 2 値 (0 または 1) の決定変数を作成\n",
    "x = pulp.LpVariable.dicts(name=\"table\", indexs=possible_tables, \n",
    "                          lowBound=0, upBound=1, cat=pulp.LpInteger)\n",
    "len(x)"
   ]
  },
  {
   "cell_type": "code",
   "execution_count": null,
   "metadata": {},
   "outputs": [],
   "source": [
    "# 目的関数をモデルに追加\n",
    "zaseki += lpSum([happiness(guests, table, affinity) * x[table] for table in possible_tables])"
   ]
  },
  {
   "cell_type": "code",
   "execution_count": null,
   "metadata": {},
   "outputs": [],
   "source": [
    "# 制約条件をモデルに追加\n",
    "\n",
    "# テーブル数の制限\n",
    "zaseki += lpSum([x[table] for table in possible_tables]) <= max_tables, \"Maximum_number_of_tables\"\n",
    "\n",
    "# 1 人の出席者は必ずどれかひとつのテーブルに座らなければならない\n",
    "for guest in guests:\n",
    "    zaseki += lpSum([x[table] for table in possible_tables \n",
    "                     if guest in table]) == 1, \"Must_seat_{}\".format(guest)"
   ]
  },
  {
   "cell_type": "code",
   "execution_count": null,
   "metadata": {},
   "outputs": [],
   "source": [
    "%%time \n",
    "zaseki.solve()"
   ]
  },
  {
   "cell_type": "code",
   "execution_count": null,
   "metadata": {},
   "outputs": [],
   "source": [
    "# 結果の確認\n",
    "total_happiness = 0\n",
    "for table in possible_tables:\n",
    "    if pulp.value(x[table]) == 1.0:\n",
    "        h = happiness(guests, table, affinity)\n",
    "        print(table, h)\n",
    "        total_happiness += h\n",
    "\n",
    "print(\"-\"*20, \"\\n幸福度の合計: {}\".format(total_happiness))"
   ]
  }
 ],
 "metadata": {
  "kernelspec": {
   "display_name": "or",
   "language": "python",
   "name": "or"
  },
  "language_info": {
   "codemirror_mode": {
    "name": "ipython",
    "version": 3
   },
   "file_extension": ".py",
   "mimetype": "text/x-python",
   "name": "python",
   "nbconvert_exporter": "python",
   "pygments_lexer": "ipython3",
   "version": "3.7.6"
  }
 },
 "nbformat": 4,
 "nbformat_minor": 4
}
