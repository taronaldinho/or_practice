{
 "cells": [
  {
   "cell_type": "markdown",
   "metadata": {},
   "source": [
    "## 数理最適化で解ける様々なパズル\n",
    "\n",
    "[カックロ](Kakuro.ipynb) | [ののぐらむ](Nonogram.ipynb) | [美術館](Museum.ipynb) | [ナンバーリンク](NumberLink.ipynb) | [覆面算](Fukumenzan.ipynb)\n",
    ":--|:--|:--|:--|:--\n",
    "[不等式](Inequality.ipynb) | [ビルディングパズル](Building.ipynb) | [ウォールロジック](WallLogic.ipynb) | [波及効果](HakyuKoka.ipynb) | [ナンバースケルトン](NumberSkeleton.ipynb)\n",
    "[スリザーリンク](SlitherLink.ipynb) | [四角に切れ](ShikakuNiKire.ipynb) | [ましゅ](Mashu.ipynb) | [橋をかけろ](HashiWoKakero.ipynb) | [のりのり](NoriNori.ipynb)\n",
    "[ブロックパズル](BlockPuzzle.ipynb) | [タイルペイント](TilePaint.ipynb) | [因子の部屋](InshiNoHeya.ipynb) | [黒どこ](Kurodoko.ipynb) | [推理パズル](SuiriPuzzle.ipynb)\n",
    "[ひとりにしてくれ](HitoriNiShitekure.ipynb) | [へやわけ](Heyawake.ipynb) | [ペイントエリア](PaintArea.ipynb) | [数コロ](Sukoro.ipynb) | [パイプリンク](PipeLink.ipynb)\n",
    "[クリーク](Creek.ipynb) | [アイスバーン](Eisbahn.ipynb) | [サムライン](SumLine.ipynb) | [カントリーロード](CountryRoad.ipynb) | [カナオレ](Kanaore.ipynb)\n",
    "[フィルマット](Fillmat.ipynb) | [シャカシャカ](ShakaShaka.ipynb) | [ヤジリン](Yajirin.ipynb) | [ぬりかべ](Nurikabe.ipynb) | [ホタルビーム](HotaruBeam.ipynb)\n",
    "[ステンドグラス](StainedGlass.ipynb) | [さとがえり](Satogaeri.ipynb) | [スケルトン](Skeleton.ipynb) | [数独](Sudoku.ipynb) | [OhNo!](OhNo.ipynb)\n",
    "[ABCプレース](AbcPlace.ipynb) | [ボンバーパズル](BomberPuzzle.ipynb) | [チョコナ](Chokona.ipynb) | [フィルオミノ](Fillomino.ipynb) | [スターバトル](StarBattle.ipynb)\n",
    "\n",
    "一部の名称はニコリの登録商標です"
   ]
  }
 ],
 "metadata": {
  "kernelspec": {
   "display_name": "Python 3",
   "language": "python",
   "name": "python3"
  },
  "language_info": {
   "codemirror_mode": {
    "name": "ipython",
    "version": 3
   },
   "file_extension": ".py",
   "mimetype": "text/x-python",
   "name": "python",
   "nbconvert_exporter": "python",
   "pygments_lexer": "ipython3",
   "version": "3.6.6"
  },
  "toc": {
   "nav_menu": {},
   "number_sections": false,
   "sideBar": true,
   "skip_h1_title": false,
   "toc_cell": false,
   "toc_position": {},
   "toc_section_display": "block",
   "toc_window_display": false
  },
  "varInspector": {
   "cols": {
    "lenName": 16,
    "lenType": 16,
    "lenVar": 40
   },
   "kernels_config": {
    "python": {
     "delete_cmd_postfix": "",
     "delete_cmd_prefix": "del ",
     "library": "var_list.py",
     "varRefreshCmd": "print(var_dic_list())"
    },
    "r": {
     "delete_cmd_postfix": ") ",
     "delete_cmd_prefix": "rm(",
     "library": "var_list.r",
     "varRefreshCmd": "cat(var_dic_list()) "
    }
   },
   "types_to_exclude": [
    "module",
    "function",
    "builtin_function_or_method",
    "instance",
    "_Feature"
   ],
   "window_display": false
  }
 },
 "nbformat": 4,
 "nbformat_minor": 2
}
