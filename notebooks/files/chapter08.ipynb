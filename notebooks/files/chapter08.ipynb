{
 "cells": [
  {
   "cell_type": "markdown",
   "metadata": {},
   "source": [
    "## 第8章 モデルの作り方（応用）\n",
    "\n",
    "#### 準備"
   ]
  },
  {
   "cell_type": "code",
   "execution_count": null,
   "metadata": {},
   "outputs": [],
   "source": [
    "%matplotlib inline\n",
    "%config InlineBackend.figure_formats = {'png', 'retina'}\n",
    "import numpy as np, pandas as pd, networkx as nx\n",
    "import matplotlib.pyplot as plt\n",
    "from random import shuffle\n",
    "from collections import defaultdict\n",
    "from itertools import combinations, product\n",
    "from more_itertools import chunked, first, pairwise\n",
    "from more_itertools import iterate, take\n",
    "from PIL import Image, ImageDraw\n",
    "from urllib import request\n",
    "from pulp import LpProblem, LpMaximize, LpBinary, LpStatus\n",
    "from pulp import lpDot, lpSum, value\n",
    "from ortoolpy import addvar, addvars, addvals, addbinvar\n",
    "from ortoolpy import addbinvars, model_max, model_min, tsp\n",
    "from japanmap import adjacent, pref_map, pref_code as pc"
   ]
  },
  {
   "cell_type": "markdown",
   "metadata": {},
   "source": [
    "### 8.1 野球選手の守備を決めよう"
   ]
  },
  {
   "cell_type": "code",
   "execution_count": null,
   "metadata": {},
   "outputs": [],
   "source": [
    "np.random.seed(0)\n",
    "w = np.random.randint(1, 10, (9, 9))  # 適性\n",
    "g = nx.Graph()\n",
    "for i, j in product(range(9), range(9)):\n",
    "    g.add_edge(i, j + 9, weight=-w[i][j])\n",
    "r = dict(nx.max_weight_matching(g, maxcardinality=True))\n",
    "r.update(dict(zip(r.values(), r.keys())))  # 逆方向\n",
    "[r[i] - 8 for i in range(9)]  # 選手ごとの守備"
   ]
  },
  {
   "cell_type": "markdown",
   "metadata": {},
   "source": [
    "### 8.2 県を4色に塗り分けよう"
   ]
  },
  {
   "cell_type": "code",
   "execution_count": null,
   "metadata": {},
   "outputs": [],
   "source": [
    "m = LpProblem()\n",
    "vlst = addbinvars(47, 4)  # 変数\n",
    "for i in range(47):\n",
    "    m += lpSum(vlst[i]) == 1  # 色の割当\n",
    "    for j in adjacent(i+1):\n",
    "        for c in range(4):\n",
    "            # 隣接していたら、同色は1つまで\n",
    "            m += vlst[i][c] + vlst[j-1][c] <= 1\n",
    "m.solve()"
   ]
  },
  {
   "cell_type": "code",
   "execution_count": null,
   "metadata": {},
   "outputs": [],
   "source": [
    "cols = [['red', 'blue', 'green', 'yellow']\n",
    "        [int(value(lpDot(range(4), v)))] for v in vlst]\n",
    "pref_map(range(1, 48), cols=cols, width=3)"
   ]
  },
  {
   "cell_type": "markdown",
   "metadata": {},
   "source": [
    "### 8.3 画像ファイルを4色で塗ろう"
   ]
  },
  {
   "cell_type": "code",
   "execution_count": null,
   "metadata": {
    "scrolled": true
   },
   "outputs": [],
   "source": [
    "im = Image.open('data/four_color.png')\n",
    "im"
   ]
  },
  {
   "cell_type": "code",
   "execution_count": null,
   "metadata": {},
   "outputs": [],
   "source": [
    "# 各エリアをRGB=(0,1,通し番号)で塗りつぶす\n",
    "n = 0\n",
    "for y, x in product(range(im.height), range(im.width)):\n",
    "    if im.getpixel((x, y)) != (255, 255, 255, 255):  # 白\n",
    "        continue\n",
    "    ImageDraw.floodfill(im, (x, y), (0, 1, n, 255))\n",
    "    n += 1\n",
    "# 境界を消す\n",
    "dd = [(-1, 0), (0, -1), (0, 1), (1, 0)]\n",
    "l = list(product(range(1,im.height-1),range(1,im.width-1)))\n",
    "shuffle(l)\n",
    "for y, x in l:\n",
    "    c = im.getpixel((x, y))\n",
    "    if c[:2] == (0, 1):  # 対象エリア\n",
    "        for i, j in dd:\n",
    "            if im.getpixel((x + i, y + j))[:2] != (0, 1):\n",
    "                im.putpixel((x + i, y + j), c)"
   ]
  },
  {
   "cell_type": "code",
   "execution_count": null,
   "metadata": {},
   "outputs": [],
   "source": [
    "g = nx.Graph()  # グラフ\n",
    "for y, x in product(range(im.height-1), range(im.width-1)):\n",
    "    c1 = im.getpixel((x, y))\n",
    "    if c1[:2] != (0, 1):\n",
    "        continue\n",
    "    c2 = im.getpixel((x+1, y))\n",
    "    c3 = im.getpixel((x, y+1))\n",
    "    if c2[:2] == (0, 1) and c1[2] != c2[2]:\n",
    "        g.add_edge(c1[2], c2[2])\n",
    "    if c3[:2] == (0, 1) and c1[2] != c3[2]:\n",
    "        g.add_edge(c1[2], c3[2])"
   ]
  },
  {
   "cell_type": "code",
   "execution_count": null,
   "metadata": {
    "scrolled": true
   },
   "outputs": [],
   "source": [
    "m = LpProblem() # 数理モデル\n",
    "# エリアiを色jにするかどうか\n",
    "vlst = addbinvars(g.number_of_nodes(), 4)\n",
    "for i in g.nodes():\n",
    "    m += lpSum(vlst[i]) == 1  # 色を割当\n",
    "for i, j in g.edges():\n",
    "    for k in range(4):\n",
    "        m += vlst[i][k] + vlst[j][k] <= 1  # 隣接\n",
    "m.solve()"
   ]
  },
  {
   "cell_type": "code",
   "execution_count": null,
   "metadata": {
    "scrolled": false
   },
   "outputs": [],
   "source": [
    "co = [(97, 132, 219, 255), (228, 128, 109, 255),\n",
    "      (255, 241, 164, 255), (121, 201, 164, 255)] # 4色\n",
    "cols = [int(value(lpDot(range(4), v))) for v in vlst]\n",
    "for y, x in product(range(im.height-1), range(im.width-1)):\n",
    "    c = im.getpixel((x, y))\n",
    "    if c[:2] == (0, 1):  # エリアならば、結果で塗る\n",
    "        ImageDraw.floodfill(im, (x, y), co[cols[c[2]]])\n",
    "im"
   ]
  },
  {
   "cell_type": "markdown",
   "metadata": {},
   "source": [
    "### 8.4 デートコースを決めよう"
   ]
  },
  {
   "cell_type": "code",
   "execution_count": null,
   "metadata": {},
   "outputs": [],
   "source": [
    "# パラメーター\n",
    "atra = ('入口 喫茶 ボート カップ レストラン 観覧車 '\n",
    "        'お化け屋敷 コースター 迷路').split()\n",
    "prio = [0, 50, 36, 45, 79, 55, 63, 71, 42]  # 満足度\n",
    "tims = [0, 20, 28, 15, 35, 17, 18, 14, 22]  # 滞在時間\n",
    "n = len(atra)\n",
    "# アトラクション表\n",
    "dfa = pd.DataFrame(\n",
    "    list(zip(atra, prio, tims)),\n",
    "    columns=['アトラクション', '満足度', '滞在時間'])\n",
    "dfa[:3]  # 先頭3行"
   ]
  },
  {
   "cell_type": "code",
   "execution_count": null,
   "metadata": {},
   "outputs": [],
   "source": [
    "timm = [[0, 1, 9], [0, 3, 7], [0, 4, 12], [1, 2, 11],\n",
    "    [1, 3, 12], [1, 4, 7], [1, 5, 13], [2, 4, 14],\n",
    "    [2, 5, 8], [3, 4, 11], [3, 6, 7], [3, 7, 12],\n",
    "    [4, 5, 9], [4, 6, 13], [4, 7, 9], [4, 8, 13],\n",
    "    [5, 7, 13], [5, 8, 7], [6, 7, 7], [7, 8, 6]]\n",
    "# 移動時間表\n",
    "dft = pd.DataFrame(\n",
    "    [c for i, j, t in timm for c in [(i, j, t), (j, i, t)]],\n",
    "    columns=['I', 'J', '移動時間'])\n",
    "dft[:8:2]  # 1行おきに表示"
   ]
  },
  {
   "cell_type": "code",
   "execution_count": null,
   "metadata": {},
   "outputs": [],
   "source": [
    "def solve_route(dfa, dft, limit_time, lower=0):\n",
    "    \"\"\"\n",
    "    入口（index=0）から複数のアトラクションをまわり時間内に\n",
    "        満足度最大のものを選ぶ\n",
    "    入力\n",
    "        dfa: 催し物表（アトラクション,満足度,滞在時間）\n",
    "        dft: 移動時間表（I:点i, J:点j, 移動時間）\n",
    "        limit_time: 制限時間\n",
    "        lower: 最低アトラクション数\n",
    "    出力\n",
    "        満足度の和、時間、利用順序\n",
    "    \"\"\"\n",
    "    dfa, dft = dfa.copy(), dft.sort_values(['I', 'J'])\n",
    "    m = LpProblem(sense=LpMaximize)\n",
    "    dfa['VarS'] = [1] + addvars(n - 1)  # 催し物を選ぶか\n",
    "    dft['VarIJ'] = addbinvars(len(dft))  # IからJに行くか\n",
    "    # JからIに行くか\n",
    "    dft['VarJI'] = dft.sort_values(['J', 'I']).VarIJ.values\n",
    "    u = [0] + addvars(n - 1)  # 入口から何番目か\n",
    "    m += lpDot(dfa.満足度, dfa.VarS)  # 目的関数\n",
    "    e = (lpDot(dfa.滞在時間, dfa.VarS)\n",
    "       + lpDot(dft.移動時間, dft.VarIJ))\n",
    "    m += e <= limit_time  # 制限時間\n",
    "    for _, r in dfa.iterrows():\n",
    "        # 選んだら来る\n",
    "        m += r.VarS == lpSum(dft[dft.J == r.name].VarIJ)\n",
    "    for _, v in dft.groupby('I'):\n",
    "        m += lpSum(v.VarIJ) == lpSum(v.VarJI)  #入ったら出る\n",
    "    qry = dft.query('I!=0 & J!=0')\n",
    "    for _, (i, j, _, vij, vji) in qry.iterrows():\n",
    "        m += u[i] + 1 - (n - 1) * (1 - vij) + (\n",
    "            n - 3) * vji <= u[j]  # 持ち上げポテンシャル制約\n",
    "    for _, (_,j,_,v0j,vj0) in dft.query('I==0').iterrows():\n",
    "        # 持ち上げ下界制約\n",
    "        m += 1 + (1 - v0j) + (lower - 3) * vj0 <= u[j]\n",
    "    for _, (i,_,_,vi0,v0i) in dft.query('J==0').iterrows():\n",
    "        # 持ち上げ上界制約\n",
    "        m += u[i] <= (n - 1) - (1 - vi0) - (n - 3) * v0i\n",
    "    m.solve()\n",
    "    if m.status != 1:\n",
    "        return -1, -1, []\n",
    "    dft['ValIJ'] = dft.VarIJ.apply(value)\n",
    "    dc = dict(dft[dft.ValIJ > 0.5].values[:, :2])\n",
    "    return value(m.objective), value(e), [\n",
    "        dfa.アトラクション[i] for i in take(\n",
    "            int(value(lpSum(dfa.VarS))) + 1,\n",
    "            iterate(lambda k: dc[k], 0))\n",
    "    ]\n",
    "solve_route(dfa, dft, 200)"
   ]
  },
  {
   "cell_type": "markdown",
   "metadata": {},
   "source": [
    "### 8.5 巡視船の航路を決めよう"
   ]
  },
  {
   "cell_type": "code",
   "execution_count": null,
   "metadata": {},
   "outputs": [],
   "source": [
    "nt = 6 * 24  # 時間数(10分刻みで24時間分)\n",
    "N = 10  # 10x10のマス\n",
    "np.random.seed(1)\n",
    "# 時間帯ごとエリアごとの発見確率\n",
    "df = pd.DataFrame(np.random.rand(nt, N*N))\n",
    "df = np.log(1 - df) # 見つからない確率(1 - df)のlogをとる\n",
    "df -= df.min().min() # 最小値を0にする\n",
    "g = nx.Graph() # ノード = 時刻×N*N＋マス番号\n",
    "for t, *r in df.itertuples():\n",
    "    for i, j in product(range(N), range(N)):\n",
    "        k1 = t*N*N + i*N + j\n",
    "        for di,dj in [(-1,0), (0,-1), (0,0), (0,1), (1,0)]:\n",
    "            if 0 <= i+di < N and 0 <= j+dj < N:\n",
    "                k2 = (i+di)*N + j+dj\n",
    "                # 時空間ネットワークの接続をする\n",
    "                g.add_edge(k1, (t+1)*N*N+k2, weight=r[k2])\n",
    "# 最短路を求める\n",
    "res = np.array(nx.dijkstra_path(g, 0, nt*N*N))"
   ]
  },
  {
   "cell_type": "code",
   "execution_count": null,
   "metadata": {},
   "outputs": [],
   "source": [
    "plt.rcParams['figure.figsize'] = 5, 1.8"
   ]
  },
  {
   "cell_type": "code",
   "execution_count": null,
   "metadata": {},
   "outputs": [],
   "source": [
    "h = nx.Graph()\n",
    "h.add_edges_from([(i, j) for i, j in pairwise(res%(N*N))])\n",
    "pos = {(i*N+j):(i,j) for i in range(N) for j in range(N)}\n",
    "nx.draw(h, pos=pos, node_size=100)"
   ]
  },
  {
   "cell_type": "markdown",
   "metadata": {},
   "source": [
    "### 8.6 学区編成問題"
   ]
  },
  {
   "cell_type": "code",
   "execution_count": null,
   "metadata": {},
   "outputs": [],
   "source": [
    "本州 = np.arange(2, 36)\n",
    "代表点 = {pc('青森'): 7, pc('山梨'): 21, pc('山口'): 6}\n",
    "代表以外  = set(本州) - 代表点.keys()\n",
    "g = nx.DiGraph()  # グラフ作成\n",
    "g.add_nodes_from(代表点, demand=0)\n",
    "g.add_nodes_from(代表以外, demand=-1)\n",
    "for i, dem in 代表点.items():\n",
    "    nwl = i * 100  # 本州の複製用\n",
    "    g.add_nodes_from(nwl+本州, demand=0)\n",
    "    g.node[nwl+i]['demand'] = dem-1\n",
    "    g.add_edges_from((j, nwl+j) for j in 代表以外)\n",
    "    g.add_edges_from(((nwl+j, nwl+k) for j in 本州\n",
    "                      for k in adjacent(j)), weight=1)\n",
    "res = nx.min_cost_flow(g)"
   ]
  },
  {
   "cell_type": "code",
   "execution_count": null,
   "metadata": {},
   "outputs": [],
   "source": [
    "dc = dict(zip(代表点,['red','yellow','orange']))\n",
    "dc.update({i: dc[j // 100] for i, t in res.items()\n",
    "           for j, v in t.items() if v and i < 100})\n",
    "pref_map(本州, cols=[dc[i] for i in 本州], width=4)"
   ]
  },
  {
   "cell_type": "markdown",
   "metadata": {},
   "source": [
    "### 8.7 ゲーム理論の混合戦略"
   ]
  },
  {
   "cell_type": "code",
   "execution_count": null,
   "metadata": {},
   "outputs": [],
   "source": [
    "def game(pr):\n",
    "    m = LpProblem(sense=LpMaximize)  # 数理モデル\n",
    "    xyz = addvars(3)  # 変数 x,y,z\n",
    "    w = addvar(lowBound=None)  # 変数 w\n",
    "    m += w  # 目的関数\n",
    "    m += lpSum(xyz) == 1  # 制約条件\n",
    "    for i in range(3):\n",
    "        m += lpDot(pr[:, i], xyz) >= w  # 制約条件\n",
    "    m.solve()  # 求解\n",
    "    print(value(w), [value(v) for v in xyz])\n",
    "pr = np.array([[0, 4, -1], [-1, 0, 1], [1, -1, 0]]) # 利得表\n",
    "game(pr)"
   ]
  },
  {
   "cell_type": "code",
   "execution_count": null,
   "metadata": {},
   "outputs": [],
   "source": [
    "game(-pr.T)"
   ]
  },
  {
   "cell_type": "markdown",
   "metadata": {},
   "source": [
    "### 8.8 最長しりとりを求める"
   ]
  },
  {
   "cell_type": "code",
   "execution_count": null,
   "metadata": {},
   "outputs": [],
   "source": [
    "kws = \"\"\"\\\n",
    "alignas,alignof,and,and_eq,asm,auto,bitand,bitor,bool,\n",
    "break,case,catch,char,char16_t,char32_t,class,compl,const,\n",
    "constexpr,const_cast,continue,decltype,default,delete,do,\n",
    "double,dynamic_cast,else,enum,explicit,export,extern,false,\n",
    "float,for,friend,goto,if,inline,int,long,mutable,namespace,\n",
    "new,noexcept,not,not_eq,nullptr,operator,or,or_eq,private,\n",
    "protected,public,register,reinterpret_cast,return,short,\n",
    "signed,sizeof,static,static_assert,static_cast,struct,\n",
    "switch,template,this,thread_local,throw,true,try,typedef,\n",
    "typeid,typename,union,unsigned,using,virtual,void,volatile,\n",
    "wchar_t,while,xor,xor_eq\"\"\".replace('\\n', '').split(',')\n",
    "g = nx.MultiDiGraph()  # 単語グラフ\n",
    "g.add_nodes_from(['start', 'end'])\n",
    "for kw in kws:\n",
    "    g.add_edge(kw[0], kw[-1], word=kw, var=addbinvar())\n",
    "for nd in list(g.node)[2:]:\n",
    "    g.add_edge('start', nd, word='', var=addbinvar())\n",
    "    g.add_edge(nd, 'end', word='', var=addbinvar())"
   ]
  },
  {
   "cell_type": "code",
   "execution_count": null,
   "metadata": {},
   "outputs": [],
   "source": [
    "df = pd.DataFrame([(fr, to, k, d['word'], d['var'])\n",
    "    for (fr, to, k), d in g.edges.items()],\n",
    "    columns=['From', 'To', 'Key', 'Word', 'Var'])\n",
    "m = LpProblem(sense=LpMaximize)\n",
    "m += lpSum(df.Var)  # 目的関数\n",
    "m += lpSum(df[df.From == 'start'].Var) == 1\n",
    "m += lpSum(df[df.To == 'end'].Var) == 1\n",
    "for nd in list(g.nodes())[2:]:\n",
    "    m += (lpSum([t[2] for t in g.in_edges(nd, data='var')])\n",
    "       == lpSum([t[2] for t in g.edges(nd, data='var')]))\n",
    "m.solve()  # 求解"
   ]
  },
  {
   "cell_type": "code",
   "execution_count": null,
   "metadata": {},
   "outputs": [],
   "source": [
    "h = nx.MultiDiGraph()  # 解から新しいグラフを作成\n",
    "addvals(df)\n",
    "for row in df[df.Val > 0.5].itertuples():\n",
    "    h.add_edge(row.From, row.To, word=row.Word)\n",
    "h.add_edge('end', 'start')  # オイラー閉路に\n",
    "res = [h[f][t][k]['word'] for f, t, k in list(\n",
    "    nx.eulerian_circuit(h, 'start', True))[1:-2]]\n",
    "len(res), ' - '.join(res)"
   ]
  },
  {
   "cell_type": "markdown",
   "metadata": {},
   "source": [
    "### 8.9 最短超文字列問題を解く"
   ]
  },
  {
   "cell_type": "code",
   "execution_count": null,
   "metadata": {},
   "outputs": [],
   "source": [
    "def dist(s, t):\n",
    "    \"\"\"sからtへの距離\"\"\"\n",
    "    ns, nt = len(s), len(t)\n",
    "    for i in range(ns - nt, ns):\n",
    "        if s[i:] == t[:ns - i]:\n",
    "            return nt - ns + i\n",
    "    return nt\n",
    "def shortest_superstring(words):\n",
    "    \"\"\"最短超文字列問題\"\"\"\n",
    "    words = [''] + words  # 空文字追加\n",
    "    dst = {(i, j): dist(s, t) for i, s in enumerate(words)\n",
    "           for j, t in enumerate(words) if i != j}\n",
    "    _, lst = tsp(words, dst)\n",
    "    return ''.join(words[j][len(words[j]) - dst[i, j]:]\n",
    "                   for i, j in pairwise(lst))\n",
    "shortest_superstring(['ACTA', 'GAC', 'GTC', 'TAG'])"
   ]
  },
  {
   "cell_type": "markdown",
   "metadata": {},
   "source": [
    "### 8.10 バラバラの写真を復元せよ！"
   ]
  },
  {
   "cell_type": "code",
   "execution_count": null,
   "metadata": {},
   "outputs": [],
   "source": [
    "# https://snap-photos.s3.amazonaws.com/img-thumbs/960w/X8CW5LGMWI.jpg\n",
    "with open('data/image.jpg', 'rb') as fd:\n",
    "    im = Image.open(fd)  # 写真読込\n",
    "    ar = np.array(im.convert('L').getdata())\n",
    "ar = ar.reshape((im.height, -1))\n",
    "plt.imshow(ar, cmap='gray');  # 表示"
   ]
  },
  {
   "cell_type": "code",
   "execution_count": null,
   "metadata": {},
   "outputs": [],
   "source": [
    "wd = 20  # 短冊の幅\n",
    "n = im.height // wd  # 分割数\n",
    "sp = [ar[i * wd:(i + 1) * wd] for i in range(n)]\n",
    "np.random.seed(0)\n",
    "np.random.shuffle(sp)\n",
    "plt.imshow(np.concatenate(sp), cmap='gray');  # バラバラ"
   ]
  },
  {
   "cell_type": "code",
   "execution_count": null,
   "metadata": {},
   "outputs": [],
   "source": [
    "nn = int(im.width * 0.5) # 50%を使う\n",
    "t = [[np.linalg.norm(np.sort(np.abs(sp[i][-1] - sp[j][0]))\n",
    "    [:nn]) for j in range(n)] for i in range(n)]\n",
    "d = {(i, j): t[i][j] for i in range(n) for j in range(n)}\n",
    "lst = tsp(range(n), d)[1]  # 訪問順"
   ]
  },
  {
   "cell_type": "code",
   "execution_count": null,
   "metadata": {},
   "outputs": [],
   "source": [
    "res = [sp[lst[i]] for i in range(n)]\n",
    "plt.imshow(np.concatenate(res), cmap='gray');"
   ]
  },
  {
   "cell_type": "code",
   "execution_count": null,
   "metadata": {},
   "outputs": [],
   "source": [
    "plt.imshow(np.concatenate(res[21:]+res[:21]), cmap='gray');"
   ]
  },
  {
   "cell_type": "markdown",
   "metadata": {},
   "source": [
    "### 8.11 体育祭の写真選択"
   ]
  },
  {
   "cell_type": "code",
   "execution_count": null,
   "metadata": {},
   "outputs": [],
   "source": [
    "ni, nj, nu = 20, 100, 20 # 生徒数, 写真数, 選択する写真数\n",
    "生徒s = ['生徒%.2d'%i for i in range(1,ni+1)]\n",
    "np.random.seed(1)\n",
    "def mkst():\n",
    "    return set(np.random.choice(生徒s,\n",
    "        max(1,int(np.random.normal(4,2))), False))\n",
    "df = pd.DataFrame([('写真%.3d'%j, mkst())\n",
    "    for j in range(1, nj+1)], columns=['写真', '生徒'])\n",
    "df[:2] # 最初の2行"
   ]
  },
  {
   "cell_type": "code",
   "execution_count": null,
   "metadata": {},
   "outputs": [],
   "source": [
    "m = model_max()            # 数理モデル\n",
    "addbinvars(df)             # 写真ごとの選択\n",
    "VarY = addvars(ni)         # 生徒ごとの被写体数\n",
    "Ymin = addvar()            # 最小被写体数\n",
    "m += 10*Ymin + lpSum(VarY) # 目的関数\n",
    "m += lpSum(df.Var) == nu   # 選択写真数\n",
    "for yi, st in zip(VarY, 生徒s):\n",
    "    m += yi == lpSum(row.Var for row in df.itertuples()\n",
    "                     if st in row.生徒) # 各生徒の被写体数\n",
    "    m += Ymin <= yi"
   ]
  },
  {
   "cell_type": "code",
   "execution_count": null,
   "metadata": {},
   "outputs": [],
   "source": [
    "def solve_and_show(m, df, VarY, Ymin):\n",
    "    m.solve()  # 求解\n",
    "    addvals(df)  # 結果\n",
    "    ValY = np.vectorize(value)(VarY)  # 結果\n",
    "    print('%s 最小%d名 平均%.2f名'%\n",
    "        (LpStatus[m.status], value(Ymin), sum(ValY)/ni))\n",
    "    return ValY\n",
    "ValY = solve_and_show(m, df, VarY, Ymin)"
   ]
  },
  {
   "cell_type": "code",
   "execution_count": null,
   "metadata": {},
   "outputs": [],
   "source": [
    "df[df.Val > 0.5].iloc[:3, :2]  # 最初の3行2列"
   ]
  },
  {
   "cell_type": "code",
   "execution_count": null,
   "metadata": {},
   "outputs": [],
   "source": [
    "plt.plot(ValY)\n",
    "plt.xlabel('Student')\n",
    "plt.title('Count');"
   ]
  },
  {
   "cell_type": "code",
   "execution_count": null,
   "metadata": {},
   "outputs": [],
   "source": [
    "for t in chunked(df.itertuples(), 5):  # 各生徒提出の5枚組\n",
    "    m += lpSum(row.Var for row in t) == 1  # 5枚組から1枚\n",
    "ValY = solve_and_show(m, df, VarY, Ymin)"
   ]
  },
  {
   "cell_type": "markdown",
   "metadata": {},
   "source": [
    "### 8.12 凸多角形の最適三角形分割"
   ]
  },
  {
   "cell_type": "code",
   "execution_count": null,
   "metadata": {},
   "outputs": [],
   "source": [
    "plt.rcParams['figure.figsize'] = 3, 3\n",
    "plt.axes().set_aspect('equal', 'datalim')  # 縦横等比率\n",
    "pos = np.array([[1,2],[2,0],[4,0],[6,1],[5,4],[4,5],[2,4]])\n",
    "dcpos = dict(enumerate(pos))\n",
    "n = len(pos)\n",
    "g = nx.Graph()\n",
    "g.add_edges_from([(i, (i+1) % n) for i in range(n)])\n",
    "nx.draw_networkx(g, pos=dcpos, node_color='w')"
   ]
  },
  {
   "cell_type": "code",
   "execution_count": null,
   "metadata": {},
   "outputs": [],
   "source": [
    "df = pd.DataFrame([(i, j, np.linalg.norm(pos[i] - pos[j]))\n",
    "    for i in range(n) for j in range(i + 2, n - (i == 0))],\n",
    "    columns='I J Dist'.split())\n",
    "addbinvars(df)\n",
    "df[:2]"
   ]
  },
  {
   "cell_type": "code",
   "execution_count": null,
   "metadata": {},
   "outputs": [],
   "source": [
    "m = model_min()\n",
    "m += lpDot(df.Dist, df.Var)  # 目的関数\n",
    "m += lpSum(df.Var) == n - 3 # N-3本必要\n",
    "for idx,i1,j1,_,v1 in df.itertuples():\n",
    "    for _,i2,j2,_,v2  in df[idx+1:].itertuples():\n",
    "        if i1 < i2 < j1 < j2:\n",
    "            m += v1+v2 <= 1 # 交差させない\n",
    "m.solve()"
   ]
  },
  {
   "cell_type": "code",
   "execution_count": null,
   "metadata": {},
   "outputs": [],
   "source": [
    "addvals(df)\n",
    "g.add_edges_from(df[df.Val>0.5].values[:, :2])\n",
    "nx.draw_networkx(g, pos=dcpos, node_color='w')"
   ]
  },
  {
   "cell_type": "markdown",
   "metadata": {},
   "source": [
    "### 8.13 エデンの園配置の確認"
   ]
  },
  {
   "cell_type": "code",
   "execution_count": null,
   "metadata": {},
   "outputs": [],
   "source": [
    "def checkEden(data):\n",
    "    ni, nj = len(data), len(data[0])\n",
    "    df = pd.DataFrame([(i, j, data[i][j] != '.')\n",
    "        for i in range(ni) for j in range(nj)],\n",
    "        columns=['行', '列', '値'])\n",
    "    addbinvars(df)\n",
    "    m = model_min()\n",
    "    for row in df.itertuples():\n",
    "        q = (f'{row.行-1} <= 行 <= {row.行+1}'\n",
    "            f'&{row.列-1} <= 列 <= {row.列+1}')\n",
    "        v = lpSum(df.query(q).Var) - row.Var  # 周り8マス\n",
    "        if row.値:  # 3 <= v+x, 2v+x <= 7\n",
    "            m += v + row.Var >= 3\n",
    "            m += 2*v + row.Var <= 7\n",
    "        else:  # v+x <= 2 or v+x >=4\n",
    "            y = addbinvar()\n",
    "            m += v + row.Var <= 2 + 7*y # y==0 → v+x <= 2\n",
    "            m += v           >= 4*y     # y==1 →   v >= 4\n",
    "    m.solve()\n",
    "    return LpStatus[m.status]"
   ]
  },
  {
   "cell_type": "code",
   "execution_count": null,
   "metadata": {},
   "outputs": [],
   "source": [
    "checkEden(\"\"\"\\\n",
    ".##..#.##...\n",
    "#..##..#.#.#\n",
    ".#.#.##.#.#.\n",
    "#....##..##.\n",
    ".###...#....\n",
    "..#.#.##.#..\n",
    ".#.##...#.#.\n",
    "#....#.#....\"\"\".splitlines())"
   ]
  },
  {
   "cell_type": "markdown",
   "metadata": {},
   "source": [
    "### 8.14 麻雀のあがりの判定"
   ]
  },
  {
   "cell_type": "code",
   "execution_count": null,
   "metadata": {},
   "outputs": [],
   "source": [
    "def calc(hai):\n",
    "    cand = []  # 候補\n",
    "    df = pd.DataFrame(sorted(hai), columns=['V'])\n",
    "    sp = df.V.value_counts()\n",
    "    for i in sp[sp >= 2].index:  # 雀頭候補作成\n",
    "        cand.extend(combinations(df[df.V == i].index, 2))\n",
    "    n2 = len(cand)  # 候補数\n",
    "    for i in sp[sp >= 3].index:  # 刻子候補作成\n",
    "        cand.extend(combinations(df[df.V == i].index, 3))\n",
    "    c = df.V.unique()\n",
    "    for i in range(len(c) - 2):  # 順子候補作成\n",
    "        if c[i + 1] - c[i] == c[i + 2] - c[i + 1] == 1:\n",
    "            cand.extend(product(df.index[df.V == c[i]],\n",
    "                                df.index[df.V == c[i+1]],\n",
    "                                df.index[df.V == c[i+2]]))\n",
    "    m = LpProblem()  # 数理モデル\n",
    "    vv = addbinvars(len(cand))  # 変数\n",
    "    m += lpSum(vv[:n2]) == 1  # 雀頭は1つ\n",
    "    dlst = [[] for _ in range(14)]  # 牌別候補番号リスト\n",
    "    for i, ca in enumerate(cand):\n",
    "        for j in ca:\n",
    "            dlst[j].append(vv[i])\n",
    "    for vs in dlst:\n",
    "        m += lpSum(vs) == 1  # どれかの候補に1つ存在\n",
    "    if m.solve() != 1:\n",
    "        return None\n",
    "    return [[df.V[j] for j in cand[i]] for i, v\n",
    "            in enumerate(vv) if value(v) > 0.5]"
   ]
  },
  {
   "cell_type": "code",
   "execution_count": null,
   "metadata": {},
   "outputs": [],
   "source": [
    "def show(n):\n",
    "    if n < 30:\n",
    "        return chr(ord('１') + n % 10) + '萬筒索'[n // 10]\n",
    "    return '東西南北白発中'[n // 2 - 16]\n",
    "hai = [0, 0, 0, 1, 2, 3, 4, 5, 6, 7, 8, 8, 8, 8]  # 牌\n",
    "for i in calc(hai):\n",
    "    for j in i:\n",
    "        print(show(j), end=' ')\n",
    "    print()"
   ]
  }
 ],
 "metadata": {
  "kernelspec": {
   "display_name": "Python 3",
   "language": "python",
   "name": "python3"
  },
  "language_info": {
   "codemirror_mode": {
    "name": "ipython",
    "version": 3
   },
   "file_extension": ".py",
   "mimetype": "text/x-python",
   "name": "python",
   "nbconvert_exporter": "python",
   "pygments_lexer": "ipython3",
   "version": "3.7.1"
  },
  "toc": {
   "nav_menu": {},
   "number_sections": false,
   "sideBar": true,
   "skip_h1_title": false,
   "toc_cell": false,
   "toc_position": {
    "height": "598.4px",
    "left": "0px",
    "right": "1098.4px",
    "top": "111.6px",
    "width": "212px"
   },
   "toc_section_display": "block",
   "toc_window_display": true
  },
  "varInspector": {
   "cols": {
    "lenName": 16,
    "lenType": 16,
    "lenVar": 40
   },
   "kernels_config": {
    "python": {
     "delete_cmd_postfix": "",
     "delete_cmd_prefix": "del ",
     "library": "var_list.py",
     "varRefreshCmd": "print(var_dic_list())"
    },
    "r": {
     "delete_cmd_postfix": ") ",
     "delete_cmd_prefix": "rm(",
     "library": "var_list.r",
     "varRefreshCmd": "cat(var_dic_list()) "
    }
   },
   "types_to_exclude": [
    "module",
    "function",
    "builtin_function_or_method",
    "instance",
    "_Feature"
   ],
   "window_display": false
  }
 },
 "nbformat": 4,
 "nbformat_minor": 2
}
