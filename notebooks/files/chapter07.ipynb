{
 "cells": [
  {
   "cell_type": "markdown",
   "metadata": {},
   "source": [
    "## 第7章 モデルの作り方（基本）"
   ]
  },
  {
   "cell_type": "markdown",
   "metadata": {},
   "source": [
    "### 7.1 いちばんやさしいマス埋め問題"
   ]
  },
  {
   "cell_type": "code",
   "execution_count": null,
   "metadata": {},
   "outputs": [],
   "source": [
    "import pulp\n",
    "\n",
    "# 数理モデル作成\n",
    "model = pulp.LpProblem()\n",
    "\n",
    "# 各変数を作成.cat=pulp.LpBinaryでバイナリ変数として作成\n",
    "Var1 = pulp.LpVariable('Var1', cat=pulp.LpBinary)\n",
    "Var2 = pulp.LpVariable('Var2', cat=pulp.LpBinary)\n",
    "Var3 = pulp.LpVariable('Var3', cat=pulp.LpBinary)\n",
    "\n",
    "# 1*Var1 + 2*Var2 + 3*Var3 == 2 と言う制約条件をモデルに追加\n",
    "condition = (1*Var1 + 2*Var2 + 3*Var3 == 2)  # 制約条件\n",
    "model += condition  # 制約条件をモデルに追加\n",
    "\n",
    "# Var1 + Var2 + Var3 == 1 と言う制約条件をモデルに追加\n",
    "model += (Var1 + Var2 + Var3 == 1)  # 直接書いても良い\n",
    "\n",
    "# 数理モデルを解く\n",
    "model.solve()\n",
    "\n",
    "# pulp.valueで、最適化された変数を参照\n",
    "print('Var1', pulp.value(Var1))\n",
    "print('Var2', pulp.value(Var2))\n",
    "print('Var3', pulp.value(Var3))\n",
    "print('Number', pulp.value(1*Var1 + 2*Var2 + 3*Var3))"
   ]
  },
  {
   "cell_type": "markdown",
   "metadata": {},
   "source": [
    "#### リストを使って書き換える"
   ]
  },
  {
   "cell_type": "code",
   "execution_count": null,
   "metadata": {},
   "outputs": [],
   "source": [
    "import pulp\n",
    "\n",
    "# 数理モデルを作成\n",
    "model = pulp.LpProblem()\n",
    "\n",
    "# 3つの変数をバイナリ変数で作成\n",
    "Var = [pulp.LpVariable(f'Var{i}', cat=pulp.LpBinary)\n",
    "       for i in range(3)]\n",
    "\n",
    "# マスに入る数字の合計が２である制約条件を追加\n",
    "model += (pulp.lpDot([1, 2, 3], Var) == 2)\n",
    "\n",
    "# マスに入る数字が1つである制約条件を追加\n",
    "model += (pulp.lpSum(Var) == 1)\n",
    "\n",
    "# 数理モデルを解く\n",
    "model.solve()\n",
    "\n",
    "# 結果を参照\n",
    "for v in Var:\n",
    "    print(v.name, pulp.value(v))\n",
    "print('Number', pulp.value(pulp.lpDot([1, 2, 3], Var)))"
   ]
  },
  {
   "cell_type": "markdown",
   "metadata": {},
   "source": [
    "#### pandasを使った数理モデル"
   ]
  },
  {
   "cell_type": "code",
   "execution_count": null,
   "metadata": {},
   "outputs": [],
   "source": [
    "import pulp, pandas\n",
    "\n",
    "# 数理モデルを作成\n",
    "model = pulp.LpProblem()\n",
    "\n",
    "# データフレームに変数と定数を追加\n",
    "df = pandas.DataFrame()\n",
    "df['Number'] = [1, 2, 3]\n",
    "df['Var'] = [pulp.LpVariable(f'Var{i}', cat=pulp.LpBinary)\n",
    "             for i in range(3)]\n",
    "\n",
    "# 数理モデルに制約条件を追加\n",
    "model += (pulp.lpDot(df.Number, df.Var) == 2)\n",
    "model += (pulp.lpSum(df.Var) == 1)\n",
    "\n",
    "# 数理モデルを解く\n",
    "model.solve()\n",
    "\n",
    "# 結果を表示\n",
    "df['Val'] = df.Var.apply(pulp.value)\n",
    "print(df)\n",
    "print('Number', df[df.Val == 1].Number.iloc[0])"
   ]
  },
  {
   "cell_type": "markdown",
   "metadata": {},
   "source": [
    "### 7.2 例題:輸送最適化問題"
   ]
  },
  {
   "cell_type": "code",
   "execution_count": null,
   "metadata": {},
   "outputs": [],
   "source": [
    "import numpy as np, pandas as pd\n",
    "from itertools import product\n",
    "from pulp import LpVariable, lpSum, value\n",
    "from ortoolpy import model_min, addvars, addvals\n",
    "np.random.seed(1)\n",
    "nw, nf = 3, 4\n",
    "pr = list(product(range(nw), range(nf)))\n",
    "供給 = np.random.randint(30, 50, nw)\n",
    "需要 = np.random.randint(20, 40, nf)\n",
    "輸送費 = np.random.randint(10, 20, (nw,nf))"
   ]
  },
  {
   "cell_type": "markdown",
   "metadata": {},
   "source": [
    "#### pandasを使わない数理モデル"
   ]
  },
  {
   "cell_type": "code",
   "execution_count": null,
   "metadata": {},
   "outputs": [],
   "source": [
    "m1 = model_min()\n",
    "v1 = {(i, j): LpVariable('v%d_%d' % (i,j), lowBound=0)\n",
    "     for i, j in pr}\n",
    "m1 += lpSum(輸送費[i][j] * v1[i, j] for i, j in pr)\n",
    "for i in range(nw):\n",
    "    m1 += lpSum(v1[i, j] for j in range(nf)) <= 供給[i]\n",
    "for j in range(nf):\n",
    "    m1 += lpSum(v1[i, j] for i in range(nw)) >= 需要[j]\n",
    "m1.solve()\n",
    "{k:value(x) for k,x in v1.items() if value(x) > 0}"
   ]
  },
  {
   "cell_type": "markdown",
   "metadata": {},
   "source": [
    "#### pandasを使った数理モデル"
   ]
  },
  {
   "cell_type": "code",
   "execution_count": null,
   "metadata": {},
   "outputs": [],
   "source": [
    "df = pd.DataFrame([(i, j) for i, j in pr],\n",
    "                  columns=['倉庫', '工場'])\n",
    "df['輸送費'] = 輸送費.flatten()\n",
    "df[:3]  # 最初の3行表示"
   ]
  },
  {
   "cell_type": "code",
   "execution_count": null,
   "metadata": {},
   "outputs": [],
   "source": [
    "m2 = model_min()\n",
    "addvars(df)\n",
    "m2 += lpSum(df.輸送費 * df.Var)\n",
    "for k, v in df.groupby('倉庫'):\n",
    "    m2 += lpSum(v.Var) <= 供給[k]\n",
    "for k, v in df.groupby('工場'):\n",
    "    m2 += lpSum(v.Var) >= 需要[k]\n",
    "m2.solve()\n",
    "addvals(df)\n",
    "df[df.Val > 0]"
   ]
  },
  {
   "cell_type": "markdown",
   "metadata": {},
   "source": [
    "### 7.4 生産最適化を解く"
   ]
  },
  {
   "cell_type": "code",
   "execution_count": null,
   "metadata": {},
   "outputs": [],
   "source": [
    "import pandas as pd\n",
    "from pulp import lpSum, value\n",
    "from ortoolpy import model_max, addvars, addvals\n",
    "df0 = pd.read_csv('data/prod_cost.csv', index_col=0)\n",
    "df0"
   ]
  },
  {
   "cell_type": "code",
   "execution_count": null,
   "metadata": {},
   "outputs": [],
   "source": [
    "df, inv = df0.iloc[:-1, :].copy(), df0.iloc[-1, :-1]\n",
    "addvars(df)  # 生産量を表す変数\n",
    "df"
   ]
  },
  {
   "cell_type": "code",
   "execution_count": null,
   "metadata": {},
   "outputs": [],
   "source": [
    "inv"
   ]
  },
  {
   "cell_type": "code",
   "execution_count": null,
   "metadata": {},
   "outputs": [],
   "source": [
    "m = model_max()  # 数理モデル\n",
    "m += lpSum(df.利益 * df.Var)  # 総利益を表す目的関数\n",
    "for item in df.columns[:-2]: # 製品ごとの処理\n",
    "    # 制約条件：原料の使用量が在庫以下\n",
    "    m += lpSum(df[item] * df.Var) <= inv[item]\n",
    "m.solve()  # ソルバで解を求める\n",
    "value(m.objective)  # 目的関数の値"
   ]
  },
  {
   "cell_type": "code",
   "execution_count": null,
   "metadata": {},
   "outputs": [],
   "source": [
    "addvals(df)  # 変数の値を表に追加\n",
    "df"
   ]
  },
  {
   "cell_type": "markdown",
   "metadata": {},
   "source": [
    "### 7.5 ロジスティクス・ネットワーク設計問題"
   ]
  },
  {
   "cell_type": "code",
   "execution_count": null,
   "metadata": {},
   "outputs": [],
   "source": [
    "製品 = list('AB')\n",
    "需要地 = list('PQ')\n",
    "工場 = list('XY')\n",
    "レーン = (2, 2)"
   ]
  },
  {
   "cell_type": "code",
   "execution_count": null,
   "metadata": {},
   "outputs": [],
   "source": [
    "import numpy as np, pandas as pd\n",
    "tbdi = pd.DataFrame(((j, k) for j in 需要地 for k in 工場),\n",
    "                    columns=['需要地', '工場'])\n",
    "tbdi['輸送費'] = [1,2,3,1]\n",
    "tbdi"
   ]
  },
  {
   "cell_type": "code",
   "execution_count": null,
   "metadata": {},
   "outputs": [],
   "source": [
    "tbde = pd.DataFrame(((j, i) for j in 需要地 for i in 製品),\n",
    "                    columns=['需要地', '製品'])\n",
    "tbde['需要'] = [10, 10, 20, 20]\n",
    "tbde"
   ]
  },
  {
   "cell_type": "code",
   "execution_count": null,
   "metadata": {},
   "outputs": [],
   "source": [
    "tbfa = pd.DataFrame(((k, l, i, 0, np.inf) for k, nl in\n",
    "    zip(工場, レーン) for l in range(nl) for i in 製品),\n",
    "    columns=['工場', 'レーン', '製品', '下限', '上限'])\n",
    "tbfa['生産費'] = [1, np.nan, np.nan, 1, 3,  np.nan, 5, 3]\n",
    "tbfa.dropna(inplace=True)\n",
    "tbfa.loc[4, '上限'] = 10\n",
    "tbfa"
   ]
  },
  {
   "cell_type": "code",
   "execution_count": null,
   "metadata": {},
   "outputs": [],
   "source": [
    "from ortoolpy import logistics_network\n",
    "_, tbdi2, _ = logistics_network(tbde, tbdi, tbfa)"
   ]
  },
  {
   "cell_type": "code",
   "execution_count": null,
   "metadata": {},
   "outputs": [],
   "source": [
    "tbfa[tbfa.ValY > 0]"
   ]
  },
  {
   "cell_type": "code",
   "execution_count": null,
   "metadata": {},
   "outputs": [],
   "source": [
    "tbdi2[tbdi2.ValX > 0]"
   ]
  },
  {
   "cell_type": "markdown",
   "metadata": {},
   "source": [
    "### 7.6 ナンプレを解く"
   ]
  },
  {
   "cell_type": "code",
   "execution_count": null,
   "metadata": {},
   "outputs": [],
   "source": [
    "import re, pandas as pd\n",
    "from itertools import product\n",
    "from pulp import lpSum, value\n",
    "from ortoolpy import addbinvars, addvals, model_min\n",
    "\n",
    "s = ('. . 6 |. . . |. . 1 '\n",
    "     '. 7 . |. 6 . |. 5 . '\n",
    "     '8 . . |1 . 3 |2 . . '\n",
    "     '------+------+------'\n",
    "     '. . 5 |. 4 . |8 . . '\n",
    "     '. 4 . |7 . 2 |. 9 . '\n",
    "     '. . 8 |. 1 . |7 . . '\n",
    "     '------+------+------'\n",
    "     '. . 1 |2 . 5 |. . 3 '\n",
    "     '. 6 . |. 7 . |. 8 . '\n",
    "     '2 . . |. . . |4 . . ')\n",
    "data = re.sub(r'[^\\d.]','',s)  # 数字とドット以外を削除\n",
    "r = range(9)\n",
    "df = pd.DataFrame([(i,j,(i//3)*3+j//3,k+1,c==str(k+1))\n",
    "    for (i,j),c in zip(product(r,r),data) for k in r],\n",
    "    columns=['行', '列', '_3x3', '数', '固'])\n",
    "addbinvars(df)\n",
    "m = model_min()\n",
    "for cl in [['行', '列'], ['行', '数'], ['列', '数'],\n",
    "           ['_3x3', '数']]:\n",
    "    for _,v in df.groupby(cl):\n",
    "        m += lpSum(v.Var) == 1\n",
    "for _,r in df[df.固 == True].iterrows():\n",
    "    m += r.Var == 1\n",
    "m.solve()  # ソルバーで求解"
   ]
  },
  {
   "cell_type": "code",
   "execution_count": null,
   "metadata": {},
   "outputs": [],
   "source": [
    "addvals(df)\n",
    "print(df[df.Val > 0.5].数.values.reshape(9, 9))"
   ]
  },
  {
   "cell_type": "markdown",
   "metadata": {},
   "source": [
    "### 7.7 その他の最適化モデルのテクニック"
   ]
  },
  {
   "cell_type": "code",
   "execution_count": null,
   "metadata": {},
   "outputs": [],
   "source": [
    "import numpy as np\n",
    "from pulp import LpProblem, LpMaximize, lpSum, value\n",
    "from ortoolpy import (addvar, addvars, addbinvar, addbinvars,\n",
    "                      addlines, addlines_conv)\n",
    "m = LpProblem()  # 数理モデル\n",
    "var = addvars(10)  # 変数リスト"
   ]
  },
  {
   "cell_type": "markdown",
   "metadata": {},
   "source": [
    "#### 隣接制約"
   ]
  },
  {
   "cell_type": "code",
   "execution_count": null,
   "metadata": {},
   "outputs": [],
   "source": [
    "for x in [0, 2, 4]:\n",
    "    m = LpProblem()\n",
    "    y = addvar(lowBound=None)\n",
    "    m += y  # 目的関数（yの最小化）\n",
    "    m += y >= 2 - x\n",
    "    m += y >= -2 + x\n",
    "    m.solve()\n",
    "    print(f'x, y = {x}, {value(y)}')"
   ]
  },
  {
   "cell_type": "code",
   "execution_count": null,
   "metadata": {},
   "outputs": [],
   "source": [
    "M = 4 # 十分大きな数\n",
    "for x in [0, 2, 4]:\n",
    "    m = LpProblem()\n",
    "    y = addvar(lowBound=None)\n",
    "    z = addbinvar()  # 0-1変数\n",
    "    m += y  # 目的関数（yの最小化）\n",
    "    m += y >= 2 - x - M * z\n",
    "    m += y >= -2 + x - M * (1 - z)\n",
    "    m.solve()\n",
    "    print(f'x, y = {x}, {value(y)}')"
   ]
  },
  {
   "cell_type": "markdown",
   "metadata": {},
   "source": [
    "#### 区分線形近似（非凸）"
   ]
  },
  {
   "cell_type": "code",
   "execution_count": null,
   "metadata": {},
   "outputs": [],
   "source": [
    "M = 8\n",
    "for x in [0, 3, 8, 11, 15]:\n",
    "    m = LpProblem(sense=LpMaximize)\n",
    "    y = addvar()\n",
    "    m += y  # 目的関数\n",
    "    addlines(m, [(0,5), (3,2), (8,8), (11,5), (15,11)], x, y)\n",
    "    m.solve()\n",
    "    print(x, value(y))"
   ]
  },
  {
   "cell_type": "markdown",
   "metadata": {},
   "source": [
    "#### 区分線形近似（凸）"
   ]
  },
  {
   "cell_type": "code",
   "execution_count": null,
   "metadata": {},
   "outputs": [],
   "source": [
    "for x in [0, 3, 6, 9, 13]:\n",
    "    m = LpProblem(sense=LpMaximize)\n",
    "    y = addvar()\n",
    "    m += y  # 目的関数\n",
    "    addlines_conv(m, [(0,3), (3,8), (6,9), (9,8), (13,3)], x, y,\n",
    "                  upper=False)\n",
    "    m.solve()\n",
    "    print(x, value(y))"
   ]
  },
  {
   "cell_type": "markdown",
   "metadata": {},
   "source": [
    "#### if A then Bの制約条件\n",
    "\n",
    "ケース1：$if ~ y \\le 10 ~ then ~ y \\ge 2 x$"
   ]
  },
  {
   "cell_type": "code",
   "execution_count": null,
   "metadata": {},
   "outputs": [],
   "source": [
    "M = 10\n",
    "for x in [0, 5, 10]:\n",
    "    m = LpProblem()\n",
    "    y = addvar()\n",
    "    z = addbinvar()  # 0-1変数\n",
    "    m += y  # 目的関数\n",
    "    m += y >= 10 - M * z  # not A\n",
    "    m += y <= 10 + M * (1 - z)  # A\n",
    "    m += y >= 2 * x - M * (1 - z)  # B\n",
    "    m.solve()\n",
    "    print(x, value(y))"
   ]
  },
  {
   "cell_type": "markdown",
   "metadata": {},
   "source": [
    "ケース2：$if ~ x \\le 5 ~ then ~ y \\le 2 x$"
   ]
  },
  {
   "cell_type": "code",
   "execution_count": null,
   "metadata": {},
   "outputs": [],
   "source": [
    "M = 10\n",
    "for x in [0, 4, 5, 10]:\n",
    "    m = LpProblem(sense=LpMaximize)\n",
    "    y = addvar()\n",
    "    z = addbinvar()  # 0-1変数\n",
    "    m += y  # 目的関数\n",
    "    m += x >= 5 - M * z  # not A\n",
    "    m += x <= 5 + M * (1 - z)  # A\n",
    "    m += y <= 2 * x + M * (1 - z)  # B\n",
    "    m.solve()\n",
    "    print(x, value(y))"
   ]
  },
  {
   "cell_type": "markdown",
   "metadata": {},
   "source": [
    "ケース3：$if ~ x == 1 ~ then ~ y \\le 2$"
   ]
  },
  {
   "cell_type": "code",
   "execution_count": null,
   "metadata": {},
   "outputs": [],
   "source": [
    "M = 8  # 十分大きい数とする\n",
    "for x in [0, 1]:\n",
    "    m = LpProblem(sense=LpMaximize)\n",
    "    y = addvar(upBound=10)\n",
    "    m += y  # 目的関数\n",
    "    m += y <= 2 + M * (1 - x)\n",
    "    m.solve()\n",
    "    print(x, value(y))"
   ]
  },
  {
   "cell_type": "markdown",
   "metadata": {},
   "source": [
    "ケース4：$if ~ x == 1 ~ then ~ y = 2$"
   ]
  },
  {
   "cell_type": "code",
   "execution_count": null,
   "metadata": {},
   "outputs": [],
   "source": [
    "M = 8  # 十分大きい数とする\n",
    "for x in [0, 1]:\n",
    "    m = LpProblem(sense=LpMaximize)\n",
    "    y = addvar(upBound=10)\n",
    "    m += y  # 目的関数\n",
    "    m += y <= 2 + M * (1 - x)\n",
    "    m += y >= 2 - M * (1 - x)\n",
    "    m.solve()\n",
    "    print(x, value(y))"
   ]
  }
 ],
 "metadata": {
  "kernelspec": {
   "display_name": "Python 3",
   "language": "python",
   "name": "python3"
  },
  "language_info": {
   "codemirror_mode": {
    "name": "ipython",
    "version": 3
   },
   "file_extension": ".py",
   "mimetype": "text/x-python",
   "name": "python",
   "nbconvert_exporter": "python",
   "pygments_lexer": "ipython3",
   "version": "3.7.1"
  },
  "toc": {
   "nav_menu": {},
   "number_sections": false,
   "sideBar": true,
   "skip_h1_title": false,
   "toc_cell": false,
   "toc_position": {},
   "toc_section_display": "block",
   "toc_window_display": true
  },
  "varInspector": {
   "cols": {
    "lenName": 16,
    "lenType": 16,
    "lenVar": 40
   },
   "kernels_config": {
    "python": {
     "delete_cmd_postfix": "",
     "delete_cmd_prefix": "del ",
     "library": "var_list.py",
     "varRefreshCmd": "print(var_dic_list())"
    },
    "r": {
     "delete_cmd_postfix": ") ",
     "delete_cmd_prefix": "rm(",
     "library": "var_list.r",
     "varRefreshCmd": "cat(var_dic_list()) "
    }
   },
   "types_to_exclude": [
    "module",
    "function",
    "builtin_function_or_method",
    "instance",
    "_Feature"
   ],
   "window_display": false
  }
 },
 "nbformat": 4,
 "nbformat_minor": 2
}
