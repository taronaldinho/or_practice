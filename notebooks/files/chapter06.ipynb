{
 "cells": [
  {
   "cell_type": "markdown",
   "metadata": {},
   "source": [
    "## 第6章 NetworkX の使い方（グラフ）\n",
    "\n",
    "https://networkx.github.io/"
   ]
  },
  {
   "cell_type": "markdown",
   "metadata": {},
   "source": [
    "### 6.1 グラフとは\n",
    "\n",
    "[https://ja.wikipedia.org/wiki/グラフ (データ構造)](https://ja.wikipedia.org/wiki/グラフ %28データ構造%29)\n",
    "\n",
    "https://ja.wikipedia.org/wiki/グラフ理論"
   ]
  },
  {
   "cell_type": "markdown",
   "metadata": {},
   "source": [
    "### 6.2 グラフの種類\n",
    "\n",
    "**有向グラフと無向グラフについて**\n",
    "- **有向辺**\n",
    "- **無向辺**\n",
    "- **有向グラフ**\n",
    "- **無向グラフ**\n",
    "\n",
    "**単純グラフと多重グラフについて**\n",
    "\n",
    "- **自己ループ**\n",
    "  - https://ja.wikipedia.org/wiki/グラフ理論#ループと多重グラフ\n",
    "- **多重辺**\n",
    "- **単純グラフ**\n",
    "- **多重グラフ**\n",
    "\n",
    "\n",
    "**部分グラフとは**\n",
    "\n",
    "- https://ja.wikipedia.org/wiki/グラフ理論#部分グラフと拡大グラフ\n",
    "\n",
    "\n",
    "**完全グラフとは**\n",
    "\n",
    "- https://ja.wikipedia.org/wiki/完全グラフ\n",
    "\n",
    "\n",
    "**補グラフとは**\n",
    "\n",
    "- https://ja.wikipedia.org/wiki/補グラフ\n",
    "\n",
    "**2部グラフとは**\n",
    "\n",
    "- https://ja.wikipedia.org/wiki/2部グラフ\n",
    "\n",
    "\n",
    "**線グラフ**\n",
    "\n",
    "- https://en.wikipedia.org/wiki/Line_graph\n",
    "\n",
    "**連結グラフとは**\n",
    "\n",
    "- https://ja.wikipedia.org/wiki/連結グラフ\n",
    "\n",
    "**森と木とは**\n",
    "\n",
    "**有向非巡回グラフとは**\n",
    "\n",
    "- https://ja.wikipedia.org/wiki/有向非巡回グラフ\n",
    "\n"
   ]
  },
  {
   "cell_type": "markdown",
   "metadata": {},
   "source": [
    "### 6.3 グラフの用語\n",
    "\n",
    "**クリークとは**\n",
    "\n",
    "- [https://ja.wikipedia.org/wiki/クリーク_(グラフ理論)](https://ja.wikipedia.org/wiki/クリーク_%28グラフ理論%29)\n",
    "\n",
    "**歩道と路とパスとは**\n",
    "\n",
    "- [https://ja.wikipedia.org/wiki/道_(グラフ理論)](https://ja.wikipedia.org/wiki/道_%28グラフ理論%29)\n",
    "\n",
    "**閉路とサイクルとは**\n",
    "\n",
    "- https://ja.wikipedia.org/wiki/閉路\n",
    "\n",
    "**オイラー路とは**\n",
    "\n",
    "- https://ja.wikipedia.org/wiki/オイラー路\n",
    "\n",
    "**長さとは**\n",
    "\n",
    "**次数とは**\n",
    "\n",
    "- [https://ja.wikipedia.org/wiki/次数_(グラフ理論)](https://ja.wikipedia.org/wiki/次数_%28グラフ理論%29)\n",
    "\n",
    "**マッチングとは**\n",
    "\n",
    "- [https://ja.wikipedia.org/wiki/マッチング_(グラフ理論)](https://ja.wikipedia.org/wiki/マッチング_%28グラフ理論%29)\n",
    "\n",
    "**縮約とは**\n"
   ]
  },
  {
   "cell_type": "markdown",
   "metadata": {},
   "source": [
    "### 6.4 グラフの種類別の構築方法\n",
    "\n",
    " |無向グラフ|有向グラフ\n",
    ":--|:--|:--\n",
    "単純グラフ | Graph      | DiGraph\n",
    "多重グラフ | MultiGraph | MultiDiGraph\n"
   ]
  },
  {
   "cell_type": "code",
   "execution_count": null,
   "metadata": {},
   "outputs": [],
   "source": [
    "%matplotlib inline\n",
    "%config InlineBackend.figure_formats = {'png', 'retina'}\n",
    "import pandas as pd, networkx as nx, matplotlib.pyplot as plt\n",
    "plt.rcParams['figure.figsize'] = 5, 2\n",
    "dfnd = pd.read_csv('data/node0.csv')  # 頂点情報ファイル\n",
    "dfed = pd.read_csv('data/edge0.csv')  # 辺情報ファイル\n",
    "g = nx.Graph()  # グラフの作成\n",
    "for row in dfnd.itertuples(False):\n",
    "    dc = row._asdict()\n",
    "    g.add_node(dc['id'], **dc)\n",
    "for row in dfed.itertuples(False):\n",
    "    dc = row._asdict()\n",
    "    g.add_edge(dc['node1'], dc['node2'], **dc)\n",
    "nx.draw(g)"
   ]
  },
  {
   "cell_type": "code",
   "execution_count": null,
   "metadata": {},
   "outputs": [],
   "source": [
    "g.node[0]"
   ]
  },
  {
   "cell_type": "code",
   "execution_count": null,
   "metadata": {},
   "outputs": [],
   "source": [
    "g.edges[0, 1]"
   ]
  },
  {
   "cell_type": "code",
   "execution_count": null,
   "metadata": {},
   "outputs": [],
   "source": [
    "while True:\n",
    "    g = nx.fast_gnp_random_graph(10, 0.3)\n",
    "    if nx.is_connected(g):\n",
    "        break\n",
    "nx.draw_networkx(g)"
   ]
  },
  {
   "cell_type": "code",
   "execution_count": null,
   "metadata": {},
   "outputs": [],
   "source": [
    "g = nx.Graph()\n",
    "g.add_edge(0, 1, wa=1, wb=3)\n",
    "g.add_edge(1, 2, wa=2, wb=2)\n",
    "g.add_edge(0, 2, wa=3, wb=1)\n",
    "nx.minimum_spanning_tree(g, weight='wa').edges()"
   ]
  },
  {
   "cell_type": "code",
   "execution_count": null,
   "metadata": {},
   "outputs": [],
   "source": [
    "nx.minimum_spanning_tree(g, weight='wb').edges()"
   ]
  },
  {
   "cell_type": "code",
   "execution_count": null,
   "metadata": {},
   "outputs": [],
   "source": [
    "g = nx.Graph()\n",
    "g.add_edge(0, 1, capacity=10)\n",
    "g.add_edge(1, 2, capacity=20)\n",
    "nx.maximum_flow(g, 0, 2)"
   ]
  }
 ],
 "metadata": {
  "kernelspec": {
   "display_name": "Python 3",
   "language": "python",
   "name": "python3"
  },
  "language_info": {
   "codemirror_mode": {
    "name": "ipython",
    "version": 3
   },
   "file_extension": ".py",
   "mimetype": "text/x-python",
   "name": "python",
   "nbconvert_exporter": "python",
   "pygments_lexer": "ipython3",
   "version": "3.7.0"
  },
  "toc": {
   "nav_menu": {},
   "number_sections": false,
   "sideBar": true,
   "skip_h1_title": false,
   "toc_cell": false,
   "toc_position": {},
   "toc_section_display": "block",
   "toc_window_display": true
  },
  "varInspector": {
   "cols": {
    "lenName": 16,
    "lenType": 16,
    "lenVar": 40
   },
   "kernels_config": {
    "python": {
     "delete_cmd_postfix": "",
     "delete_cmd_prefix": "del ",
     "library": "var_list.py",
     "varRefreshCmd": "print(var_dic_list())"
    },
    "r": {
     "delete_cmd_postfix": ") ",
     "delete_cmd_prefix": "rm(",
     "library": "var_list.r",
     "varRefreshCmd": "cat(var_dic_list()) "
    }
   },
   "types_to_exclude": [
    "module",
    "function",
    "builtin_function_or_method",
    "instance",
    "_Feature"
   ],
   "window_display": false
  }
 },
 "nbformat": 4,
 "nbformat_minor": 2
}
