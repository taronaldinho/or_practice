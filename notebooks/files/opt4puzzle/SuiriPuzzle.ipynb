{
 "cells": [
  {
   "cell_type": "markdown",
   "metadata": {
    "cell_style": "split"
   },
   "source": [
    "<div style='float: right'><img src='pic/suiri.png'/></div>\n",
    "\n",
    "## <div id='suiri' />推理パズル"
   ]
  },
  {
   "cell_type": "code",
   "execution_count": null,
   "metadata": {
    "cell_style": "split"
   },
   "outputs": [],
   "source": [
    "#!pip3 install pulp ortoolpy\n",
    "import pandas as pd\n",
    "from pulp import LpProblem, lpSum, value\n",
    "from itertools import chain, product\n",
    "from ortoolpy import addbinvar\n",
    "kinds = [['明','勇','正','洋'],\n",
    "         ['傘','靴','紙','糸'],\n",
    "         ['赤','青','白','黒']]\n",
    "data = [s.split(',') for s in \"\"\"\\\n",
    "1,明,,白\n",
    "0,明,糸,\n",
    "1,,紙,青\n",
    "0,勇,紙,\n",
    "1,正,靴,\n",
    "0,正,,赤\"\"\".splitlines()]"
   ]
  },
  {
   "cell_type": "markdown",
   "metadata": {},
   "source": [
    "### 問題\n",
    "* 3つの組(kinds)を入力し、各組間の対応を求めます\n",
    "* ヒント(data)の意味\n",
    "    * 明は白いのを買った\n",
    "    * 明は糸じゃない\n",
    "    * 青い紙を買った人がいる\n",
    "    * 勇は紙じゃない\n",
    "    * 正は靴を買った\n",
    "    * 正は赤じゃない\n",
    "\n",
    "### 変数\n",
    "* $v_{ijk}$: 表iの位置(j,k) (1)\n",
    "\n",
    "### 制約\n",
    "* 縦横で丸は1つ (2)\n",
    "* AかつB、BかつCなら、CかつA (3)\n",
    "* ヒントを満たすこと (4)"
   ]
  },
  {
   "cell_type": "code",
   "execution_count": null,
   "metadata": {},
   "outputs": [],
   "source": [
    "a1 = pd.DataFrame((s0,s1,'',addbinvar()) for s0,s1 in product(kinds[0],kinds[1]))\n",
    "a2 = pd.DataFrame((s0,'',s2,addbinvar()) for s0,s2 in product(kinds[0],kinds[2]))\n",
    "a3 = pd.DataFrame(('',s1,s2,addbinvar()) for s1,s2 in product(kinds[1],kinds[2]))\n",
    "a = pd.concat([a1,a2,a3])\n",
    "a1.columns = a2.columns = a3.columns = a.columns = ['人','物','色','Var']\n",
    "a[:2]"
   ]
  },
  {
   "cell_type": "code",
   "execution_count": null,
   "metadata": {},
   "outputs": [],
   "source": [
    "m = LpProblem()\n",
    "for a0,c1,c2 in [(a1,'人','物'),(a2,'人','色'),(a3,'物','色')]:\n",
    "    for _,v in chain(a0.groupby(c1),a0.groupby(c2)):\n",
    "        m += lpSum(v.Var) == 1\n",
    "for s1,s2,s3 in product(*kinds):\n",
    "    vlst = [a1.query(f'人==\"{s1}\"&物==\"{s2}\"').Var.iloc[0],\n",
    "            a2.query(f'人==\"{s1}\"&色==\"{s3}\"').Var.iloc[0],\n",
    "            a3.query(f'物==\"{s2}\"&色==\"{s3}\"').Var.iloc[0]]\n",
    "    for v in vlst:\n",
    "        m += lpSum(vlst) <= 1+2*v\n",
    "for c,s1,s2,s3 in data:\n",
    "    m += a.query(f'人==\"{s1}\"&物==\"{s2}\"&色==\"{s3}\"').Var.iloc[0] == int(c)\n",
    "m.solve()"
   ]
  },
  {
   "cell_type": "code",
   "execution_count": null,
   "metadata": {},
   "outputs": [],
   "source": [
    "a1['Val'] = a1.Var.apply(value)\n",
    "a2['Val'] = a2.Var.apply(value)\n",
    "a1.loc[a1.Val>0.5,['人','物']].merge(a2.loc[a2.Val>0.5,['人','色']])"
   ]
  }
 ],
 "metadata": {
  "anaconda-cloud": {},
  "kernelspec": {
   "display_name": "Python 3",
   "language": "python",
   "name": "python3"
  },
  "language_info": {
   "codemirror_mode": {
    "name": "ipython",
    "version": 3
   },
   "file_extension": ".py",
   "mimetype": "text/x-python",
   "name": "python",
   "nbconvert_exporter": "python",
   "pygments_lexer": "ipython3",
   "version": "3.6.6"
  },
  "toc": {
   "nav_menu": {},
   "number_sections": false,
   "sideBar": true,
   "skip_h1_title": false,
   "toc_cell": false,
   "toc_position": {},
   "toc_section_display": "block",
   "toc_window_display": false
  },
  "varInspector": {
   "cols": {
    "lenName": 16,
    "lenType": 16,
    "lenVar": 40
   },
   "kernels_config": {
    "python": {
     "delete_cmd_postfix": "",
     "delete_cmd_prefix": "del ",
     "library": "var_list.py",
     "varRefreshCmd": "print(var_dic_list())"
    },
    "r": {
     "delete_cmd_postfix": ") ",
     "delete_cmd_prefix": "rm(",
     "library": "var_list.r",
     "varRefreshCmd": "cat(var_dic_list()) "
    }
   },
   "types_to_exclude": [
    "module",
    "function",
    "builtin_function_or_method",
    "instance",
    "_Feature"
   ],
   "window_display": false
  }
 },
 "nbformat": 4,
 "nbformat_minor": 1
}
