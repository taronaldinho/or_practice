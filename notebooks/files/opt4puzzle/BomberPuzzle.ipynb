{
 "cells": [
  {
   "cell_type": "markdown",
   "metadata": {
    "cell_style": "split"
   },
   "source": [
    "<div style='float: right'><img src='pic/bomber.png'/></div>\n",
    "\n",
    "## <div id='building' />ボンバーパズル"
   ]
  },
  {
   "cell_type": "code",
   "execution_count": null,
   "metadata": {
    "cell_style": "split"
   },
   "outputs": [],
   "source": [
    "#!pip3 install pulp ortoolpy\n",
    "import numpy as np, pandas as pd\n",
    "from pulp import LpProblem, lpSum, value\n",
    "from ortoolpy import addbinvars\n",
    "data = \"\"\"\\\n",
    "12..1\n",
    "..3.1\n",
    ".4.3.\n",
    "..4.2\n",
    "22..2\"\"\".splitlines()"
   ]
  },
  {
   "cell_type": "markdown",
   "metadata": {},
   "source": [
    "### 問題\n",
    "* 各数字は周りのマスの●の数\n",
    "\n",
    "### 変数\n",
    "* v：●があるか (1)\n",
    "\n",
    "### 制約\n",
    "* 周りの数と同じ (2)\n",
    "* 数字に●は置かない (3)"
   ]
  },
  {
   "cell_type": "code",
   "execution_count": null,
   "metadata": {},
   "outputs": [],
   "source": [
    "ni,nj = len(data),len(data[0])\n",
    "a = pd.DataFrame([(i,j,data[i][j]) for i in range(ni)\n",
    "    for j in range(nj)], columns=list('行列字'))\n",
    "a['Var'] = addbinvars(len(a))\n",
    "a.loc[a.字!='.','Var'] = 0\n",
    "a[:2]"
   ]
  },
  {
   "cell_type": "code",
   "execution_count": null,
   "metadata": {},
   "outputs": [],
   "source": [
    "m = LpProblem()\n",
    "for i in range(ni):\n",
    "    for j in range(nj):\n",
    "        if data[i][j].isdigit():\n",
    "            q = f'{i-1}<=行<={i+1}&{j-1}<=列<={j+1}'\n",
    "            m += lpSum(a.query(q).Var) == int(data[i][j]) # (1)\n",
    "m.solve()"
   ]
  },
  {
   "cell_type": "code",
   "execution_count": null,
   "metadata": {},
   "outputs": [],
   "source": [
    "a['Val'] = a.Var.apply(value)\n",
    "a.loc[a.Val>0.5,'字'] = '#'\n",
    "print('\\n'.join(' '.join(c) for c in a.字.values.reshape(ni,nj)))"
   ]
  }
 ],
 "metadata": {
  "anaconda-cloud": {},
  "kernelspec": {
   "display_name": "Python 3",
   "language": "python",
   "name": "python3"
  },
  "language_info": {
   "codemirror_mode": {
    "name": "ipython",
    "version": 3
   },
   "file_extension": ".py",
   "mimetype": "text/x-python",
   "name": "python",
   "nbconvert_exporter": "python",
   "pygments_lexer": "ipython3",
   "version": "3.6.6"
  },
  "toc": {
   "nav_menu": {},
   "number_sections": false,
   "sideBar": true,
   "skip_h1_title": false,
   "toc_cell": false,
   "toc_position": {},
   "toc_section_display": "block",
   "toc_window_display": false
  },
  "varInspector": {
   "cols": {
    "lenName": 16,
    "lenType": 16,
    "lenVar": 40
   },
   "kernels_config": {
    "python": {
     "delete_cmd_postfix": "",
     "delete_cmd_prefix": "del ",
     "library": "var_list.py",
     "varRefreshCmd": "print(var_dic_list())"
    },
    "r": {
     "delete_cmd_postfix": ") ",
     "delete_cmd_prefix": "rm(",
     "library": "var_list.r",
     "varRefreshCmd": "cat(var_dic_list()) "
    }
   },
   "types_to_exclude": [
    "module",
    "function",
    "builtin_function_or_method",
    "instance",
    "_Feature"
   ],
   "window_display": false
  }
 },
 "nbformat": 4,
 "nbformat_minor": 2
}
