{
 "cells": [
  {
   "cell_type": "markdown",
   "metadata": {
    "cell_style": "split"
   },
   "source": [
    "<div style='float: right'><img src='pic/kakkuro.png'/></div>\n",
    "\n",
    "## <div id='kakkuro' />カックロ"
   ]
  },
  {
   "cell_type": "code",
   "execution_count": null,
   "metadata": {
    "cell_style": "split"
   },
   "outputs": [],
   "source": [
    "#!pip3 install pulp ortoolpy\n",
    "import re, numpy as np, pandas as pd\n",
    "from pulp import LpProblem, lpDot, lpSum, value\n",
    "from ortoolpy import addvar, addvars, addbinvar, addbinvars\n",
    "data = \"\"\"\\\n",
    "#..##\n",
    "....#\n",
    "..#..\n",
    "#....\n",
    "##..#\"\"\".splitlines()\n",
    "hint_v = [ # 開始行、開始列、個数、合計\n",
    "    (0,1,4,11),\n",
    "    (0,2,2,4),\n",
    "    (1,0,2,14),\n",
    "    (1,3,4,10),\n",
    "    (2,4,2,3),\n",
    "    (3,2,2,3),\n",
    "]\n",
    "hint_h = [ # 開始行、開始列、個数、合計\n",
    "    (0,1,2,5),\n",
    "    (1,0,4,17),\n",
    "    (2,0,2,6),\n",
    "    (2,3,2,4),\n",
    "    (3,1,4,10),\n",
    "    (4,2,2,3),\n",
    "]"
   ]
  },
  {
   "cell_type": "markdown",
   "metadata": {},
   "source": [
    "### 問題\n",
    "* マスに 1～9 の数字を入れます\n",
    "* 縦または横に連続する空マスの中に同じ数字は入りません\n",
    "* 連続するマスの合計が示されます\n",
    "\n",
    "### 定式化\n",
    "\\begin{array}{cl}\n",
    "            変数 & v_{ijk} \\in \\{0, 1\\} ~ \\forall i, j, k ~ ~ ~ マスi,jが数字k+1か (1) \\\\\n",
    "                 & r_{ij} \\in Z ~ \\forall i, j ~ ~ ~ ~ ~ マスi,jの数字 (2) \\\\\n",
    "\\mbox{subject to} & \\sum_k{v_{ijk}} = 1 ~ \\forall i, j ~ ~ ~ ~ 数字は1つ (3) \\\\\n",
    "                 & \\sum_k{k \\times v_{ijk}} + 1 = r_{ij} ~ \\forall i, j ~ ~ ~ rをvで表現 (4) \\\\\n",
    "                 & \\sum_{ij}{r_{ij}} = 合計 ~ \\forall i, j ~ ~ ~ ~ ~ マスの合計が同じ (5) \\\\\n",
    "                 & マスの並びで同じ数字は禁止 (6) \\\\\n",
    "\\end{array}"
   ]
  },
  {
   "cell_type": "code",
   "execution_count": null,
   "metadata": {},
   "outputs": [],
   "source": [
    "ni,nj = len(data),len(data[0])\n",
    "a = pd.DataFrame([(i,j,k) for i in range(ni) for j in range(nj)\n",
    "    if data[i][j]=='.' for k in range(1,10)], columns=list('行列数'))\n",
    "a['Var'] = addbinvars(len(a))\n",
    "a[:2]"
   ]
  },
  {
   "cell_type": "code",
   "execution_count": null,
   "metadata": {},
   "outputs": [],
   "source": [
    "m = LpProblem()\n",
    "for _,v in a.groupby(['行','列']):\n",
    "    m += lpSum(v.Var) == 1 # (1)\n",
    "for (di,dj),hint in zip([(1,0),(0,1)],[hint_v,hint_h]):\n",
    "    for si,sj,nl,sm in hint:\n",
    "        b = a.query(f'{si}<=行<={si+nl*di}&{sj}<=列<={sj+nl*dj}')[['数','Var']]\n",
    "        for _,v in b.groupby('数'):\n",
    "            m += lpSum(v.Var) <= 1 # (2)\n",
    "        m += lpDot(*b.T.values) == sm # (3)\n",
    "m.solve()"
   ]
  },
  {
   "cell_type": "code",
   "execution_count": null,
   "metadata": {},
   "outputs": [],
   "source": [
    "a['Val'] = a.Var.apply(value)\n",
    "r = a[a.Val>0.5].数[::-1].tolist()\n",
    "print(re.sub('\\\\.', lambda _: str(r.pop()), '\\n'.join(data)))"
   ]
  }
 ],
 "metadata": {
  "anaconda-cloud": {},
  "kernelspec": {
   "display_name": "Python 3",
   "language": "python",
   "name": "python3"
  },
  "language_info": {
   "codemirror_mode": {
    "name": "ipython",
    "version": 3
   },
   "file_extension": ".py",
   "mimetype": "text/x-python",
   "name": "python",
   "nbconvert_exporter": "python",
   "pygments_lexer": "ipython3",
   "version": "3.6.6"
  },
  "toc": {
   "nav_menu": {},
   "number_sections": false,
   "sideBar": true,
   "skip_h1_title": false,
   "toc_cell": false,
   "toc_position": {},
   "toc_section_display": "block",
   "toc_window_display": false
  },
  "varInspector": {
   "cols": {
    "lenName": 16,
    "lenType": 16,
    "lenVar": 40
   },
   "kernels_config": {
    "python": {
     "delete_cmd_postfix": "",
     "delete_cmd_prefix": "del ",
     "library": "var_list.py",
     "varRefreshCmd": "print(var_dic_list())"
    },
    "r": {
     "delete_cmd_postfix": ") ",
     "delete_cmd_prefix": "rm(",
     "library": "var_list.r",
     "varRefreshCmd": "cat(var_dic_list()) "
    }
   },
   "types_to_exclude": [
    "module",
    "function",
    "builtin_function_or_method",
    "instance",
    "_Feature"
   ],
   "window_display": false
  }
 },
 "nbformat": 4,
 "nbformat_minor": 1
}
