{
 "cells": [
  {
   "cell_type": "markdown",
   "metadata": {
    "cell_style": "split"
   },
   "source": [
    "<div style='float: right'><img src='pic/wall.png'/></div>\n",
    "\n",
    "## <div id='wall' />ウォールロジック"
   ]
  },
  {
   "cell_type": "code",
   "execution_count": null,
   "metadata": {
    "cell_style": "split"
   },
   "outputs": [],
   "source": [
    "#!pip3 install pulp ortoolpy\n",
    "import pandas as pd\n",
    "from itertools import product\n",
    "from pulp import LpProblem, lpSum, lpDot, value\n",
    "from ortoolpy import addvars, addbinvars\n",
    "data = \"\"\"\\\n",
    "4..1..\n",
    ".4..2.\n",
    "..2..2\n",
    "1..1..\n",
    ".1..1.\n",
    "..3..2\"\"\".split()"
   ]
  },
  {
   "cell_type": "markdown",
   "metadata": {},
   "source": [
    "### 問題\n",
    "* 数字が記入されているマスからその数字の数だけ縦と横に線を引きます\n",
    "* 1つのマスには1本の線しか引くことができません\n",
    "* 数字が記入されているマスには線を引くことができません\n",
    "\n",
    "### 変数\n",
    "* v：各位置のどの方向か  (1)\n",
    "* r：各位置の方向別長さ  (2)\n",
    "\n",
    "### 制約\n",
    "* 数字があれば、方向別長さの和に等しく、かつその位置に矢印がないこと  (3)\n",
    "* 数字がなければ矢印は1方向のみ  (4)\n",
    "* 数字がなければ矢印の方向に長さを1足すこと  (5)"
   ]
  },
  {
   "cell_type": "code",
   "execution_count": null,
   "metadata": {},
   "outputs": [],
   "source": [
    "ni, nj = len(data), len(data[0])\n",
    "mx = max(ni, nj)\n",
    "a = pd.DataFrame([(i,j,k) for i,j,k in product(range(ni),\n",
    "    range(nj),range(4))], columns=list('行列向'))\n",
    "a['VDir'] = addbinvars(len(a))\n",
    "a['VLen'] = addvars(len(a))\n",
    "a[:2]"
   ]
  },
  {
   "cell_type": "code",
   "execution_count": null,
   "metadata": {},
   "outputs": [],
   "source": [
    "drc = [(-1, 0, 0), (0, -1, 1), (0, 1, 2), (1, 0, 3)]\n",
    "m = LpProblem()\n",
    "for i,j in product(range(ni), range(nj)):\n",
    "    b = a[(a.行==i)&(a.列==j)]\n",
    "    if data[i][j].isdigit():\n",
    "        m += lpSum(a[(a.行==i+y)&(a.列==j+x)&(a.向==k)].VLen\n",
    "                   for y,x,k in drc) == int(data[i][j]) # (1)\n",
    "        m += lpSum(b.VLen) == 0 # (1)\n",
    "        continue\n",
    "    m += lpSum(b.VDir) == 1 # (2)\n",
    "    for y,x,k in drc:\n",
    "        r = b[b.向==k].iloc[0]\n",
    "        m += r.VLen <= mx * r.VDir # (3)\n",
    "        m += r.VLen <= r.VDir + lpSum(\n",
    "            a[(a.行==i+y)&(a.列==j+x)&(a.向==k)].VLen) # (3)\n",
    "m.solve()"
   ]
  },
  {
   "cell_type": "code",
   "execution_count": null,
   "metadata": {},
   "outputs": [],
   "source": [
    "a['Val'] = a.VDir.apply(value)\n",
    "print('\\n'.join(''.join(' '+(data[i][j] if data[i][j].isdigit()\n",
    "    else '↑←→↓'[int(value(lpDot([0,1,2,3],a[(a.行==i)&(a.列==j)].Val)))])\n",
    "    for j in range(ni)) for i in range(nj)))"
   ]
  }
 ],
 "metadata": {
  "anaconda-cloud": {},
  "kernelspec": {
   "display_name": "Python 3",
   "language": "python",
   "name": "python3"
  },
  "language_info": {
   "codemirror_mode": {
    "name": "ipython",
    "version": 3
   },
   "file_extension": ".py",
   "mimetype": "text/x-python",
   "name": "python",
   "nbconvert_exporter": "python",
   "pygments_lexer": "ipython3",
   "version": "3.6.6"
  },
  "toc": {
   "nav_menu": {},
   "number_sections": false,
   "sideBar": true,
   "skip_h1_title": false,
   "toc_cell": false,
   "toc_position": {},
   "toc_section_display": "block",
   "toc_window_display": false
  },
  "varInspector": {
   "cols": {
    "lenName": 16,
    "lenType": 16,
    "lenVar": 40
   },
   "kernels_config": {
    "python": {
     "delete_cmd_postfix": "",
     "delete_cmd_prefix": "del ",
     "library": "var_list.py",
     "varRefreshCmd": "print(var_dic_list())"
    },
    "r": {
     "delete_cmd_postfix": ") ",
     "delete_cmd_prefix": "rm(",
     "library": "var_list.r",
     "varRefreshCmd": "cat(var_dic_list()) "
    }
   },
   "types_to_exclude": [
    "module",
    "function",
    "builtin_function_or_method",
    "instance",
    "_Feature"
   ],
   "window_display": false
  }
 },
 "nbformat": 4,
 "nbformat_minor": 1
}
