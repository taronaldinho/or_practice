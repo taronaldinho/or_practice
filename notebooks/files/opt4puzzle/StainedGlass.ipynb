{
 "cells": [
  {
   "cell_type": "markdown",
   "metadata": {
    "cell_style": "split"
   },
   "source": [
    "<div style='float: right'><img src='pic/stainedglass.png'/></div>\n",
    "\n",
    "## <div id='stainedglass' />ステンドグラス"
   ]
  },
  {
   "cell_type": "code",
   "execution_count": null,
   "metadata": {
    "cell_style": "split"
   },
   "outputs": [],
   "source": [
    "#!pip3 install pulp ortoolpy\n",
    "from pulp import LpProblem, lpSum, value\n",
    "from ortoolpy import addbinvars\n",
    "npi = 11 # ピース数\n",
    "hint = [s.split(',') for s in \"\"\"\\\n",
    "W,0,1,2\n",
    "W,0,3\n",
    "B,0,1,3,4,5\n",
    "B,1,5\n",
    "B,1,2,5,6\n",
    "W,3,4,7\n",
    "G,5,6,9,10\n",
    "G,5,7,8,10\"\"\".splitlines()]"
   ]
  },
  {
   "cell_type": "markdown",
   "metadata": {
    "cell_style": "split"
   },
   "source": [
    "### 問題\n",
    "* 線で区切られた部分（ピース）のいくつかを黒くぬります\n",
    "* 小さな丸は、その丸が接している周囲のピースのうち、黒ピースと白ピースのどちらの数が多いかを表します\n",
    "* 黒丸なら黒ピースの方が多く、白丸なら白ピースの方が多く、灰色の丸は、同数となります"
   ]
  },
  {
   "cell_type": "markdown",
   "metadata": {
    "cell_style": "split"
   },
   "source": [
    "### 変数\n",
    "* v：パネルごとに黒く塗るかどうか (1)\n",
    "\n",
    "### 制約\n",
    "* 白丸、黒丸、灰色丸ごとに設定 (2)"
   ]
  },
  {
   "cell_type": "code",
   "execution_count": null,
   "metadata": {},
   "outputs": [],
   "source": [
    "m = LpProblem() # 数理モデル\n",
    "v = addbinvars(npi) # 変数(黒かどうか)\n",
    "for c,*lst in hint:\n",
    "    vlst = [v[int(i)] for i in lst] # 周囲のピースの変数\n",
    "    if c == 'W':\n",
    "        m += lpSum(vlst) <= (len(vlst) - 1) // 2\n",
    "    elif c == 'B':\n",
    "        m += lpSum(vlst) >= (len(vlst) + 2) // 2\n",
    "    else:\n",
    "        m += lpSum(vlst) == len(vlst) // 2\n",
    "m.solve()"
   ]
  },
  {
   "cell_type": "code",
   "execution_count": null,
   "metadata": {},
   "outputs": [],
   "source": [
    "print('black:', [i for i in range(npi) if value(v[i])>0.5])"
   ]
  }
 ],
 "metadata": {
  "anaconda-cloud": {},
  "kernelspec": {
   "display_name": "Python 3",
   "language": "python",
   "name": "python3"
  },
  "language_info": {
   "codemirror_mode": {
    "name": "ipython",
    "version": 3
   },
   "file_extension": ".py",
   "mimetype": "text/x-python",
   "name": "python",
   "nbconvert_exporter": "python",
   "pygments_lexer": "ipython3",
   "version": "3.6.6"
  },
  "toc": {
   "nav_menu": {},
   "number_sections": false,
   "sideBar": true,
   "skip_h1_title": false,
   "toc_cell": false,
   "toc_position": {},
   "toc_section_display": "block",
   "toc_window_display": false
  },
  "varInspector": {
   "cols": {
    "lenName": 16,
    "lenType": 16,
    "lenVar": 40
   },
   "kernels_config": {
    "python": {
     "delete_cmd_postfix": "",
     "delete_cmd_prefix": "del ",
     "library": "var_list.py",
     "varRefreshCmd": "print(var_dic_list())"
    },
    "r": {
     "delete_cmd_postfix": ") ",
     "delete_cmd_prefix": "rm(",
     "library": "var_list.r",
     "varRefreshCmd": "cat(var_dic_list()) "
    }
   },
   "types_to_exclude": [
    "module",
    "function",
    "builtin_function_or_method",
    "instance",
    "_Feature"
   ],
   "window_display": false
  }
 },
 "nbformat": 4,
 "nbformat_minor": 2
}
