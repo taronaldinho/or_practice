{
 "cells": [
  {
   "cell_type": "markdown",
   "metadata": {
    "cell_style": "split"
   },
   "source": [
    "<div style='float: right'><img src='pic/chokona.png'/></div>\n",
    "\n",
    "## <div id='chokona' />チョコナ"
   ]
  },
  {
   "cell_type": "code",
   "execution_count": null,
   "metadata": {
    "cell_style": "split"
   },
   "outputs": [],
   "source": [
    "#!pip3 install pulp ortoolpy\n",
    "%matplotlib inline\n",
    "import pandas as pd, matplotlib.pyplot as plt\n",
    "from pulp import LpProblem, lpSum, value\n",
    "from ortoolpy import addbinvars\n",
    "data = \"\"\"\\\n",
    "3.3...\n",
    ".1....\n",
    "22.21.\n",
    "......\n",
    "....3.\n",
    ".2....\"\"\".splitlines()\n",
    "area = \"\"\"\\\n",
    "001111\n",
    "022222\n",
    "345677\n",
    "345677\n",
    "355899\n",
    "3aa889\"\"\".splitlines()"
   ]
  },
  {
   "cell_type": "markdown",
   "metadata": {},
   "source": [
    "### 問題\n",
    "- 国(太線で区切られた部分)の数は、国内の黒マスの合計とする。国の数がない場合はいくつでもよい。\n",
    "- 黒マスの連なりは、長方形とする。\n",
    "\n",
    "### 変数\n",
    "* v：各マスが黒か  (1)\n",
    "\n",
    "### 制約\n",
    "* 数字が国の黒数と等しい  (2)\n",
    "* 任意の2x2で黒数が3でない  (3)"
   ]
  },
  {
   "cell_type": "code",
   "execution_count": null,
   "metadata": {
    "cell_style": "center"
   },
   "outputs": [],
   "source": [
    "ni, nj = len(data), len(data[0])\n",
    "a = pd.DataFrame([(i,j,data[i][j],area[i][j]) for i in range(ni)\n",
    "    for j in range(nj)], columns=list('行列字国'))\n",
    "a.字 = a.字.apply(lambda c: int(c) if c.isdigit() else 0)\n",
    "a['Var'] = addbinvars(len(a))\n",
    "a[:2]"
   ]
  },
  {
   "cell_type": "code",
   "execution_count": null,
   "metadata": {},
   "outputs": [],
   "source": [
    "m = LpProblem()\n",
    "for g,v in a.groupby('国'):\n",
    "    if v.字.sum():\n",
    "        m += lpSum(v.Var) == v.字.sum()\n",
    "for i in range(ni-1):\n",
    "    for j in range(nj-1):\n",
    "        v = a.query(f'{i}<=行<={i+1}&{j}<=列<={j+1}').Var\n",
    "        for x in v:\n",
    "            m += lpSum(v) <= 2+2*x\n",
    "m.solve()"
   ]
  },
  {
   "cell_type": "code",
   "execution_count": null,
   "metadata": {},
   "outputs": [],
   "source": [
    "a['Val'] = a.Var.apply(value)\n",
    "plt.imshow((a.Val<0.5).values.reshape(ni,nj), cmap='gray', interpolation='none');"
   ]
  }
 ],
 "metadata": {
  "anaconda-cloud": {},
  "kernelspec": {
   "display_name": "Python 3",
   "language": "python",
   "name": "python3"
  },
  "language_info": {
   "codemirror_mode": {
    "name": "ipython",
    "version": 3
   },
   "file_extension": ".py",
   "mimetype": "text/x-python",
   "name": "python",
   "nbconvert_exporter": "python",
   "pygments_lexer": "ipython3",
   "version": "3.6.6"
  },
  "toc": {
   "nav_menu": {},
   "number_sections": false,
   "sideBar": true,
   "skip_h1_title": false,
   "toc_cell": false,
   "toc_position": {},
   "toc_section_display": "block",
   "toc_window_display": false
  },
  "varInspector": {
   "cols": {
    "lenName": 16,
    "lenType": 16,
    "lenVar": 40
   },
   "kernels_config": {
    "python": {
     "delete_cmd_postfix": "",
     "delete_cmd_prefix": "del ",
     "library": "var_list.py",
     "varRefreshCmd": "print(var_dic_list())"
    },
    "r": {
     "delete_cmd_postfix": ") ",
     "delete_cmd_prefix": "rm(",
     "library": "var_list.r",
     "varRefreshCmd": "cat(var_dic_list()) "
    }
   },
   "types_to_exclude": [
    "module",
    "function",
    "builtin_function_or_method",
    "instance",
    "_Feature"
   ],
   "window_display": false
  }
 },
 "nbformat": 4,
 "nbformat_minor": 1
}
