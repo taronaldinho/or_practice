{
 "cells": [
  {
   "cell_type": "markdown",
   "metadata": {
    "cell_style": "split"
   },
   "source": [
    "<div style='float: right'><img src='pic/paint.png'/></div>\n",
    "\n",
    "## <div id='paint' />ペイントエリア"
   ]
  },
  {
   "cell_type": "code",
   "execution_count": null,
   "metadata": {
    "cell_style": "split"
   },
   "outputs": [],
   "source": [
    "#!pip3 install pulp ortoolpy\n",
    "%matplotlib inline\n",
    "import pandas as pd, matplotlib.pyplot as plt\n",
    "from pulp import LpProblem, lpSum, value\n",
    "from ortoolpy import addbinvars, unionfind\n",
    "data = \"\"\"\\\n",
    "AABBC\n",
    "DEFBC\n",
    "DGFHH\n",
    "DGIJH\n",
    "KKLJH\"\"\".splitlines()\n",
    "nums = [[0,1,3], [3,2,2], [4,1,1]]"
   ]
  },
  {
   "cell_type": "markdown",
   "metadata": {},
   "source": [
    "### 問題\n",
    "* 盤面上にある、太線で区切られた部分（タイル）のいくつかを黒くぬります\n",
    "* 盤面の数字は、その数字の入っているマスにタテヨコに隣り合うマスのうち、黒マスになるマスの数を表します\n",
    "* 数字のマスが黒マスになることもあります\n",
    "* どのタイルも、すべてのマスをぬるかすべてのマスをぬらずにおくかのどちらとし、タイルの一部のマスだけをぬってはいけません\n",
    "* すべての黒マスはつながること\n",
    "* 黒白マスとも、２×２以上はだめ\n",
    "\n",
    "### 変数\n",
    "* v：0:white, 1:black (1)\n",
    "\n",
    "### 制約\n",
    "* 2×2の黒がないこと (2)\n",
    "* タイル内は同じこと (3)\n",
    "* 数字は周りの黒の数と等しいこと (4)\n",
    "* 全ての黒がつながること (5)"
   ]
  },
  {
   "cell_type": "code",
   "execution_count": null,
   "metadata": {},
   "outputs": [],
   "source": [
    "ni, nj = len(data), len(data[0])\n",
    "a = pd.DataFrame([(i,j,data[i][j]) for i in range(ni)\n",
    "    for j in range(nj)], columns=list('行列字'))\n",
    "a['Var'] = addbinvars(len(a))\n",
    "a[:2]"
   ]
  },
  {
   "cell_type": "code",
   "execution_count": null,
   "metadata": {},
   "outputs": [],
   "source": [
    "m = LpProblem()\n",
    "for i in range(ni-1):\n",
    "    for j in range(nj-1):\n",
    "        e = lpSum(a.query(f'{i}<=行<={i+1}&{j}<=列<={j+1}').Var)\n",
    "        m += e >= 1 # 2×2の白がない\n",
    "        m += e <= 3 # 2×2の黒がない\n",
    "for _,v in a.groupby('字'):\n",
    "    for vi, vj in zip(v.Var, v.Var[1:]):\n",
    "        m += vi == vj # タイル内は同じ\n",
    "for i, j, k in nums: # 数字は周りの黒の数と等しい\n",
    "    m += lpSum(a.query(f'abs(行-{i})+abs(列-{j})==1').Var) == k\n",
    "while True:\n",
    "    m.solve()\n",
    "    r = a.Var.apply(value)\n",
    "    if unionfind.isconnected(r.values.reshape(ni,nj)):\n",
    "        break # 全ての黒がつながる\n",
    "    m += lpSum(a[r==0].Var) >= 1"
   ]
  },
  {
   "cell_type": "code",
   "execution_count": null,
   "metadata": {},
   "outputs": [],
   "source": [
    "plt.imshow((1-r).values.reshape(ni,nj), cmap='gray', interpolation='none');"
   ]
  }
 ],
 "metadata": {
  "anaconda-cloud": {},
  "kernelspec": {
   "display_name": "Python 3",
   "language": "python",
   "name": "python3"
  },
  "language_info": {
   "codemirror_mode": {
    "name": "ipython",
    "version": 3
   },
   "file_extension": ".py",
   "mimetype": "text/x-python",
   "name": "python",
   "nbconvert_exporter": "python",
   "pygments_lexer": "ipython3",
   "version": "3.6.6"
  },
  "toc": {
   "nav_menu": {},
   "number_sections": false,
   "sideBar": true,
   "skip_h1_title": false,
   "toc_cell": false,
   "toc_position": {},
   "toc_section_display": "block",
   "toc_window_display": false
  },
  "varInspector": {
   "cols": {
    "lenName": 16,
    "lenType": 16,
    "lenVar": 40
   },
   "kernels_config": {
    "python": {
     "delete_cmd_postfix": "",
     "delete_cmd_prefix": "del ",
     "library": "var_list.py",
     "varRefreshCmd": "print(var_dic_list())"
    },
    "r": {
     "delete_cmd_postfix": ") ",
     "delete_cmd_prefix": "rm(",
     "library": "var_list.r",
     "varRefreshCmd": "cat(var_dic_list()) "
    }
   },
   "types_to_exclude": [
    "module",
    "function",
    "builtin_function_or_method",
    "instance",
    "_Feature"
   ],
   "window_display": false
  }
 },
 "nbformat": 4,
 "nbformat_minor": 1
}
