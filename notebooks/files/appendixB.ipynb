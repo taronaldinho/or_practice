{
 "cells": [
  {
   "cell_type": "markdown",
   "metadata": {},
   "source": [
    "## 付録B：典型的な最適化問題\n",
    "\n",
    "| **典型問題クラス**           | **典型問題**               | **複雑性クラス** | **関数**                 |\n",
    "| ---------------------------- | -------------------------- | ---------------- | ------------------------ |\n",
    "| **グラフ・ネットワーク問題** | 最小全域木問題             | P                | nx.minimum_spanning_tree |\n",
    "| -                            | 最大安定集合問題           | NP困難           | ot.maximum_stable_set    |\n",
    "| -                            | 最大カット問題             | NP困難           | ot.maximum_cut           |\n",
    "| -                            | 最短路問題                 | P                | nx.dijkstra_path         |\n",
    "| -                            | 最大流問題                 | P                | nx.maximum_flow          |\n",
    "| -                            | 最小費用流問題             | P                | nx.min_cost_flow         |\n",
    "| **経路問題**                 | 運搬経路（配送最適化）問題 | NP困難           | ot.vrp                   |\n",
    "| -                            | 巡回セールスマン問題       | NP困難           | ot.tsp                   |\n",
    "| -                            | 中国人郵便配達問題         | P                | ot.chinese_postman       |\n",
    "| **集合被覆・分割問題**       | 集合被覆問題               | NP困難           | ot.set_covering          |\n",
    "| -                            | 集合分割問題               | NP困難           | ot.set_partition         |\n",
    "| -                            | 組合せオークション問題     | NP困難           | ot.combinatorial_auction |\n",
    "| **スケジューリング問題**     | ジョブショップ問題         | NP困難           | ot.two_machine_flowshop  |\n",
    "| -                            | 勤務スケジューリング問題   | NP困難           | ot.shift_scheduling      |\n",
    "| **切出し・詰込み問題**       | ナップサック問題           | NP困難           | ot.knapsack              |\n",
    "| -                            | ビンパッキング問題         | NP困難           | ot.binpacking            |\n",
    "| -                            | n次元パッキング問題        | NP困難           | ot.TwoDimPackingClass    |\n",
    "| **配置問題**                 | 施設配置問題               | NP困難           | ot.facility_location     |\n",
    "| -                            | 容量制約なし施設配置問題   | NP困難           | ot.facility_location_without_capacity |\n",
    "| **割当・マッチング問題**     | 2次割当問題                | NP困難           | ot.quad_assign           |\n",
    "| -                            | 一般化割当問題             | NP困難           | ot.gap                   |\n",
    "| -                            | 最大マッチング問題         | P                | nx.max_weight_matching   |\n",
    "| -                            | 重みマッチング問題         | P                | nx.max_weight_matching   |\n",
    "| -                            | 安定マッチング問題         | (P)              | ot.stable_matching       |\n",
    "\n",
    "nxはnetworkxをotはortoolpyを表す。"
   ]
  },
  {
   "cell_type": "markdown",
   "metadata": {},
   "source": [
    "---"
   ]
  },
  {
   "cell_type": "code",
   "execution_count": null,
   "metadata": {},
   "outputs": [],
   "source": [
    "%matplotlib inline\n",
    "%config InlineBackend.figure_formats = {'png','retina'}\n",
    "import matplotlib.pyplot as plt\n",
    "plt.rcParams['figure.figsize'] = 5, 2"
   ]
  },
  {
   "cell_type": "markdown",
   "metadata": {},
   "source": [
    "### 最小全域木問題"
   ]
  },
  {
   "cell_type": "code",
   "execution_count": null,
   "metadata": {},
   "outputs": [],
   "source": [
    "#%matplotlib inline\n",
    "import pandas as pd, networkx as nx\n",
    "from ortoolpy import graph_from_table\n",
    "tbn = pd.read_csv('data/node0.csv')\n",
    "tbe = pd.read_csv('data/edge0.csv')\n",
    "g = graph_from_table(tbn, tbe)[0]\n",
    "t = nx.minimum_spanning_tree(g)\n",
    "pos = nx.spring_layout(g)\n",
    "nx.draw_networkx(g, pos)\n",
    "nx.draw_networkx_edges(t, pos, width=3)\n",
    "print(t.edges())"
   ]
  },
  {
   "cell_type": "code",
   "execution_count": null,
   "metadata": {},
   "outputs": [],
   "source": [
    "from ortoolpy.optimization import MinimumSpanningTree\n",
    "MinimumSpanningTree('data/edge0.csv')"
   ]
  },
  {
   "cell_type": "markdown",
   "metadata": {},
   "source": [
    "### 最大安定集合問題"
   ]
  },
  {
   "cell_type": "code",
   "execution_count": null,
   "metadata": {},
   "outputs": [],
   "source": [
    "#%matplotlib inline\n",
    "import pandas as pd, networkx as nx\n",
    "from ortoolpy import graph_from_table, maximum_stable_set\n",
    "tbn = pd.read_csv('data/node0.csv')\n",
    "tbe = pd.read_csv('data/edge0.csv')\n",
    "g = graph_from_table(tbn, tbe)[0]\n",
    "t = maximum_stable_set(g)\n",
    "pos = nx.spring_layout(g)\n",
    "nx.draw_networkx(g, pos, node_color='white')\n",
    "nx.draw_networkx_nodes(g, pos, nodelist=t[1])\n",
    "print(t)"
   ]
  },
  {
   "cell_type": "code",
   "execution_count": null,
   "metadata": {},
   "outputs": [],
   "source": [
    "from ortoolpy.optimization import MaximumStableSet\n",
    "MaximumStableSet('data/node0.csv','data/edge0.csv')"
   ]
  },
  {
   "cell_type": "markdown",
   "metadata": {},
   "source": [
    "### 最大カット問題"
   ]
  },
  {
   "cell_type": "code",
   "execution_count": null,
   "metadata": {},
   "outputs": [],
   "source": [
    "#%matplotlib inline\n",
    "import pandas as pd, networkx as nx\n",
    "from ortoolpy import graph_from_table, maximum_cut\n",
    "tbn = pd.read_csv('data/node0.csv')\n",
    "tbe = pd.read_csv('data/edge0.csv')\n",
    "g = graph_from_table(tbn, tbe)[0]\n",
    "t = maximum_cut(g)\n",
    "pos = nx.spring_layout(g)\n",
    "nx.draw_networkx(g, pos, node_color='white')\n",
    "nx.draw_networkx_nodes(g, pos, nodelist=t[1])\n",
    "print(t)"
   ]
  },
  {
   "cell_type": "code",
   "execution_count": null,
   "metadata": {},
   "outputs": [],
   "source": [
    "from ortoolpy.optimization import MaximumCut\n",
    "MaximumCut('data/node0.csv','data/edge0.csv')[1]"
   ]
  },
  {
   "cell_type": "markdown",
   "metadata": {},
   "source": [
    "### 最短路問題"
   ]
  },
  {
   "cell_type": "code",
   "execution_count": null,
   "metadata": {},
   "outputs": [],
   "source": [
    "import pandas as pd, networkx as nx\n",
    "from ortoolpy import graph_from_table\n",
    "tbn = pd.read_csv('data/node0.csv')\n",
    "tbe = pd.read_csv('data/edge0.csv')\n",
    "g = graph_from_table(tbn, tbe)[0]\n",
    "print(nx.dijkstra_path(g, 5, 2))"
   ]
  },
  {
   "cell_type": "code",
   "execution_count": null,
   "metadata": {},
   "outputs": [],
   "source": [
    "from ortoolpy.optimization import DijkstraPath\n",
    "DijkstraPath('data/edge0.csv', 5, 2)"
   ]
  },
  {
   "cell_type": "markdown",
   "metadata": {},
   "source": [
    "### 最大流問題"
   ]
  },
  {
   "cell_type": "code",
   "execution_count": null,
   "metadata": {},
   "outputs": [],
   "source": [
    "#%matplotlib inline\n",
    "import pandas as pd, networkx as nx\n",
    "from ortoolpy import graph_from_table\n",
    "tbn = pd.read_csv('data/node0.csv')\n",
    "tbe = pd.read_csv('data/edge0.csv')\n",
    "g = graph_from_table(tbn, tbe)[0]\n",
    "t = nx.maximum_flow(g, 5, 2)\n",
    "pos = nx.spring_layout(g)\n",
    "nx.draw_networkx(g, pos)\n",
    "nx.draw_networkx_edges(g, pos, width=3, edgelist=[(k1, k2)\n",
    "    for k1, d in t[1].items() for k2, v in d.items() if v])\n",
    "for i, d in t[1].items():\n",
    "    for j, f in d.items():\n",
    "        if f: print((i, j), f)"
   ]
  },
  {
   "cell_type": "code",
   "execution_count": null,
   "metadata": {},
   "outputs": [],
   "source": [
    "from ortoolpy.optimization import MaximumFlow\n",
    "MaximumFlow('data/edge0.csv', 5, 2)[1]"
   ]
  },
  {
   "cell_type": "markdown",
   "metadata": {},
   "source": [
    "### 最小費用流問題"
   ]
  },
  {
   "cell_type": "code",
   "execution_count": null,
   "metadata": {},
   "outputs": [],
   "source": [
    "import pandas as pd, networkx as nx\n",
    "from ortoolpy import graph_from_table\n",
    "tbn = pd.read_csv('data/node0.csv')\n",
    "tbe = pd.read_csv('data/edge0.csv')\n",
    "g = graph_from_table(tbn, tbe, directed=True)[0]\n",
    "result = nx.min_cost_flow(g)\n",
    "for i, d in result.items():\n",
    "    for j, f in d.items():\n",
    "        if f: print((i, j), f)"
   ]
  },
  {
   "cell_type": "code",
   "execution_count": null,
   "metadata": {},
   "outputs": [],
   "source": [
    "from ortoolpy.optimization import MinCostFlow\n",
    "MinCostFlow('data/node0.csv','data/edge0.csv')"
   ]
  },
  {
   "cell_type": "markdown",
   "metadata": {},
   "source": [
    "### 運搬経路（配送最適化）問題"
   ]
  },
  {
   "cell_type": "code",
   "execution_count": null,
   "metadata": {
    "scrolled": false
   },
   "outputs": [],
   "source": [
    "#%matplotlib inline\n",
    "import pandas as pd, networkx as nx\n",
    "from ortoolpy import vrp, graph_from_table\n",
    "tbn = pd.read_csv('data/node1.csv')\n",
    "tbe = pd.read_csv('data/edge1.csv')\n",
    "g = graph_from_table(tbn, tbe)[0].to_directed()\n",
    "nx.draw_networkx(g)\n",
    "nv, capa = 2, 3 # 車両数、車両容量\n",
    "print(vrp(g, nv, capa))"
   ]
  },
  {
   "cell_type": "code",
   "execution_count": null,
   "metadata": {},
   "outputs": [],
   "source": [
    "from ortoolpy.optimization import Vrp\n",
    "Vrp('data/node1.csv','data/edge1.csv',2,3)"
   ]
  },
  {
   "cell_type": "markdown",
   "metadata": {},
   "source": [
    "### 巡回セールスマン問題"
   ]
  },
  {
   "cell_type": "code",
   "execution_count": null,
   "metadata": {},
   "outputs": [],
   "source": [
    "from ortoolpy import tsp\n",
    "tsp([(2, 0), (1, 2), (0, 1), (3, 1), (2, 2)])[1]"
   ]
  },
  {
   "cell_type": "code",
   "execution_count": null,
   "metadata": {},
   "outputs": [],
   "source": [
    "from ortoolpy.optimization import Tsp\n",
    "Tsp('data/node1.csv')[1]"
   ]
  },
  {
   "cell_type": "markdown",
   "metadata": {},
   "source": [
    "### 中国人郵便配達問題"
   ]
  },
  {
   "cell_type": "code",
   "execution_count": null,
   "metadata": {},
   "outputs": [],
   "source": [
    "#%matplotlib inline\n",
    "import pandas as pd, networkx as nx\n",
    "from ortoolpy import chinese_postman, graph_from_table\n",
    "tbn = pd.read_csv('data/node0.csv')\n",
    "tbe = pd.read_csv('data/edge0.csv')\n",
    "g = graph_from_table(tbn, tbe, multi=True)[0]\n",
    "nx.draw_networkx(g)\n",
    "print(chinese_postman(g))"
   ]
  },
  {
   "cell_type": "code",
   "execution_count": null,
   "metadata": {
    "scrolled": false
   },
   "outputs": [],
   "source": [
    "from ortoolpy.optimization import ChinesePostman\n",
    "ChinesePostman('data/edge0.csv')[1]"
   ]
  },
  {
   "cell_type": "markdown",
   "metadata": {},
   "source": [
    "### 集合被覆問題"
   ]
  },
  {
   "cell_type": "code",
   "execution_count": null,
   "metadata": {},
   "outputs": [],
   "source": [
    "import pandas as pd\n",
    "from ortoolpy import set_covering\n",
    "ss = pd.read_csv('data/subset.csv')\n",
    "g = ss.groupby('id')\n",
    "set_covering(len(g), [(r.weight.iloc[0], r.element.tolist())\n",
    "                      for _, r in g])"
   ]
  },
  {
   "cell_type": "code",
   "execution_count": null,
   "metadata": {},
   "outputs": [],
   "source": [
    "from ortoolpy.optimization import SetCovering\n",
    "SetCovering('data/subset.csv')"
   ]
  },
  {
   "cell_type": "markdown",
   "metadata": {},
   "source": [
    "### 集合分割問題"
   ]
  },
  {
   "cell_type": "code",
   "execution_count": null,
   "metadata": {},
   "outputs": [],
   "source": [
    "import pandas as pd\n",
    "from ortoolpy import set_partition\n",
    "ss = pd.read_csv('data/subset.csv')\n",
    "g = ss.groupby('id')\n",
    "set_partition(len(g), [(r.weight.iloc[0],r.element.tolist())\n",
    "                       for _, r in g])"
   ]
  },
  {
   "cell_type": "code",
   "execution_count": null,
   "metadata": {},
   "outputs": [],
   "source": [
    "from ortoolpy.optimization import SetPartition\n",
    "SetPartition('data/subset.csv')"
   ]
  },
  {
   "cell_type": "markdown",
   "metadata": {},
   "source": [
    "### 組合せオークション問題"
   ]
  },
  {
   "cell_type": "code",
   "execution_count": null,
   "metadata": {},
   "outputs": [],
   "source": [
    "from ortoolpy import combinatorial_auction\n",
    "cand = [\n",
    "    ( 15, (0,2), 0),\n",
    "    ( 10, (0,), 1),\n",
    "    (  8, (1,), 1),\n",
    "    ( 14, (1,2), 2),\n",
    "]\n",
    "combinatorial_auction(3, cand)"
   ]
  },
  {
   "cell_type": "code",
   "execution_count": null,
   "metadata": {},
   "outputs": [],
   "source": [
    "# 1人で無制限に購入可能な場合\n",
    "from ortoolpy.optimization import CombinatorialAuction\n",
    "CombinatorialAuction('data/auction.csv')"
   ]
  },
  {
   "cell_type": "code",
   "execution_count": null,
   "metadata": {},
   "outputs": [],
   "source": [
    "# 1人、1個まで購入可能な場合\n",
    "from ortoolpy.optimization import CombinatorialAuction\n",
    "CombinatorialAuction('data/auction.csv', limit=1)"
   ]
  },
  {
   "cell_type": "markdown",
   "metadata": {},
   "source": [
    "### ジョブショップ問題"
   ]
  },
  {
   "cell_type": "code",
   "execution_count": null,
   "metadata": {},
   "outputs": [],
   "source": [
    "from ortoolpy import two_machine_flowshop\n",
    "two_machine_flowshop([(4, 3), (3, 1), (1, 4)])"
   ]
  },
  {
   "cell_type": "code",
   "execution_count": null,
   "metadata": {},
   "outputs": [],
   "source": [
    "from ortoolpy.optimization import TwoMachineFlowshop\n",
    "TwoMachineFlowshop('data/flowshop.csv')[1]"
   ]
  },
  {
   "cell_type": "markdown",
   "metadata": {},
   "source": [
    "### 勤務スケジューリング問題"
   ]
  },
  {
   "cell_type": "code",
   "execution_count": null,
   "metadata": {},
   "outputs": [],
   "source": [
    "from ortoolpy import shift_scheduling\n",
    "ndy, nst = 8, 4\n",
    "shift = '休日夜'\n",
    "proh = ['夜夜', '夜日', '日日日']\n",
    "need = {'日':[2] * 8, '夜':[1] * 8}\n",
    "r = shift_scheduling(ndy, nst, shift, proh, need)\n",
    "print(r)\n",
    "\n",
    "import numpy as np, pandas as pd\n",
    "a = pd.DataFrame(np.vectorize(lambda i: shift[i])(r),\n",
    "    columns=[chr(65+i) for i in range(nst)],\n",
    "    index=['%d日目'%i for i in range(1,ndy+1)])\n",
    "for sft,lst in need.items():\n",
    "    a['%s必要'%sft] = lst\n",
    "    a['%s計画'%sft] = (a.iloc[:,:4]==sft).sum(1)\n",
    "print(a)"
   ]
  },
  {
   "cell_type": "code",
   "execution_count": null,
   "metadata": {},
   "outputs": [],
   "source": [
    "from ortoolpy.optimization import ShiftScheduling\n",
    "ShiftScheduling(8, 4, '休日夜', ['夜夜','夜日','日日日'],\n",
    "                {'日':[2]*8, '夜':[1]*8})"
   ]
  },
  {
   "cell_type": "markdown",
   "metadata": {},
   "source": [
    "### ナップサック問題"
   ]
  },
  {
   "cell_type": "code",
   "execution_count": null,
   "metadata": {},
   "outputs": [],
   "source": [
    "from ortoolpy import knapsack\n",
    "size = [21, 11, 15, 9, 34, 25, 41, 52]  # 大きさ\n",
    "weight = [22, 12, 16, 10, 35, 26, 42, 53]  # 価値\n",
    "capacity = 100  # ナップサックの容量\n",
    "print(knapsack(size, weight, capacity))"
   ]
  },
  {
   "cell_type": "code",
   "execution_count": null,
   "metadata": {},
   "outputs": [],
   "source": [
    "from ortoolpy.optimization import Knapsack\n",
    "Knapsack('data/knapsack.csv', 100)"
   ]
  },
  {
   "cell_type": "markdown",
   "metadata": {},
   "source": [
    "### ビンパッキング問題"
   ]
  },
  {
   "cell_type": "code",
   "execution_count": null,
   "metadata": {},
   "outputs": [],
   "source": [
    "from ortoolpy import binpacking\n",
    "binpacking(10, [4, 5, 3, 8, 7, 6, 2, 3])"
   ]
  },
  {
   "cell_type": "code",
   "execution_count": null,
   "metadata": {},
   "outputs": [],
   "source": [
    "from ortoolpy.optimization import BinPacking\n",
    "BinPacking('data/binpacking.csv', 10)"
   ]
  },
  {
   "cell_type": "markdown",
   "metadata": {},
   "source": [
    "### n次元パッキング問題"
   ]
  },
  {
   "cell_type": "code",
   "execution_count": null,
   "metadata": {},
   "outputs": [],
   "source": [
    "from ortoolpy import TwoDimPackingClass\n",
    "TwoDimPackingClass(500, 300, [(240, 150), (260, 100),\n",
    "    (100, 200), (240, 150), (160, 200)]).solve()"
   ]
  },
  {
   "cell_type": "code",
   "execution_count": null,
   "metadata": {},
   "outputs": [],
   "source": [
    "from ortoolpy.optimization import TwoDimPacking\n",
    "TwoDimPacking('data/tdpacking.csv', 500, 300)[1]"
   ]
  },
  {
   "cell_type": "markdown",
   "metadata": {},
   "source": [
    "### 施設配置問題"
   ]
  },
  {
   "cell_type": "code",
   "execution_count": null,
   "metadata": {},
   "outputs": [],
   "source": [
    "from ortoolpy import facility_location\n",
    "facility_location(2, [(1, 0, 1), (0, 1, 1), (2, 2, 1)], \n",
    "                     [(1, 0, 1), (0, 1, 1), (2, 2, 2)])"
   ]
  },
  {
   "cell_type": "code",
   "execution_count": null,
   "metadata": {},
   "outputs": [],
   "source": [
    "from ortoolpy.optimization import FacilityLocation\n",
    "FacilityLocation('data/facility.csv',2)"
   ]
  },
  {
   "cell_type": "markdown",
   "metadata": {},
   "source": [
    "### 容量制約なし施設配置問題"
   ]
  },
  {
   "cell_type": "code",
   "execution_count": null,
   "metadata": {},
   "outputs": [],
   "source": [
    "from ortoolpy import facility_location_without_capacity\n",
    "facility_location_without_capacity(2, [(1,0),(0,1),(2,2)])"
   ]
  },
  {
   "cell_type": "code",
   "execution_count": null,
   "metadata": {},
   "outputs": [],
   "source": [
    "from ortoolpy.optimization import (\n",
    "    FacilityLocationWithoutCapacity)\n",
    "FacilityLocationWithoutCapacity('data/facility.csv',2)"
   ]
  },
  {
   "cell_type": "markdown",
   "metadata": {},
   "source": [
    "### 2次割当問題"
   ]
  },
  {
   "cell_type": "code",
   "execution_count": null,
   "metadata": {},
   "outputs": [],
   "source": [
    "from ortoolpy import quad_assign\n",
    "quad_assign([[0, 2, 0], [0, 0, 1], [0, 0, 0]],\n",
    "            [[0, 2, 4], [2, 0, 3], [4, 3, 0]])"
   ]
  },
  {
   "cell_type": "code",
   "execution_count": null,
   "metadata": {},
   "outputs": [],
   "source": [
    "from ortoolpy.optimization import QuadAssign\n",
    "QuadAssign('data/quad_assign_quant.csv',\n",
    "           'data/quad_assign_dist.csv')[1]"
   ]
  },
  {
   "cell_type": "markdown",
   "metadata": {},
   "source": [
    "### 一般化割当問題"
   ]
  },
  {
   "cell_type": "code",
   "execution_count": null,
   "metadata": {},
   "outputs": [],
   "source": [
    "from ortoolpy import gap\n",
    "gap([[2, 2, 2], [1, 1, 1]], [[1, 1, 1], [1, 1, 1]], [2, 1])"
   ]
  },
  {
   "cell_type": "code",
   "execution_count": null,
   "metadata": {},
   "outputs": [],
   "source": [
    "from ortoolpy.optimization import Gap\n",
    "Gap('data/gap.csv', [2,1])"
   ]
  },
  {
   "cell_type": "markdown",
   "metadata": {},
   "source": [
    "### 最大マッチング問題"
   ]
  },
  {
   "cell_type": "code",
   "execution_count": null,
   "metadata": {},
   "outputs": [],
   "source": [
    "#%matplotlib inline\n",
    "import pandas as pd, networkx as nx\n",
    "from ortoolpy import graph_from_table\n",
    "tbn = pd.read_csv('data/node0.csv')\n",
    "tbe = pd.read_csv('data/edge0.csv')\n",
    "g = graph_from_table(tbn, tbe)[0]\n",
    "d = nx.max_weight_matching(g, weight='')\n",
    "pos = nx.spring_layout(g)\n",
    "nx.draw_networkx(g, pos)\n",
    "nx.draw_networkx_edges(g, pos, width=3,\n",
    "    edgelist=[(i, j) for i, j in d])\n",
    "print(d)"
   ]
  },
  {
   "cell_type": "code",
   "execution_count": null,
   "metadata": {},
   "outputs": [],
   "source": [
    "from ortoolpy.optimization import MaxMatching\n",
    "MaxMatching('data/edge0.csv')"
   ]
  },
  {
   "cell_type": "markdown",
   "metadata": {},
   "source": [
    "### 重みマッチング問題"
   ]
  },
  {
   "cell_type": "code",
   "execution_count": null,
   "metadata": {},
   "outputs": [],
   "source": [
    "#%matplotlib inline\n",
    "import pandas as pd, networkx as nx\n",
    "from ortoolpy import graph_from_table\n",
    "tbn = pd.read_csv('data/node0.csv')\n",
    "tbe = pd.read_csv('data/edge0.csv')\n",
    "g = graph_from_table(tbn, tbe)[0]\n",
    "d = nx.max_weight_matching(g)\n",
    "pos = nx.spring_layout(g)\n",
    "nx.draw_networkx(g, pos)\n",
    "nx.draw_networkx_edges(g, pos, width=3,\n",
    "    edgelist=[(i, j) for i, j in d])\n",
    "print(d)"
   ]
  },
  {
   "cell_type": "code",
   "execution_count": null,
   "metadata": {},
   "outputs": [],
   "source": [
    "from ortoolpy.optimization import MaxWeightMatching\n",
    "MaxWeightMatching('data/edge0.csv')"
   ]
  },
  {
   "cell_type": "markdown",
   "metadata": {},
   "source": [
    "### 安定マッチング問題"
   ]
  },
  {
   "cell_type": "code",
   "execution_count": null,
   "metadata": {},
   "outputs": [],
   "source": [
    "from ortoolpy import stable_matching\n",
    "print(stable_matching([[2,0,1],[2,1,0],[0,2,1]],\n",
    "                      [[0,1,2],[2,0,1],[2,1,0]]))"
   ]
  },
  {
   "cell_type": "code",
   "execution_count": null,
   "metadata": {},
   "outputs": [],
   "source": [
    "from ortoolpy.optimization import StableMatching\n",
    "StableMatching('data/stable.csv')"
   ]
  }
 ],
 "metadata": {
  "kernelspec": {
   "display_name": "Python 3",
   "language": "python",
   "name": "python3"
  },
  "language_info": {
   "codemirror_mode": {
    "name": "ipython",
    "version": 3
   },
   "file_extension": ".py",
   "mimetype": "text/x-python",
   "name": "python",
   "nbconvert_exporter": "python",
   "pygments_lexer": "ipython3",
   "version": "3.7.1"
  },
  "toc": {
   "nav_menu": {},
   "number_sections": false,
   "sideBar": true,
   "skip_h1_title": false,
   "toc_cell": false,
   "toc_position": {
    "height": "702px",
    "left": "0px",
    "right": "985.639px",
    "top": "111px",
    "width": "203px"
   },
   "toc_section_display": "block",
   "toc_window_display": true
  },
  "varInspector": {
   "cols": {
    "lenName": 16,
    "lenType": 16,
    "lenVar": 40
   },
   "kernels_config": {
    "python": {
     "delete_cmd_postfix": "",
     "delete_cmd_prefix": "del ",
     "library": "var_list.py",
     "varRefreshCmd": "print(var_dic_list())"
    },
    "r": {
     "delete_cmd_postfix": ") ",
     "delete_cmd_prefix": "rm(",
     "library": "var_list.r",
     "varRefreshCmd": "cat(var_dic_list()) "
    }
   },
   "types_to_exclude": [
    "module",
    "function",
    "builtin_function_or_method",
    "instance",
    "_Feature"
   ],
   "window_display": false
  }
 },
 "nbformat": 4,
 "nbformat_minor": 2
}
