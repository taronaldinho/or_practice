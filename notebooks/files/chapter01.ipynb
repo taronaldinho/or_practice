{
 "cells": [
  {
   "cell_type": "markdown",
   "metadata": {},
   "source": [
    "## 第1章 最適化とは\n",
    "\n",
    "### 機械学習との違い\n",
    "\n",
    "機械学習|過去をものさしに未来を知る\n",
    ":--|:--\n",
    "最適化|モデルをものさしに未来を決める"
   ]
  },
  {
   "cell_type": "markdown",
   "metadata": {},
   "source": [
    "### 1.1 最適化モデル\n",
    "\n",
    "- 変数：コントロールできる意思決定の対象。モデル上では、色々な値をととれるが、結果が得られると、1つの変数は1つの値になる。モデル内には、複数の変数を持てる。\n",
    "- 目的関数：最も良いものを表す指標。変数を使った**数式**を用いて関数として表す。最大化か最小化のどちらかを行う。目的関数の例として、移動時間や輸送費用がある。\n",
    "- 制約条件：変数の組合せの中で**守らないといけない条件**を設定する。                                     "
   ]
  },
  {
   "cell_type": "markdown",
   "metadata": {},
   "source": [
    "### 1.2 最適化問題の種類\n",
    "\n",
    " |連続変数だけ|連続変数に限らない\n",
    ":--|:--|:--\n",
    "目的関数と制約条件が線形|線形最適化問題|混合整数最適化問題\n",
    "目的関数と制約条件が線形に限らない|（一般の）最適化問題|（一般の）最適化問題\n",
    "\n",
    "このような分類で表される問題を汎用問題とよぶことにする。"
   ]
  },
  {
   "cell_type": "markdown",
   "metadata": {},
   "source": [
    "### 1.3 典型問題とは\n",
    "汎用問題に対し、より具体的に理解しやすく分類した問題を典型問題とよぶことにする。"
   ]
  },
  {
   "cell_type": "markdown",
   "metadata": {},
   "source": [
    "### 1.4 ビジネスで使われる最適化問題\n",
    "\n",
    "#### ロジスティクス・ネットワーク設計問題\n",
    "- http://www.orsj.or.jp/~wiki/wiki/index.php/ロジスティクスネットワーク設計問題\n",
    "\n",
    "#### 配送最適化(運搬経路)問題\n",
    "#### 船舶スケジューリング問題\n",
    "#### クルースケジューリング問題(勤務スケジューリング問題)\n",
    "\n",
    "- http://www.orsj.or.jp/~wiki/wiki/index.php/勤務スケジューリング\n",
    "\n",
    "#### 最小費用流問題\n",
    "\n",
    "- http://www.orsj.or.jp/~wiki/wiki/index.php/最小費用フロー問題\n",
    "\n",
    "#### 安全在庫問題\n",
    "\n",
    "- http://www.orsj.or.jp/~wiki/wiki/index.php/《在庫管理》\n",
    "\n",
    "#### ロットサイズ決定問題\n",
    "\n",
    "- http://www.orsj.or.jp/~wiki/wiki/index.php/動的ロットサイズ決定問題\n",
    "\n",
    "#### ジョブショップ問題(フローショップ問題)\n",
    "\n",
    "- http://www.orsj.or.jp/~wiki/wiki/index.php/ジョブショップ問題\n",
    "\n",
    "#### パッキング問題\n",
    "\n",
    "- https://ja.wikipedia.org/wiki/パッキング問題\n",
    "- http://www.orsj.or.jp/~wiki/wiki/index.php/板取り問題\n",
    "\n",
    "#### 収益管理問題\n",
    "\n",
    "- http://www.logopt.com/mikiokubo/handbook/s-rm1.pdf"
   ]
  },
  {
   "cell_type": "markdown",
   "metadata": {},
   "source": [
    "### 1.6 なぜ，最適化で Python なのか\n",
    "#### コラム：最適化の関連分野\n",
    "\n",
    "オペレーションズ・リサーチとは\n",
    "\n",
    "http://www.orsj.or.jp/whatisor/whatisor.html"
   ]
  }
 ],
 "metadata": {
  "kernelspec": {
   "display_name": "Python 3",
   "language": "python",
   "name": "python3"
  },
  "language_info": {
   "codemirror_mode": {
    "name": "ipython",
    "version": 3
   },
   "file_extension": ".py",
   "mimetype": "text/x-python",
   "name": "python",
   "nbconvert_exporter": "python",
   "pygments_lexer": "ipython3",
   "version": "3.7.0"
  },
  "toc": {
   "nav_menu": {},
   "number_sections": false,
   "sideBar": true,
   "skip_h1_title": false,
   "toc_cell": false,
   "toc_position": {},
   "toc_section_display": "block",
   "toc_window_display": true
  },
  "varInspector": {
   "cols": {
    "lenName": 16,
    "lenType": 16,
    "lenVar": 40
   },
   "kernels_config": {
    "python": {
     "delete_cmd_postfix": "",
     "delete_cmd_prefix": "del ",
     "library": "var_list.py",
     "varRefreshCmd": "print(var_dic_list())"
    },
    "r": {
     "delete_cmd_postfix": ") ",
     "delete_cmd_prefix": "rm(",
     "library": "var_list.r",
     "varRefreshCmd": "cat(var_dic_list()) "
    }
   },
   "types_to_exclude": [
    "module",
    "function",
    "builtin_function_or_method",
    "instance",
    "_Feature"
   ],
   "window_display": false
  }
 },
 "nbformat": 4,
 "nbformat_minor": 2
}
