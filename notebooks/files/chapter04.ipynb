{
 "cells": [
  {
   "cell_type": "markdown",
   "metadata": {},
   "source": [
    "## 第4章 PuLP の使い方（最適化モデル）\n",
    "\n",
    "https://pythonhosted.org/PuLP/"
   ]
  },
  {
   "cell_type": "markdown",
   "metadata": {},
   "source": [
    "### 4.2 PuLP の使い方"
   ]
  },
  {
   "cell_type": "code",
   "execution_count": null,
   "metadata": {},
   "outputs": [],
   "source": [
    "from pulp import LpProblem, LpMaximize, LpVariable, value\n",
    "m = LpProblem(sense=LpMaximize)  # 数理モデル\n",
    "x = LpVariable('x', lowBound=0)  # 変数\n",
    "y = LpVariable('y', lowBound=0)  # 変数\n",
    "m += 100 * x + 100 * y  # 目的関数\n",
    "m += x + 2 * y <= 16  # 材料Aの上限の制約条件\n",
    "m += 3 * x + y <= 18  # 材料Bの上限の制約条件\n",
    "m.solve()  # ソルバーの実行\n",
    "print(value(x), value(y))  # 4, 6"
   ]
  },
  {
   "cell_type": "code",
   "execution_count": null,
   "metadata": {},
   "outputs": [],
   "source": [
    "from pulp import PULP_CBC_CMD\n",
    "\n",
    "# ファイル形式としてLPを指定\n",
    "m.solve(use_mps=False)\n",
    "\n",
    "cmd = PULP_CBC_CMD(maxSeconds=1,fracGap=0.01,keepFiles=True)\n",
    "m.solve(cmd)"
   ]
  },
  {
   "cell_type": "markdown",
   "metadata": {},
   "source": [
    "#### コラム：変数名に注意"
   ]
  },
  {
   "cell_type": "code",
   "execution_count": null,
   "metadata": {},
   "outputs": [],
   "source": [
    "from pulp import (LpProblem, LpMaximize, LpVariable,\n",
    "                  PulpSolverError)\n",
    "m = LpProblem(sense=LpMaximize) # 数理モデル\n",
    "x = LpVariable('x', lowBound=0) # 変数\n",
    "y = LpVariable('x', lowBound=0) # 変数\n",
    "m += 100 * x + 100 * y # 目的関数\n",
    "m += x + 2 * y <= 16 # 材料Aの上限の制約条件\n",
    "m += 3 * x + y <= 18 # 材料Bの上限の制約条件\n",
    "try:\n",
    "    m.solve() # ソルバーの実行\n",
    "except PulpSolverError as e:\n",
    "    print(e)"
   ]
  },
  {
   "cell_type": "markdown",
   "metadata": {},
   "source": [
    "#### コラム：lpSum関数を使おう"
   ]
  },
  {
   "cell_type": "code",
   "execution_count": null,
   "metadata": {},
   "outputs": [],
   "source": [
    "from pulp import LpVariable, lpSum\n",
    "for i in [200, 400, 1000]:\n",
    "    v = [LpVariable('v%d'%i) for i in range(i)]\n",
    "    print(i)\n",
    "    %timeit -r3 -n3 lpSum(v)\n",
    "    %timeit -r3 -n3 sum(v)"
   ]
  }
 ],
 "metadata": {
  "kernelspec": {
   "display_name": "Python 3",
   "language": "python",
   "name": "python3"
  },
  "language_info": {
   "codemirror_mode": {
    "name": "ipython",
    "version": 3
   },
   "file_extension": ".py",
   "mimetype": "text/x-python",
   "name": "python",
   "nbconvert_exporter": "python",
   "pygments_lexer": "ipython3",
   "version": "3.7.0"
  },
  "toc": {
   "nav_menu": {},
   "number_sections": false,
   "sideBar": true,
   "skip_h1_title": false,
   "toc_cell": false,
   "toc_position": {},
   "toc_section_display": "block",
   "toc_window_display": true
  },
  "varInspector": {
   "cols": {
    "lenName": 16,
    "lenType": 16,
    "lenVar": 40
   },
   "kernels_config": {
    "python": {
     "delete_cmd_postfix": "",
     "delete_cmd_prefix": "del ",
     "library": "var_list.py",
     "varRefreshCmd": "print(var_dic_list())"
    },
    "r": {
     "delete_cmd_postfix": ") ",
     "delete_cmd_prefix": "rm(",
     "library": "var_list.r",
     "varRefreshCmd": "cat(var_dic_list()) "
    }
   },
   "types_to_exclude": [
    "module",
    "function",
    "builtin_function_or_method",
    "instance",
    "_Feature"
   ],
   "window_display": false
  }
 },
 "nbformat": 4,
 "nbformat_minor": 2
}
