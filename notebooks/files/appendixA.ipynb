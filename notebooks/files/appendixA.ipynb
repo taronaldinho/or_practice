{
 "cells": [
  {
   "cell_type": "markdown",
   "metadata": {},
   "source": [
    "## 付録 A:最適化のアルゴリズム"
   ]
  },
  {
   "cell_type": "markdown",
   "metadata": {},
   "source": [
    "### A.2 クラスカル法"
   ]
  },
  {
   "cell_type": "code",
   "execution_count": null,
   "metadata": {},
   "outputs": [],
   "source": [
    "def Kruskal(g, weight='weight'):\n",
    "    \"\"\"\n",
    "    クラスカル法\n",
    "        最小全域木もしくは森を求める\n",
    "    入力\n",
    "        g: グラフ\n",
    "        weight: 距離のキー（属性がない場合、距離は1）\n",
    "    出力\n",
    "        辺リスト\n",
    "    \"\"\"\n",
    "    from ortoolpy import unionfind\n",
    "    cmp = lambda d: d[2].get(weight, 1)  # 重み関数\n",
    "    E = sorted(g.edges.data(), key=cmp, reverse=True)  # (1)\n",
    "    F = unionfind()  # (2)\n",
    "    T = []  # (3)\n",
    "    while E:  # (4)\n",
    "        i, j, _ = E.pop()  # (a)\n",
    "        if not F.issame(i, j):  # (b)\n",
    "            F.unite(i, j)  # (i)\n",
    "            T.append((i, j))  # (ii)\n",
    "    return T  # (5)"
   ]
  },
  {
   "cell_type": "code",
   "execution_count": null,
   "metadata": {},
   "outputs": [],
   "source": [
    "import networkx as nx\n",
    "g = nx.Graph()\n",
    "for i, j, w in [\n",
    "   ('A','B',9), ('B','C',3), ('A','D',6), ('B','E',4),\n",
    "   ('C','F',2), ('D','E',3), ('E','F',5)]:\n",
    "    g.add_edge(i, j, weight=w)\n",
    "Kruskal(g)"
   ]
  },
  {
   "cell_type": "markdown",
   "metadata": {},
   "source": [
    "### A.3 ダイクストラ法"
   ]
  },
  {
   "cell_type": "code",
   "execution_count": null,
   "metadata": {},
   "outputs": [],
   "source": [
    "def Dijkstra(g, s, t, weight='weight'):\n",
    "    \"\"\"\n",
    "    ダイクストラ法\n",
    "        2点間の最短距離と最短路を求める\n",
    "    入力\n",
    "        g: NetworkXのグラフ\n",
    "        s: 始点\n",
    "        t: 終点\n",
    "        weight: 距離のキー（属性がない場合、距離は1）\n",
    "    出力\n",
    "        最短距離と最短路\n",
    "    \"\"\"\n",
    "    import numpy as np\n",
    "    d = {nd: np.inf for nd in g.nodes}  # (1)\n",
    "    prev = {nd: None for nd in g.nodes}  # (2)\n",
    "    d[s] = 0  # (3)\n",
    "    Q = set(g.nodes)  # (4)\n",
    "    while True:  # (5)\n",
    "        u = min(Q, key=lambda k: d[k])  # (a)\n",
    "        Q.remove(u)  # (b)\n",
    "        if np.isinf(d[u]):\n",
    "            return np.inf, []  # (c)\n",
    "        if u == t:\n",
    "            break  # (d)\n",
    "        for v, a in g[u].items():  # (e)\n",
    "            e = d[u] + a.get(weight, 1)  # (i)\n",
    "            if e < d[v]:  # (ii)\n",
    "                d[v] = e  # (1)\n",
    "                prev[v] = u  # (2)\n",
    "    v, pth = t, []  # (6)\n",
    "    while v:  # (7)\n",
    "        pth.append(v)  # (a)\n",
    "        v = prev[v]  # (b)\n",
    "    return d[t], list(reversed(pth))  # (8)"
   ]
  },
  {
   "cell_type": "code",
   "execution_count": null,
   "metadata": {},
   "outputs": [],
   "source": [
    "import networkx as nx\n",
    "g = nx.Graph()\n",
    "g.add_edges_from([('A', 'B'), ('B', 'C'), ('C', 'D'),\n",
    "                  ('D', 'E'), ('A', 'E')], weight=1)\n",
    "g.adj['A']['E']['weight'] = 3\n",
    "Dijkstra(g, 'A', 'E')"
   ]
  },
  {
   "cell_type": "markdown",
   "metadata": {},
   "source": [
    "### A.4 動的最適化"
   ]
  },
  {
   "cell_type": "code",
   "execution_count": null,
   "metadata": {},
   "outputs": [],
   "source": [
    "from functools import lru_cache\n",
    "@lru_cache(maxsize=1000)\n",
    "def Knapsack(w, p, c):\n",
    "    \"\"\"\n",
    "    ナップサック問題の動的最適化\n",
    "    入力\n",
    "        w: 大きさのリスト\n",
    "        p: 価値のリスト\n",
    "        c: ナップサックの大きさ\n",
    "    出力\n",
    "        最適値(価値)\n",
    "    \"\"\"\n",
    "    if len(w) == 0:\n",
    "        return 0\n",
    "    return max(\n",
    "        Knapsack(w[:-1], p[:-1], c),\n",
    "        Knapsack(w[:-1], p[:-1],\n",
    "            c - w[-1]) + p[-1] if c >= w[-1] else 0)"
   ]
  },
  {
   "cell_type": "code",
   "execution_count": null,
   "metadata": {},
   "outputs": [],
   "source": [
    "Knapsack((10, 11, 12), (1, 2, 4), 22)"
   ]
  },
  {
   "cell_type": "markdown",
   "metadata": {},
   "source": [
    "### A.5 シンプレックス法"
   ]
  },
  {
   "cell_type": "code",
   "execution_count": null,
   "metadata": {},
   "outputs": [],
   "source": [
    "def Simplex(A, b, c):\n",
    "    \"\"\"\n",
    "    シンプレックス法\n",
    "        min: c^T * x\n",
    "        s.t.: Ax = b, x >= 0\n",
    "    入力\n",
    "        A, b, c: 上記式の通り\n",
    "    出力\n",
    "        目的関数の値と変数の値\n",
    "    \"\"\"\n",
    "    n, m = len(c), len(b)  # 変数数, 制約数\n",
    "    bs = list(range(m))  # 基底index\n",
    "    assert (np.linalg.det(A.T[bs]) > 1e-6\n",
    "        and np.all(np.dot(np.linalg.inv(A.T[bs].T),b) >= 0))\n",
    "    while True:\n",
    "        B = A.T[bs].T\n",
    "        bb = np.dot(np.linalg.inv(B), b)\n",
    "        pi = np.dot(np.linalg.inv(B.T), c[bs])\n",
    "        cpia = [0 if j in bs else v\n",
    "                for j, v in enumerate(c - np.dot(pi, A))]\n",
    "        i = np.argmin(cpia)\n",
    "        if cpia[i] >= 0:\n",
    "            break\n",
    "        y = np.dot(np.linalg.inv(B), A[:, i])\n",
    "        if y.max() <= 0:\n",
    "            return np.nan  # Unbounded\n",
    "        bby = (bb / np.maximum(y, np.ones(m) * 1e-16))\n",
    "        theta = bby.min()\n",
    "        k = bby.argmin()\n",
    "        bs.remove(bs[k])\n",
    "        bs.append(i)\n",
    "    x = np.zeros(n)\n",
    "    for i in range(m):\n",
    "        x[bs[i]] = bb[i]\n",
    "    return np.dot(c, x), x"
   ]
  },
  {
   "cell_type": "code",
   "execution_count": null,
   "metadata": {},
   "outputs": [],
   "source": [
    "import numpy as np\n",
    "A = np.array([[2, -1, 2], [1, 2, -1]])\n",
    "b = np.array([1, 2])\n",
    "c = np.array([1, 1, 1])\n",
    "Simplex(A, b, c)"
   ]
  },
  {
   "cell_type": "markdown",
   "metadata": {},
   "source": [
    "### A.6 内点法"
   ]
  },
  {
   "cell_type": "code",
   "execution_count": null,
   "metadata": {},
   "outputs": [],
   "source": [
    "def InteriorPoint(A, b, c, alpha=0.01, delta=0.01):\n",
    "    \"\"\"\n",
    "    内点法\n",
    "        min: c^T * x\n",
    "        s.t.: Ax = b, x >= 0\n",
    "    入力\n",
    "        A, b, c: 上記式の通り\n",
    "    出力\n",
    "        目的関数の値と変数の値\n",
    "    \"\"\"\n",
    "    import numpy as np\n",
    "    n, m = len(c), len(b) # 変数数, 制約数\n",
    "    bs = list(range(m))\n",
    "    x = np.r_[np.dot(np.linalg.inv(A.T[bs].T), b),\n",
    "              np.zeros(n - m)]\n",
    "    assert(np.linalg.det(A.T[bs]) > 1e-6 and np.all(x >= 0))\n",
    "    y = -np.ones(m)\n",
    "    v = c - np.dot(A.T, y)\n",
    "    assert(np.all(v >= 0))\n",
    "    for cnt in range(1000):\n",
    "        rho = delta * np.dot(x, v) / n\n",
    "        if rho < 1e-6: # 主双対最適性条件のチェックは省略\n",
    "            break\n",
    "        M = np.r_[\n",
    "            np.c_[A, np.zeros((m, n + m))],\n",
    "            np.c_[np.zeros((n, n)), A.T, np.eye(n)],\n",
    "            np.c_[np.diag(v), np.zeros((n, m)), np.diag(x)]]\n",
    "        V = np.r_[np.dot(A, x) - b,\n",
    "                  np.dot(A.T, y) + v - c, x * v - rho]\n",
    "        d = np.linalg.solve(M, -V)\n",
    "        stp, xyv = alpha, np.r_[x, y, v]\n",
    "        # 簡易的に実行可能領域にとどまるようにしている\n",
    "        while stp > 1e-12:\n",
    "            nw = xyv + stp * d\n",
    "            if all(nw[:n] >= 0) or all(nw[n+m:] >= 0): break\n",
    "            stp /= 2\n",
    "        x, y, v = nw[:n], nw[n:n + m], nw[n+m:]\n",
    "    else:\n",
    "        print('Iterations exceeded')\n",
    "    return np.dot(c, x), x"
   ]
  },
  {
   "cell_type": "code",
   "execution_count": null,
   "metadata": {},
   "outputs": [],
   "source": [
    "import numpy as np\n",
    "A = np.array([[2, -1, 2], [1, 2, -1]])\n",
    "b = np.array([1, 2])\n",
    "c = np.array([1, 1, 1])\n",
    "InteriorPoint(A, b, c)"
   ]
  },
  {
   "cell_type": "markdown",
   "metadata": {},
   "source": [
    "### A.7 分枝限定法"
   ]
  },
  {
   "cell_type": "code",
   "execution_count": null,
   "metadata": {},
   "outputs": [],
   "source": [
    "def BranchBound(w, p, c):\n",
    "    \"\"\"\n",
    "    ナップサック問題の分枝限定法\n",
    "        価値の高いものから決定する\n",
    "    入力\n",
    "        w: 大きさのリスト\n",
    "        p: 価値のリスト\n",
    "        c: ナップサックの大きさ\n",
    "    出力\n",
    "        最適値(価値)\n",
    "    \"\"\"\n",
    "    lst = sorted(zip(w, p), key=lambda i: i[1] / i[0],\n",
    "                 reverse=True)  # (1)\n",
    "    return BranchBoundSub(lst, c, 0, [0])  # (2)\n",
    "def BranchBoundSub(lst, c, fx, lb):\n",
    "    if c < 0:\n",
    "        return -1  # (3)\n",
    "    if fx > lb[0]:\n",
    "        lb[0] = fx  # (4)\n",
    "    if not lst:\n",
    "        return fx  # (5)\n",
    "    rem, rv = c, fx\n",
    "    for w0, p0 in lst:\n",
    "        x = min(w0, rem)\n",
    "        rem -= x\n",
    "        rv += p0 * x / w0\n",
    "    if rv <= lb[0]:\n",
    "        return fx  # (6)\n",
    "    lst0, lst = lst[0], lst[1:]  # 先頭をlst0に取り出し\n",
    "    v1 = BranchBoundSub(lst, c-lst0[0], fx+lst0[1], lb)\n",
    "    v2 = BranchBoundSub(lst, c, fx, lb)\n",
    "    return max(v1, v2)  # (7)"
   ]
  },
  {
   "cell_type": "code",
   "execution_count": null,
   "metadata": {},
   "outputs": [],
   "source": [
    "BranchBound((10, 11, 12), (1, 2, 4), 22)"
   ]
  },
  {
   "cell_type": "markdown",
   "metadata": {},
   "source": [
    "### A.8 図で見る分枝限定法"
   ]
  },
  {
   "cell_type": "code",
   "execution_count": null,
   "metadata": {},
   "outputs": [],
   "source": [
    "from PIL import Image, ImageDraw, ImageFont\n",
    "def func1(dr, ini, pos, x, pr, lab):\n",
    "    fn = ImageFont.load_default()\n",
    "    y = pos * 62 + 10\n",
    "    if pr:\n",
    "        dr.line((*pr, x, y - 4), 'black')\n",
    "    dr.rectangle((x - 4, y - 4, x + 4, y + 4),\n",
    "                 f'#{\"ff\"if pos==6 else \"40\"}4040')\n",
    "    dr.text((x - 4, y + 6), f'{lab}', 'black', fn)\n",
    "    if pos < len(ini):\n",
    "        w = 3 * 64 >> pos\n",
    "        ini[pos] = 1\n",
    "        func1(dr, ini, pos + 1, x - w, (x, y + 4), '1')\n",
    "        ini[pos] = 0\n",
    "        func1(dr, ini, pos + 1, x + w, (x, y + 4), '0')\n",
    "        ini[pos] = -1\n",
    "im = Image.new('RGB', (780, 408), (255, 255, 255))\n",
    "dr = ImageDraw.Draw(im)\n",
    "func1(dr, [-1] * 6, 0, 390, None, ' ')\n",
    "im"
   ]
  },
  {
   "cell_type": "code",
   "execution_count": null,
   "metadata": {},
   "outputs": [],
   "source": [
    "from pulp import LpProblem, LpMaximize, lpDot, value\n",
    "from ortoolpy import addvars\n",
    "def knapsack(ini):\n",
    "    m = LpProblem(sense=LpMaximize)  # 数理モデル\n",
    "    x = addvars(6, upBound=1)  # 変数\n",
    "    m += lpDot([22,24,26,28,29,30], x)  # 目的関数\n",
    "    m += lpDot([10,11,12,13,14,15], x) <= 48  # 制約条件\n",
    "    for i, v in zip(ini, x):\n",
    "        if i >= 0:\n",
    "            m += v == i\n",
    "    m.solve()  # 求解\n",
    "    return value(m.objective) if m.status == 1 else 0"
   ]
  },
  {
   "cell_type": "code",
   "execution_count": null,
   "metadata": {},
   "outputs": [],
   "source": [
    "def func2(dr, ini, pos, x, pr, lab, zantei):\n",
    "    fn = ImageFont.load_default()\n",
    "    r = knapsack(ini)\n",
    "    if r < zantei[0] - 1e-4:\n",
    "        return\n",
    "    y = pos * 62 + 10\n",
    "    if pr:\n",
    "        dr.line((*pr, x, y - 4), 'black')\n",
    "    dr.rectangle((x - 4, y - 4, x + 4, y + 4), f'#ff4040')\n",
    "    dr.text((x - 4, y + 6), f'{lab}', 'black', fn)\n",
    "    if pos < len(ini):\n",
    "        w = 3 * 64 >> pos\n",
    "        ini[pos] = 1\n",
    "        func2(dr, ini, pos+1, x-w, (x, y+4), '1', zantei)\n",
    "        ini[pos] = 0\n",
    "        func2(dr, ini, pos+1, x+w, (x, y+4), '0', zantei)\n",
    "        ini[pos] = -1\n",
    "    else:\n",
    "        if zantei[0] < r:\n",
    "            zantei[0] = r\n",
    "im = Image.new('RGB', (780, 408), (255, 255, 255))\n",
    "dr = ImageDraw.Draw(im)\n",
    "func2(dr, [-1] * 6, 0, 390, None, ' ', [102])\n",
    "im"
   ]
  },
  {
   "cell_type": "code",
   "execution_count": null,
   "metadata": {},
   "outputs": [],
   "source": [
    "print(f'{knapsack([0, -1, -1, -1, -1, -1]):.2f}')"
   ]
  },
  {
   "cell_type": "markdown",
   "metadata": {},
   "source": [
    "### A.9 局所探索法"
   ]
  },
  {
   "cell_type": "code",
   "execution_count": null,
   "metadata": {},
   "outputs": [],
   "source": [
    "def LocalSearch(w, p, c):\n",
    "    \"\"\"\n",
    "    ナップサック問題の局所探索法\n",
    "        挿入近傍と交換近傍\n",
    "    入力\n",
    "        w: 大きさのリスト\n",
    "        p: 価値のリスト\n",
    "        c: ナップサックの大きさ\n",
    "    出力\n",
    "        最適値(価値)\n",
    "    \"\"\"\n",
    "    # 残容量、解、未選択リスト\n",
    "    r, a, b = c, [], [(p0, w0) for p0, w0 in zip(p, w)]\n",
    "    while True:\n",
    "        # 挿入近傍\n",
    "        for p0, w0 in b:\n",
    "            if w0 <= r:\n",
    "                r -= w0\n",
    "                a += [(p0, w0)]\n",
    "                b.remove((p0, w0))\n",
    "                break\n",
    "        else:\n",
    "            # 交換近傍\n",
    "            for i in range(len(a)):\n",
    "                pa, wa = a[i]\n",
    "                for j in range(len(b)):\n",
    "                    pb, wb = b[j]\n",
    "                    if wb <= r + wa and pb > pa:\n",
    "                        r -= wb - wa\n",
    "                        a += [(pb, wb)]\n",
    "                        a.remove((pa, wa))\n",
    "                        b += [(pa, wa)]\n",
    "                        b.remove((pb, wb))\n",
    "                        break\n",
    "                else: continue\n",
    "                break\n",
    "            else: break\n",
    "    return sum(p0 for p0, w0 in a)"
   ]
  },
  {
   "cell_type": "code",
   "execution_count": null,
   "metadata": {},
   "outputs": [],
   "source": [
    "LocalSearch((10, 11, 12), (1, 2, 4), 22)"
   ]
  }
 ],
 "metadata": {
  "kernelspec": {
   "display_name": "Python 3",
   "language": "python",
   "name": "python3"
  },
  "language_info": {
   "codemirror_mode": {
    "name": "ipython",
    "version": 3
   },
   "file_extension": ".py",
   "mimetype": "text/x-python",
   "name": "python",
   "nbconvert_exporter": "python",
   "pygments_lexer": "ipython3",
   "version": "3.7.1"
  },
  "toc": {
   "nav_menu": {},
   "number_sections": false,
   "sideBar": true,
   "skip_h1_title": false,
   "toc_cell": false,
   "toc_position": {},
   "toc_section_display": "block",
   "toc_window_display": true
  },
  "varInspector": {
   "cols": {
    "lenName": 16,
    "lenType": 16,
    "lenVar": 40
   },
   "kernels_config": {
    "python": {
     "delete_cmd_postfix": "",
     "delete_cmd_prefix": "del ",
     "library": "var_list.py",
     "varRefreshCmd": "print(var_dic_list())"
    },
    "r": {
     "delete_cmd_postfix": ") ",
     "delete_cmd_prefix": "rm(",
     "library": "var_list.r",
     "varRefreshCmd": "cat(var_dic_list()) "
    }
   },
   "types_to_exclude": [
    "module",
    "function",
    "builtin_function_or_method",
    "instance",
    "_Feature"
   ],
   "window_display": false
  }
 },
 "nbformat": 4,
 "nbformat_minor": 2
}
