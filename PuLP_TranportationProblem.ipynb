{
 "cells": [
  {
   "cell_type": "markdown",
   "metadata": {},
   "source": [
    "# PuLP で輸送問題 (Transportation Problem) を解く  \n",
    "\n",
    "PuLP は Python で線形計画 (Linear Programing) 問題をモデル化し、ソルバーで解くためのツールです。  \n",
    "\n",
    "- [coin-or/pulp: A python Linear Programming API](https://github.com/coin-or/pulp)  \n",
    "- [Optimization with PuLP](https://coin-or.github.io/pulp/)  \n",
    "- [pulp: Pulp classes](https://coin-or.github.io/pulp/technical/pulp.html)  \n",
    "\n",
    "Anaconda Cloud ではパッケージは公開されていませんので、`pip install pulp` でインストールしてください。  "
   ]
  },
  {
   "cell_type": "markdown",
   "metadata": {},
   "source": [
    "## 問題  \n",
    "\n",
    "A boutique brewery has two warehouses from which it distributes beer to five carefully chosen bars.   \n",
    "あるビール醸造所はふたつの倉庫を保有しており、そこから 5 つのバーにビールを供給しています。  \n",
    "At the start of every week, each bar sends an order to the brewery’s head office for so many crates of beer, which is then dispatched from the appropriate warehouse to the bar.   \n",
    "毎週始めにそれぞれのバーは醸造所の事務所に大量のビールの注文を送り、それからビールは適切な倉庫から発送されます。  \n",
    "The brewery would like to have an interactive computer program which they can run week by week to tell them which warehouse should supply which bar so as to minimize the costs of the whole operation.   \n",
    "醸造所はコンピュータプログラムを使ってどの倉庫からどのバーにビールを供給すればコストを最小化できるかを計算しています。  \n",
    "For example, suppose that at the start of a given week the brewery has 1000 cases at warehouse A, and 4000 cases at warehouse B, and that the bars require 500, 900, 1800, 200, and 700 cases respectively. Which warehouse should supply which bar?\n",
    "例えば、\n",
    "\n",
    "- A 倉庫には 1000 ケース、B 倉庫には 4000 ケース の在庫がある  \n",
    "- それぞれのバーは 500 ケース、900 ケース、1800 ケース、200 ケース、700 ケース  \n",
    "\n",
    "|From Warehouse to Bar|A|B|\n",
    "|--- |--- |--- |\n",
    "|1|2|3|\n",
    "|2|4|1|\n",
    "|3|5|3|\n",
    "|4|2|2|\n",
    "|5|1|3|"
   ]
  },
  {
   "cell_type": "markdown",
   "metadata": {},
   "source": [
    "$$\\begin{split}W &= \\{A,B\\} \\\\\n",
    "B &= \\{1, 2, 3, 4, 5 \\} \\\\\n",
    "x_{(w,b)} &\\ge 0 \\ldots \\forall w \\in W, b \\in B \\\\\n",
    "x_{(w,b)} & \\in \\mathbb{Z}^+ \\ldots \\forall w \\in W, b \\in B \\\\\\end{split}$$"
   ]
  },
  {
   "cell_type": "code",
   "execution_count": null,
   "metadata": {},
   "outputs": [],
   "source": []
  }
 ],
 "metadata": {
  "kernelspec": {
   "display_name": "or",
   "language": "python",
   "name": "or"
  },
  "language_info": {
   "codemirror_mode": {
    "name": "ipython",
    "version": 3
   },
   "file_extension": ".py",
   "mimetype": "text/x-python",
   "name": "python",
   "nbconvert_exporter": "python",
   "pygments_lexer": "ipython3",
   "version": "3.7.6"
  }
 },
 "nbformat": 4,
 "nbformat_minor": 4
}
