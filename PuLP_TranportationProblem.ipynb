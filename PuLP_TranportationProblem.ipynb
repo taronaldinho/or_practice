{
 "cells": [
  {
   "cell_type": "markdown",
   "metadata": {},
   "source": [
    "# PuLP で輸送問題 (Transportation Problem) を解く  \n",
    "\n",
    "PuLP は Python で線形計画 (Linear Programing) 問題をモデル化し、ソルバーで解くためのツールです。  \n",
    "\n",
    "- [coin-or/pulp: A python Linear Programming API](https://github.com/coin-or/pulp)  \n",
    "- [Optimization with PuLP](https://coin-or.github.io/pulp/)  \n",
    "- [pulp: Pulp classes](https://coin-or.github.io/pulp/technical/pulp.html)  \n",
    "\n",
    "Anaconda Cloud ではパッケージは公開されていませんので、`pip install pulp` でインストールしてください。  "
   ]
  },
  {
   "cell_type": "markdown",
   "metadata": {},
   "source": [
    "## 問題  \n",
    "\n",
    "あるビール醸造所はふたつの倉庫を保有しており、そこから 5 つのバーにビールを供給しています。  \n",
    "毎週始めにそれぞれのバーは醸造所の事務所に大量のビールの注文を送り、それからビールは適切な倉庫から発送されます。  \n",
    "醸造所はコンピュータプログラムを使ってどの倉庫からどのバーにビールを供給すればコストを最小化できるかを計算しています。  \n",
    "例えば、\n",
    "\n",
    "- A 倉庫には 1000 ケース、B 倉庫には 4000 ケース の在庫がある  \n",
    "- それぞれのバーは 500 ケース、900 ケース、1800 ケース、200 ケース、700 ケース  \n",
    "\n",
    "|From Warehouse to Bar|A|B|\n",
    "|--- |--- |--- |\n",
    "|1|2|3|\n",
    "|2|4|1|\n",
    "|3|5|3|\n",
    "|4|2|2|\n",
    "|5|1|3|\n",
    "\n"
   ]
  },
  {
   "cell_type": "markdown",
   "metadata": {},
   "source": [
    "$$\\begin{split}F &= \\{A,B,C\\} \\\\\n",
    "O &= \\{1, 2, 3, 4, 5 \\} \\\\\n",
    "x_{(f,o)} &\\ge 0 \\ldots \\forall f \\in F, o \\in O \\\\\n",
    "x_{(f,o)} &\\in \\mathbb{Z}^+ \\ldots \\forall f \\in F, o \\in O \\\\\\end{split}$$"
   ]
  },
  {
   "cell_type": "code",
   "execution_count": 1,
   "metadata": {},
   "outputs": [],
   "source": [
    "# Import PuLP modeller functions\n",
    "from pulp import *"
   ]
  },
  {
   "cell_type": "code",
   "execution_count": 2,
   "metadata": {},
   "outputs": [],
   "source": [
    "# Creates a list of all the supply nodes\n",
    "factories = [\"A\", \"B\", \"C\"]\n",
    "\n",
    "# Creates a dictionary for the number of units of supply for each supply node\n",
    "supply = {\"A\": 120,\n",
    "          \"B\": 125,\n",
    "          \"C\": 75}\n",
    "\n",
    "# Creates a list of all demand nodes\n",
    "offices = [\"1\", \"2\", \"3\", \"4\", \"5\"]\n",
    "\n",
    "# Creates a dictionary for the number of units of demand for each demand node\n",
    "demand = {\"1\": 100,\n",
    "          \"2\": 60,\n",
    "          \"3\": 40,\n",
    "          \"4\": 75,\n",
    "          \"5\": 25}"
   ]
  },
  {
   "cell_type": "code",
   "execution_count": 3,
   "metadata": {},
   "outputs": [],
   "source": [
    "# Creates a list of costs of each transportation path\n",
    "costs = [# offices\n",
    "        # 1  2  3  4  5\n",
    "         [4, 3, 4, 5, 2], # A  factories\n",
    "         [5, 2, 3, 5, 3], # B\n",
    "         [2, 1, 6, 4, 3]  # C\n",
    "        ]"
   ]
  },
  {
   "cell_type": "code",
   "execution_count": 4,
   "metadata": {},
   "outputs": [],
   "source": [
    "# Creates the prob variable to contain the problem data\n",
    "prob = LpProblem(\"Beer_Distribution_Problem\", LpMinimize)"
   ]
  },
  {
   "cell_type": "code",
   "execution_count": 5,
   "metadata": {},
   "outputs": [],
   "source": [
    "# Creates a list of tuples containing all the possible routes for transport\n",
    "Routes = [(f, o) for f in factories for o in offices]"
   ]
  },
  {
   "cell_type": "code",
   "execution_count": 6,
   "metadata": {},
   "outputs": [],
   "source": [
    "# A dictionary called route_vars is created to contain the referenced variables (the routes)\n",
    "route_vars = LpVariable.dicts(\"Route\", (factories, offices), 0, None, LpInteger)"
   ]
  },
  {
   "cell_type": "code",
   "execution_count": 7,
   "metadata": {},
   "outputs": [],
   "source": [
    "# The objective function is added to prob first\n",
    "prob += lpSum([route_vars[f][o]*costs[factories.index(f)][int(o)-1] for (f, o) in Routes]), \"Sum of Transporting Costs\""
   ]
  },
  {
   "cell_type": "code",
   "execution_count": 8,
   "metadata": {},
   "outputs": [],
   "source": [
    "# The supply maximum constraints are added to prob for each supply node (warehouse)\n",
    "for f in factories:\n",
    "    prob += lpSum([route_vars[f][o] for o in offices]) <= supply[f], \"Sum of Products out of Warehouse %s\"%f\n",
    "\n",
    "# The demand minimum constraints are added to prob for each demand node (bar)\n",
    "for o in offices:\n",
    "    prob += lpSum([route_vars[f][o] for f in factories]) >= demand[o], \"Sum of Products into Bars %s\"%o"
   ]
  },
  {
   "cell_type": "code",
   "execution_count": 9,
   "metadata": {},
   "outputs": [
    {
     "data": {
      "text/plain": [
       "1"
      ]
     },
     "execution_count": 9,
     "metadata": {},
     "output_type": "execute_result"
    }
   ],
   "source": [
    "prob.solve()"
   ]
  },
  {
   "cell_type": "code",
   "execution_count": 10,
   "metadata": {},
   "outputs": [
    {
     "name": "stdout",
     "output_type": "stream",
     "text": [
      "Route_A_1 : 25.0\n",
      "Route_A_2 : 0.0\n",
      "Route_A_3 : 0.0\n",
      "Route_A_4 : 70.0\n",
      "Route_A_5 : 25.0\n",
      "Route_B_1 : 0.0\n",
      "Route_B_2 : 60.0\n",
      "Route_B_3 : 40.0\n",
      "Route_B_4 : 5.0\n",
      "Route_B_5 : 0.0\n",
      "Route_C_1 : 75.0\n",
      "Route_C_2 : 0.0\n",
      "Route_C_3 : 0.0\n",
      "Route_C_4 : 0.0\n",
      "Route_C_5 : 0.0\n",
      "総コスト: 915.0\n"
     ]
    }
   ],
   "source": [
    "# 結果の表示\n",
    "for v in prob.variables():\n",
    "    print(v.name, \":\", pulp.value(v))\n",
    "print(\"総コスト:\", pulp.value(prob.objective))"
   ]
  },
  {
   "cell_type": "markdown",
   "metadata": {},
   "source": []
  },
  {
   "cell_type": "code",
   "execution_count": null,
   "metadata": {},
   "outputs": [],
   "source": [
    "# Creates a list of all the supply nodes\n",
    "factories = [\"A\", \"B\", \"C\"]\n",
    "\n",
    "# Creates a dictionary for the number of units of supply for each supply node\n",
    "supply = {\"A\": 120,\n",
    "          \"B\": 125,\n",
    "          \"C\": 75}\n",
    "\n",
    "# Creates a list of all demand nodes\n",
    "offices = [\"1\", \"2\", \"3\", \"4\", \"5\", \"d\"]  # d for \"Dummy\"\n",
    "\n",
    "# Creates a dictionary for the number of units of demand for each demand node\n",
    "demand = {\"1\": 95,\n",
    "          \"2\": 50,\n",
    "          \"3\": 40,\n",
    "          \"4\": 50,\n",
    "          \"5\": 15,\n",
    "          \"d\": 50}"
   ]
  },
  {
   "cell_type": "code",
   "execution_count": null,
   "metadata": {},
   "outputs": [],
   "source": []
  },
  {
   "cell_type": "code",
   "execution_count": null,
   "metadata": {},
   "outputs": [],
   "source": []
  },
  {
   "cell_type": "code",
   "execution_count": null,
   "metadata": {},
   "outputs": [],
   "source": []
  },
  {
   "cell_type": "code",
   "execution_count": null,
   "metadata": {},
   "outputs": [],
   "source": []
  },
  {
   "cell_type": "code",
   "execution_count": null,
   "metadata": {},
   "outputs": [],
   "source": []
  },
  {
   "cell_type": "code",
   "execution_count": null,
   "metadata": {},
   "outputs": [],
   "source": []
  },
  {
   "cell_type": "code",
   "execution_count": null,
   "metadata": {},
   "outputs": [],
   "source": []
  },
  {
   "cell_type": "markdown",
   "metadata": {},
   "source": [
    "## 参考文献  \n",
    "\n",
    "- [A Transportation Problem — PuLP 2.0 documentation](https://coin-or.github.io/pulp/CaseStudies/a_transportation_problem.html)  \n",
    "- [問題解決のためのオペレーションズ・リサーチ入門｜日本評論社](https://www.nippyo.co.jp/shop/book/1404.html)  "
   ]
  }
 ],
 "metadata": {
  "kernelspec": {
   "display_name": "or",
   "language": "python",
   "name": "or"
  },
  "language_info": {
   "codemirror_mode": {
    "name": "ipython",
    "version": 3
   },
   "file_extension": ".py",
   "mimetype": "text/x-python",
   "name": "python",
   "nbconvert_exporter": "python",
   "pygments_lexer": "ipython3",
   "version": "3.7.7"
  }
 },
 "nbformat": 4,
 "nbformat_minor": 4
}
