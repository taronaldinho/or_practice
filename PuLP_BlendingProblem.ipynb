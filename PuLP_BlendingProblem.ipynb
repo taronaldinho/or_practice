{
 "cells": [
  {
   "cell_type": "markdown",
   "metadata": {},
   "source": [
    "# PuLP でブレンド問題 (Blending Problem) を解く  \n",
    "\n",
    "PuLP は Python で線形計画 (Linear Programing) 問題をモデル化し、ソルバーで解くためのツールです。  \n",
    "\n",
    "- [coin-or/pulp: A python Linear Programming API](https://github.com/coin-or/pulp)  \n",
    "- [Optimization with PuLP](https://coin-or.github.io/pulp/)  \n",
    "- [pulp: Pulp classes](https://coin-or.github.io/pulp/technical/pulp.html)  \n",
    "\n",
    "Anaconda Cloud ではパッケージは公開されていませんので、`pip install pulp` でインストールしてください。  "
   ]
  },
  {
   "cell_type": "markdown",
   "metadata": {},
   "source": [
    "## 問題_1  \n",
    "\n",
    "ある飲料品メーカでは「ブラックコーヒー」と「ミルクコーヒー」の 2 種類の製品を生産し販売しています。  \n",
    "\n",
    "ブラックコーヒーは 1 kg あたり 50 円、ミルクコーヒーは 1 kg あたり 40 円の利益となります。それぞれの製品を 1 kg 生産するために必要な原料の重量および 1 カ月間の制限量は以下の通りです。  \n",
    "\n",
    "|原料|ブラックコーヒー必要量<br>\\[kg\\]|ミルクコーヒー必要量<br>\\[kg\\]|使用制限量<br>\\[t\\]|\n",
    "|:---:|:---:|:---:|:---:|\n",
    "|キリマンジャロエキス|0.15|0.05|50|\n",
    "|コロンビアエキス|0.05|0.10|40|\n",
    "\n",
    "また、工場の 1 カ月間の生産能力は両製品合わせて最大 500 t です。  \n",
    "\n",
    "生産したものはすべて売れて予定通りの利益を得られるとしたとき、2 つの製品をどれくらいずつ生産すれば一番多く利益を上げることができるでしょうか？  "
   ]
  },
  {
   "cell_type": "markdown",
   "metadata": {},
   "source": [
    "### 定式化  "
   ]
  },
  {
   "cell_type": "markdown",
   "metadata": {},
   "source": [
    "#### 決定変数  \n",
    "\n",
    "$$\\begin{split}bcp &=  \\text{ black coffee production }\\\\\n",
    "mcp &= \\text{ milk coffee production }\\end{split}$$"
   ]
  },
  {
   "cell_type": "markdown",
   "metadata": {},
   "source": [
    "#### 目的関数  \n",
    "\n",
    "$$\\textbf{Maximize } 50 bcp + 40 mcp$$"
   ]
  },
  {
   "cell_type": "markdown",
   "metadata": {},
   "source": [
    "#### 制約条件  \n",
    "\n",
    "$$\\begin{split} 0.15 bcp + 0.05 mcp &\\leq 50000\\\\  0.05 bcp + 0.10 mcp &\\leq 40000\\\\ bcp + mcp &\\leq 500000 \\\\ \\end{split}$$"
   ]
  },
  {
   "cell_type": "markdown",
   "metadata": {},
   "source": [
    "### PuLP で解く  "
   ]
  },
  {
   "cell_type": "code",
   "execution_count": 1,
   "metadata": {},
   "outputs": [],
   "source": [
    "# 必要なモジュールのインポート\n",
    "import pulp\n",
    "from pulp import LpProblem, LpMinimize, LpMaximize, LpVariable, LpInteger, LpContinuous, lpSum\n",
    "import numpy as np\n",
    "import matplotlib.pyplot as plt"
   ]
  },
  {
   "cell_type": "code",
   "execution_count": 2,
   "metadata": {},
   "outputs": [
    {
     "data": {
      "image/png": "[encoded data removed]",
      "text/plain": [
       "<Figure size 432x288 with 1 Axes>"
      ]
     },
     "metadata": {
      "needs_background": "light"
     },
     "output_type": "display_data"
    }
   ],
   "source": [
    "# ひとまず条件を可視化してみる\n",
    "x_0 = np.arange(0, 600000, 10000)\n",
    "\n",
    "y_lk_0 = -3.0*x_0 + 1000000\n",
    "y_lc_0 = -0.5*x_0 + 400000\n",
    "y_lp_0 = -x_0 + 500000\n",
    "\n",
    "plt.plot(x_0, y_lk_0, label=\"Limit_Kilimanjaro\")\n",
    "plt.plot(x_0, y_lc_0, label=\"Limit_Colombia\")\n",
    "plt.plot(x_0, y_lp_0, label=\"Limit_Plant_Capacity\")\n",
    "plt.legend()\n",
    "\n",
    "plt.xlabel(\"Black Coffee Production [kg]\"); plt.ylabel(\"Milk Coffee Production [kg]\")\n",
    "plt.ylim(0, 1100000)\n",
    "\n",
    "plt.show()"
   ]
  },
  {
   "cell_type": "markdown",
   "metadata": {},
   "source": [
    "`LpProblem` クラスを用いえてモデルを作成します。  \n",
    "1 番目の引数 `name=` はそのモデルを表す任意の名前。2 番目の引数 `sense=` はモデルの対象 (デフォルトは `LpMinimize` で目的関数の最小化/ `LpMaximize` で最大化) です。  "
   ]
  },
  {
   "cell_type": "code",
   "execution_count": 3,
   "metadata": {},
   "outputs": [],
   "source": [
    "# モデルの作成 (最大化)\n",
    "seisankeikaku_0 = LpProblem(name=\"生産計画\", sense=LpMaximize)"
   ]
  },
  {
   "cell_type": "markdown",
   "metadata": {},
   "source": [
    "`LpVariable` クラスを用いて 2 つの決定変数を作成します。  \n",
    "1 番目の引数 `name=` はその変数を表す任意の名前。2 番目の引数 `lowBound=` は変数の下限 (デフォルトは `None` で負の無限大)。3 番目の引数 `upBound=` は変数の上限 (デフォルトは `None` で正の無限大)。4 番目の引数 `cat=` は変数のカテゴリ (デフォルトは `LpContinuous` で連続値/今回は整数の離散値である `LpInteger` を使う) です。  "
   ]
  },
  {
   "cell_type": "code",
   "execution_count": 4,
   "metadata": {},
   "outputs": [],
   "source": [
    "# 決定変数の作成\n",
    "bcp = LpVariable(name=\"ブラックコーヒー\", lowBound=0, upBound=None, cat=LpInteger)\n",
    "mcp = LpVariable(\"ミルクコーヒー\", 0, None, LpInteger)"
   ]
  },
  {
   "cell_type": "markdown",
   "metadata": {},
   "source": [
    "まずはじめに目的関数をモデルに加え、その後に制約条件を加えます。  \n",
    "`LpVariable` クラスに対して `+=` 演算子を使って、`LpVariable += 目的関数 or 制約条件, 式の説明 (省略可)` で追加していきます。  "
   ]
  },
  {
   "cell_type": "code",
   "execution_count": 5,
   "metadata": {},
   "outputs": [],
   "source": [
    "# 目的関数をモデルに追加\n",
    "seisankeikaku_0 += 50*bcp + 60*mcp, \"販売利益\""
   ]
  },
  {
   "cell_type": "code",
   "execution_count": 6,
   "metadata": {},
   "outputs": [],
   "source": [
    "# 制約条件をモデルに追加\n",
    "seisankeikaku_0 += 0.15*bcp + 0.05*mcp <= 50000, \"キリマンジャロエキス制限\"\n",
    "seisankeikaku_0 += 0.05*bcp + 0.10*mcp <= 40000, \"コロンビアエキス制限\"\n",
    "seisankeikaku_0 += bcp + mcp <= 500000, \"生産装置制限\""
   ]
  },
  {
   "cell_type": "code",
   "execution_count": 7,
   "metadata": {},
   "outputs": [
    {
     "data": {
      "text/plain": [
       "生産計画:\n",
       "MAXIMIZE\n",
       "50*ブラックコーヒー + 60*ミルクコーヒー + 0\n",
       "SUBJECT TO\n",
       "キリマンジャロエキス制限: 0.15 ブラックコーヒー + 0.05 ミルクコーヒー <= 50000\n",
       "\n",
       "コロンビアエキス制限: 0.05 ブラックコーヒー + 0.1 ミルクコーヒー <= 40000\n",
       "\n",
       "生産装置制限: ブラックコーヒー + ミルクコーヒー <= 500000\n",
       "\n",
       "VARIABLES\n",
       "0 <= ブラックコーヒー Integer\n",
       "0 <= ミルクコーヒー Integer"
      ]
     },
     "execution_count": 7,
     "metadata": {},
     "output_type": "execute_result"
    }
   ],
   "source": [
    "# モデルを確認\n",
    "seisankeikaku_0"
   ]
  },
  {
   "cell_type": "code",
   "execution_count": 8,
   "metadata": {},
   "outputs": [
    {
     "data": {
      "text/plain": [
       "1"
      ]
     },
     "execution_count": 8,
     "metadata": {},
     "output_type": "execute_result"
    }
   ],
   "source": [
    "# モデルをソルバーで解く\n",
    "seisankeikaku_0.solve()"
   ]
  },
  {
   "cell_type": "markdown",
   "metadata": {},
   "source": [
    "`LpProblem.solve()` が返す整数値の意味は以下の通りです。\n",
    "\n",
    "|整数値|文字列|説明|\n",
    "|:---:|:---|:----|\n",
    "|1|Optimal|許容される範囲内での厳密解が得られた|\n",
    "|-1|Infeasible|実行可能領域が空|\n",
    "|-2|Unbounded|非有界|\n",
    "|0|Not Solved|時間制限で停止した場合など|\n",
    "|-3|Undefined|PuLP で判断できない問題|\n"
   ]
  },
  {
   "cell_type": "code",
   "execution_count": 9,
   "metadata": {},
   "outputs": [
    {
     "name": "stdout",
     "output_type": "stream",
     "text": [
      "Status: Optimal\n"
     ]
    }
   ],
   "source": [
    "# ステータスを文字列として表示\n",
    "print(\"Status:\", pulp.LpStatus[seisankeikaku_0.status])"
   ]
  },
  {
   "cell_type": "markdown",
   "metadata": {},
   "source": [
    "### 結果の分析  \n",
    "\n",
    "`pulp.value()` は PuLP の変数や式を評価した値を返します。  \n",
    "モデルを解いたあとの決定変数、目的関数、制約条件を確認していきます。  "
   ]
  },
  {
   "cell_type": "markdown",
   "metadata": {},
   "source": [
    "`LpProblem.variables()` は `LpVariable` (決定変数) のリストを返します。  "
   ]
  },
  {
   "cell_type": "code",
   "execution_count": 10,
   "metadata": {},
   "outputs": [
    {
     "data": {
      "text/plain": [
       "[ブラックコーヒー, ミルクコーヒー]"
      ]
     },
     "execution_count": 10,
     "metadata": {},
     "output_type": "execute_result"
    }
   ],
   "source": [
    "seisankeikaku_0.variables()"
   ]
  },
  {
   "cell_type": "code",
   "execution_count": 11,
   "metadata": {},
   "outputs": [
    {
     "data": {
      "text/plain": [
       "pulp.pulp.LpVariable"
      ]
     },
     "execution_count": 11,
     "metadata": {},
     "output_type": "execute_result"
    }
   ],
   "source": [
    "type(seisankeikaku_0.variables()[0])"
   ]
  },
  {
   "cell_type": "markdown",
   "metadata": {},
   "source": [
    "`LpVariable.name` には決定変数の名前が格納されています。  \n",
    "なお、決定変数の値は `LpVariable.verValue` でも確認できます。  "
   ]
  },
  {
   "cell_type": "code",
   "execution_count": 12,
   "metadata": {},
   "outputs": [
    {
     "name": "stdout",
     "output_type": "stream",
     "text": [
      "ブラックコーヒー : 200000.0 kg\n",
      "ミルクコーヒー : 300000.0 kg\n"
     ]
    }
   ],
   "source": [
    "# 生産量 (解) と利益の表示\n",
    "for v in seisankeikaku_0.variables():\n",
    "    print(v.name, \":\", pulp.value(v), \"kg\")"
   ]
  },
  {
   "cell_type": "markdown",
   "metadata": {},
   "source": [
    "`LpProblem.objective` には目的関数 (クラス: `LpAffineExpression`) が格納されています。  "
   ]
  },
  {
   "cell_type": "code",
   "execution_count": 13,
   "metadata": {},
   "outputs": [
    {
     "data": {
      "text/plain": [
       "50*ブラックコーヒー + 60*ミルクコーヒー + 0"
      ]
     },
     "execution_count": 13,
     "metadata": {},
     "output_type": "execute_result"
    }
   ],
   "source": [
    "seisankeikaku_0.objective"
   ]
  },
  {
   "cell_type": "code",
   "execution_count": 14,
   "metadata": {},
   "outputs": [
    {
     "data": {
      "text/plain": [
       "pulp.pulp.LpAffineExpression"
      ]
     },
     "execution_count": 14,
     "metadata": {},
     "output_type": "execute_result"
    }
   ],
   "source": [
    "type(seisankeikaku_0.objective)"
   ]
  },
  {
   "cell_type": "code",
   "execution_count": 15,
   "metadata": {},
   "outputs": [
    {
     "name": "stdout",
     "output_type": "stream",
     "text": [
      "販売利益: 28000000.0 円\n"
     ]
    }
   ],
   "source": [
    "# 最大化された目的関数の値を表示\n",
    "print(\"販売利益:\", pulp.value(seisankeikaku_0.objective), \"円\")"
   ]
  },
  {
   "cell_type": "markdown",
   "metadata": {},
   "source": [
    "`LpProblem.constrains` には、制約条件 (クラス: `LpConstraint`) が順序付き辞書 (クラス: `collections.OrderedDict`) 形式で格納されています。  "
   ]
  },
  {
   "cell_type": "code",
   "execution_count": 16,
   "metadata": {},
   "outputs": [
    {
     "data": {
      "text/plain": [
       "OrderedDict([('キリマンジャロエキス制限', 0.15*ブラックコーヒー + 0.05*ミルクコーヒー + -50000.0 <= 0),\n",
       "             ('コロンビアエキス制限', 0.05*ブラックコーヒー + 0.1*ミルクコーヒー + -40000.0 <= 0),\n",
       "             ('生産装置制限', 1*ブラックコーヒー + 1*ミルクコーヒー + -500000 <= 0)])"
      ]
     },
     "execution_count": 16,
     "metadata": {},
     "output_type": "execute_result"
    }
   ],
   "source": [
    "seisankeikaku_0.constraints"
   ]
  },
  {
   "cell_type": "markdown",
   "metadata": {},
   "source": [
    "※`LpConstraint` では制約条件をモデルに追加した際の式の右辺の定数が左辺に移項されています。  "
   ]
  },
  {
   "cell_type": "code",
   "execution_count": 17,
   "metadata": {},
   "outputs": [
    {
     "data": {
      "text/plain": [
       "pulp.pulp.LpConstraint"
      ]
     },
     "execution_count": 17,
     "metadata": {},
     "output_type": "execute_result"
    }
   ],
   "source": [
    "type(seisankeikaku_0.constraints[\"キリマンジャロエキス制限\"])"
   ]
  },
  {
   "cell_type": "code",
   "execution_count": 18,
   "metadata": {},
   "outputs": [
    {
     "name": "stdout",
     "output_type": "stream",
     "text": [
      "キリマンジャロエキス制限 : -5000.0 kg\n",
      "コロンビアエキス制限 : 0.0 kg\n",
      "生産装置制限 : 0.0 kg\n"
     ]
    }
   ],
   "source": [
    "# 制約条件式左辺の値を表示 \n",
    "for i in seisankeikaku_0.constraints.items():\n",
    "    print(i[0], \":\", pulp.value(i[1]), \"kg\")"
   ]
  },
  {
   "cell_type": "markdown",
   "metadata": {},
   "source": [
    "キリマンジャロエキスは、使用制限に対してまだ 5 t の余裕があったようです。  "
   ]
  },
  {
   "cell_type": "markdown",
   "metadata": {},
   "source": [
    "### 制約条件を変えてみる  \n",
    "\n",
    "コロンビアエキスの使用制限を緩和し、45 t 使用できるようにしたと仮定して再度検討してみます。  "
   ]
  },
  {
   "cell_type": "code",
   "execution_count": 19,
   "metadata": {},
   "outputs": [
    {
     "data": {
      "image/png": "[encoded data removed]",
      "text/plain": [
       "<Figure size 432x288 with 1 Axes>"
      ]
     },
     "metadata": {
      "needs_background": "light"
     },
     "output_type": "display_data"
    }
   ],
   "source": [
    "# 再度、条件を可視化してみる\n",
    "x_1 = np.arange(0, 600000, 10000)\n",
    "\n",
    "y_lk_1 = -3.0*x_1 + 1000000\n",
    "y_lc_1 = -0.5*x_1 + 450000\n",
    "y_lp_1 = -x_1 + 500000\n",
    "\n",
    "plt.plot(x_1, y_lk_1, label=\"Limit_Kilimanjaro\")\n",
    "plt.plot(x_1, y_lc_1, label=\"Limit_Colombia\")\n",
    "plt.plot(x_1, y_lp_1, label=\"Limit_Plant_Capacity\")\n",
    "plt.legend()\n",
    "\n",
    "plt.xlabel(\"Black Coffee Production [kg]\"); plt.ylabel(\"Milk Coffee Production [kg]\")\n",
    "plt.ylim(0, 1100000)\n",
    "\n",
    "plt.show()"
   ]
  },
  {
   "cell_type": "code",
   "execution_count": 20,
   "metadata": {},
   "outputs": [],
   "source": [
    "# 元のモデルをコピー\n",
    "seisankeikaku_1 = seisankeikaku_0.copy()"
   ]
  },
  {
   "cell_type": "code",
   "execution_count": 21,
   "metadata": {},
   "outputs": [
    {
     "data": {
      "text/plain": [
       "生産計画_改:\n",
       "MAXIMIZE\n",
       "50*ブラックコーヒー + 60*ミルクコーヒー + 0\n",
       "SUBJECT TO\n",
       "キリマンジャロエキス制限: 0.15 ブラックコーヒー + 0.05 ミルクコーヒー <= 50000\n",
       "\n",
       "コロンビアエキス制限: 0.05 ブラックコーヒー + 0.1 ミルクコーヒー <= 40000\n",
       "\n",
       "生産装置制限: ブラックコーヒー + ミルクコーヒー <= 500000\n",
       "\n",
       "VARIABLES\n",
       "0 <= ブラックコーヒー Integer\n",
       "0 <= ミルクコーヒー Integer"
      ]
     },
     "execution_count": 21,
     "metadata": {},
     "output_type": "execute_result"
    }
   ],
   "source": [
    "# モデルの名前を変更\n",
    "seisankeikaku_1.name = \"生産計画_改\"\n",
    "seisankeikaku_1"
   ]
  },
  {
   "cell_type": "code",
   "execution_count": 22,
   "metadata": {},
   "outputs": [],
   "source": [
    "# 制約条件式の右辺 (Right Hand Side) を変更\n",
    "seisankeikaku_1.constraints[\"コロンビアエキス制限\"].changeRHS(45000)"
   ]
  },
  {
   "cell_type": "code",
   "execution_count": 23,
   "metadata": {},
   "outputs": [
    {
     "data": {
      "text/plain": [
       "生産計画_改:\n",
       "MAXIMIZE\n",
       "50*ブラックコーヒー + 60*ミルクコーヒー + 0\n",
       "SUBJECT TO\n",
       "キリマンジャロエキス制限: 0.15 ブラックコーヒー + 0.05 ミルクコーヒー <= 50000\n",
       "\n",
       "コロンビアエキス制限: 0.05 ブラックコーヒー + 0.1 ミルクコーヒー <= 45000\n",
       "\n",
       "生産装置制限: ブラックコーヒー + ミルクコーヒー <= 500000\n",
       "\n",
       "VARIABLES\n",
       "0 <= ブラックコーヒー Integer\n",
       "0 <= ミルクコーヒー Integer"
      ]
     },
     "execution_count": 23,
     "metadata": {},
     "output_type": "execute_result"
    }
   ],
   "source": [
    "# 変更の確認\n",
    "seisankeikaku_1"
   ]
  },
  {
   "cell_type": "code",
   "execution_count": 24,
   "metadata": {},
   "outputs": [
    {
     "data": {
      "text/plain": [
       "1"
      ]
     },
     "execution_count": 24,
     "metadata": {},
     "output_type": "execute_result"
    }
   ],
   "source": [
    "# モデルを解く\n",
    "seisankeikaku_1.solve()"
   ]
  },
  {
   "cell_type": "code",
   "execution_count": 25,
   "metadata": {},
   "outputs": [
    {
     "name": "stdout",
     "output_type": "stream",
     "text": [
      "ブラックコーヒー : 100000.0 kg\n",
      "ミルクコーヒー : 400000.0 kg\n",
      "---------------\n",
      "販売利益: 29000000.0 円\n",
      "---------------\n",
      "キリマンジャロエキス制限 : -15000.0 kg\n",
      "コロンビアエキス制限 : 0.0 kg\n",
      "生産装置制限 : 0.0 kg\n"
     ]
    }
   ],
   "source": [
    "# 結果の表示\n",
    "for v in seisankeikaku_1.variables():\n",
    "    print(v.name, \":\", pulp.value(v), \"kg\")\n",
    "print(\"-\"*15)\n",
    "print(\"販売利益:\", pulp.value(seisankeikaku_1.objective), \"円\")\n",
    "print(\"-\"*15)\n",
    "for i in seisankeikaku_1.constraints.items():\n",
    "    print(i[0], \":\", pulp.value(i[1]), \"kg\")"
   ]
  },
  {
   "cell_type": "markdown",
   "metadata": {},
   "source": [
    "## 問題 2  \n",
    "\n"
   ]
  },
  {
   "cell_type": "markdown",
   "metadata": {},
   "source": [
    "あるペット用品メーカでドッグフードを製造しています。ドッグフードの原料のコストおよび栄養素の含有割合は以下の通りです。  \n",
    "\n",
    "|原料|コスト<br>\\[JPY/g\\]|タンパク質<br>\\[%\\]|脂質<br>\\[%\\]|炭水化物<br>\\[%\\]|食物繊維<br>\\[%\\]|食塩<br>\\[%\\]|\n",
    "|--- |---: |---: |---: |---: |---: |---: |\n",
    "|鶏肉|0.30|10.0|8.0 |2.0 |0.1|0.2|\n",
    "|牛肉|0.50|20.0|10.0|1.0 |0.5|0.5|\n",
    "|羊肉|0.40|15.0|11.0|1.0 |0.3|0.7|\n",
    "|米  |0.20|1.3 |0.2 |40.0|2.3|0.0|\n",
    "|小麦|0.25|8.3 |1.5 |50.0|2.5|0.2|\n",
    "\n",
    "この製品のラベルには、  \n",
    "\n",
    "- タンパク質含有量: 15 % 以上  \n",
    "- 脂質含有量: 8 % 以下  \n",
    "- 炭水化物含有量: 8 % 以上  \n",
    "- 食物繊維含有量: 1 % 以下\n",
    "- 食塩含有量: 1 % 以下  \n",
    "\n",
    "と記載されます。成分表示記載を満足したうえで 1 缶 (100 g) の原料コストを最小にする配合はどのようになるでしょうか？  "
   ]
  },
  {
   "cell_type": "markdown",
   "metadata": {},
   "source": [
    "### 定式化  "
   ]
  },
  {
   "cell_type": "markdown",
   "metadata": {},
   "source": [
    "#### 決定変数  \n",
    "\n",
    "$$\\begin{split}x_1 &= \\text{amount of chicken meat in a can of dog food}\\\\\n",
    "x_2 &= \\text{amount of beef used in a can of dog food}\\\\\n",
    "x_3 &= \\text{amount of mutton used in a can of dog food}\\\\\n",
    "x_4 &= \\text{amount of rice used in a can of dog food}\\\\\n",
    "x_5 &= \\text{amount of wheat used in a can of dog food}\\\\\n",
    "\\end{split}$$"
   ]
  },
  {
   "cell_type": "markdown",
   "metadata": {},
   "source": [
    "#### 目的関数  \n",
    "\n",
    "$$\\textbf{Minimize } 0.30 x_1 + 0.50 x_2 + 0.40 x_3 + 0.20 x_4 + 0.25 x_5$$"
   ]
  },
  {
   "cell_type": "markdown",
   "metadata": {},
   "source": [
    "#### 制約条件  \n",
    "\n",
    "$$\n",
    "\\begin{split}x_1 + x_2 + x_3 + x_4 + x_5 &= 100 \\\\\n",
    "             0.100 x_1 +0.200 x_2 +0.150 x_3 +0.013 x_4 +0.025 x_5 &\\ge 15.0 \\\\\n",
    "             0.080 x_1 +0.100 x_2 +0.110 x_3 +0.002 x_4 +0.015 x_5 &\\le 8.0 \\\\\n",
    "             0.020 x_1 +0.010 x_2 +0.010 x_3 +0.400 x_4 +0.500 x_5 &\\ge 8.0 \\\\\n",
    "             0.001 x_1 +0.005 x_2 +0.003 x_3 +0.023 x_4 +0.025 x_5 &\\le 1.0 \\\\\n",
    "             0.002 x_1 +0.005 x_2 +0.007 x_3 +0.000 x_4 +0.002 x_5 &\\le 1.4\\end{split}$$"
   ]
  },
  {
   "cell_type": "markdown",
   "metadata": {},
   "source": [
    "この問題は変数および制約条件の数が多いので、前の問題のように図で表すことも困難ですね💦  \n",
    "\n",
    "ここでは辞書 (`dict`) を利用して決定変数、目的関数、制約条件を作成します。  "
   ]
  },
  {
   "cell_type": "code",
   "execution_count": 26,
   "metadata": {},
   "outputs": [],
   "source": [
    "# 原料のリスト\n",
    "ingredients = [\"CHICKEN\", \"BEEF\", \"MUTTON\", \"RICE\", \"WHEAT\"]\n",
    "\n",
    "# 原料名とコストを対応付けた辞書\n",
    "costs = {\"CHICKEN\": 0.300, \n",
    "         \"BEEF\":    0.500, \n",
    "         \"MUTTON\":  0.400, \n",
    "         \"RICE\":    0.200, \n",
    "         \"WHEAT\":   0.250, \n",
    "         }\n",
    "\n",
    "# 原材料名とタンパク質含有量を対応付けた辞書\n",
    "protein_percent = {\"CHICKEN\": 0.100,\n",
    "                   \"BEEF\":    0.200, \n",
    "                   \"MUTTON\":  0.150, \n",
    "                   \"RICE\":    0.013, \n",
    "                   \"WHEAT\":   0.083, \n",
    "                   }\n",
    "\n",
    "# 原材料名と脂質含有量を対応付けた辞書\n",
    "fat_percent = {\"CHICKEN\": 0.080, \n",
    "               \"BEEF\":    0.100, \n",
    "               \"MUTTON\":  0.110, \n",
    "               \"RICE\":    0.002, \n",
    "               \"WHEAT\":   0.015, \n",
    "               }\n",
    "\n",
    "# 原材料名と炭水化物含有量を対応付けた辞書\n",
    "Carbohydrate_percent = {\"CHICKEN\": 0.020, \n",
    "                        \"BEEF\":    0.010, \n",
    "                        \"MUTTON\":  0.010, \n",
    "                        \"RICE\":    0.400, \n",
    "                        \"WHEAT\":   0.500, \n",
    "                        }\n",
    "\n",
    "# 原材料名と食物繊維含有量を対応付けた辞書\n",
    "fiber_percent = {\"CHICKEN\": 0.001, \n",
    "                 \"BEEF\":    0.005, \n",
    "                 \"MUTTON\":  0.003, \n",
    "                 \"RICE\":    0.023, \n",
    "                 \"WHEAT\":   0.025, \n",
    "                 }\n",
    "\n",
    "# 原材料名と食塩含有量を対応付けた辞書\n",
    "salt_percent = {\"CHICKEN\": 0.002, \n",
    "                \"BEEF\":    0.005, \n",
    "                \"MUTTON\":  0.007, \n",
    "                \"RICE\":    0.000, \n",
    "                \"WHEAT\":   0.002, \n",
    "                }"
   ]
  },
  {
   "cell_type": "code",
   "execution_count": 27,
   "metadata": {},
   "outputs": [],
   "source": [
    "# モデルの作成 (最小化)\n",
    "dogfood = LpProblem(\"ドッグフード配合\", LpMinimize)"
   ]
  },
  {
   "cell_type": "markdown",
   "metadata": {},
   "source": [
    "`LpVariable.dict()` メソッドを用いて `LpVariable` (決定変数) の辞書を作成します。  \n",
    "1 番目の引数 `name=` は各変数名の前に付けられる接頭語 (間に `_` が自動で入る)。2 番目の引数 `indexes=` は決定変数名のリスト。3 番目の引数 `lowBound=` は変数の下限 (デフォルトは `None` で負の無限大)。3 番目の引数 `upBound=` は変数の上限 (デフォルトは `None` で正の無限大)。4 番目の引数 `cat=` は変数のカテゴリ (デフォルトは `LpContinuous` で連続値/今回は整数の離散値である `LpInteger` を使う) です。  "
   ]
  },
  {
   "cell_type": "code",
   "execution_count": 28,
   "metadata": {},
   "outputs": [
    {
     "name": "stdout",
     "output_type": "stream",
     "text": [
      "{'CHICKEN': Ingr_CHICKEN, 'BEEF': Ingr_BEEF, 'MUTTON': Ingr_MUTTON, 'RICE': Ingr_RICE, 'WHEAT': Ingr_WHEAT}\n",
      "<class 'dict'>\n",
      "<class 'pulp.pulp.LpVariable'>\n"
     ]
    }
   ],
   "source": [
    "# 複数の決定変数を格納する辞書を作成\n",
    "ingredient_vars = LpVariable.dicts(name=\"Ingr\", indexs=ingredients, lowBound=0, upBound=None, cat=LpInteger)\n",
    "print(ingredient_vars)\n",
    "print(type(ingredient_vars))\n",
    "print(type(ingredient_vars[\"CHICKEN\"]))"
   ]
  },
  {
   "cell_type": "markdown",
   "metadata": {},
   "source": [
    "リスト内法表記と `lpSum()` 関数を使って目的関数と制約条件をモデルに追加します。  "
   ]
  },
  {
   "cell_type": "code",
   "execution_count": 29,
   "metadata": {},
   "outputs": [],
   "source": [
    "# lpsum() 関数を使って目的関数をモデルに加える\n",
    "# 右辺関数は 0.3*Ingr_CHICKEN + 0.5*Ingr_BEEF + 0.4*Ingr_MUTTON + 0.2*Ingr_RICE + 0.25*Ingr_WHEAT の意\n",
    "dogfood += lpSum([costs[i]*ingredient_vars[i] for i in ingredients]), \"Total Cost of Ingredients per can\""
   ]
  },
  {
   "cell_type": "code",
   "execution_count": 30,
   "metadata": {},
   "outputs": [],
   "source": [
    "# 同様に制約条件をモデルに加える\n",
    "dogfood += lpSum([ingredient_vars[i] for i in ingredients]) == 100, \"原料合計\"\n",
    "dogfood += lpSum([protein_percent[i] * ingredient_vars[i] for i in ingredients]) >= 15.0, \"タンパク質含有率\"\n",
    "dogfood += lpSum([fat_percent[i] * ingredient_vars[i] for i in ingredients]) <= 8.0, \"脂質含有率\"\n",
    "dogfood += lpSum([Carbohydrate_percent[i] * ingredient_vars[i] for i in ingredients]) >= 8.0, \"炭水化物含有率\"\n",
    "dogfood += lpSum([fiber_percent[i] * ingredient_vars[i] for i in ingredients]) <= 1.0, \"食物繊維含有率\"\n",
    "dogfood += lpSum([salt_percent[i] * ingredient_vars[i] for i in ingredients]) <= 1.0, \"食塩含有率\""
   ]
  },
  {
   "cell_type": "code",
   "execution_count": 31,
   "metadata": {},
   "outputs": [
    {
     "name": "stdout",
     "output_type": "stream",
     "text": [
      "ドッグフード配合:\n",
      "MINIMIZE\n",
      "0.5*Ingr_BEEF + 0.3*Ingr_CHICKEN + 0.4*Ingr_MUTTON + 0.2*Ingr_RICE + 0.25*Ingr_WHEAT + 0.0\n",
      "SUBJECT TO\n",
      "原料合計: Ingr_BEEF + Ingr_CHICKEN + Ingr_MUTTON + Ingr_RICE + Ingr_WHEAT = 100\n",
      "\n",
      "タンパク質含有率: 0.2 Ingr_BEEF + 0.1 Ingr_CHICKEN + 0.15 Ingr_MUTTON\n",
      " + 0.013 Ingr_RICE + 0.083 Ingr_WHEAT >= 15\n",
      "\n",
      "脂質含有率: 0.1 Ingr_BEEF + 0.08 Ingr_CHICKEN + 0.11 Ingr_MUTTON + 0.002 Ingr_RICE\n",
      " + 0.015 Ingr_WHEAT <= 8\n",
      "\n",
      "炭水化物含有率: 0.01 Ingr_BEEF + 0.02 Ingr_CHICKEN + 0.01 Ingr_MUTTON + 0.4 Ingr_RICE\n",
      " + 0.5 Ingr_WHEAT >= 8\n",
      "\n",
      "食物繊維含有率: 0.005 Ingr_BEEF + 0.001 Ingr_CHICKEN + 0.003 Ingr_MUTTON\n",
      " + 0.023 Ingr_RICE + 0.025 Ingr_WHEAT <= 1\n",
      "\n",
      "食塩含有率: 0.005 Ingr_BEEF + 0.002 Ingr_CHICKEN + 0.007 Ingr_MUTTON\n",
      " + 0.002 Ingr_WHEAT <= 1\n",
      "\n",
      "VARIABLES\n",
      "0 <= Ingr_BEEF Integer\n",
      "0 <= Ingr_CHICKEN Integer\n",
      "0 <= Ingr_MUTTON Integer\n",
      "0 <= Ingr_RICE Integer\n",
      "0 <= Ingr_WHEAT Integer\n",
      "\n"
     ]
    }
   ],
   "source": [
    "# モデルの確認\n",
    "print(dogfood)"
   ]
  },
  {
   "cell_type": "code",
   "execution_count": 32,
   "metadata": {},
   "outputs": [
    {
     "data": {
      "text/plain": [
       "1"
      ]
     },
     "execution_count": 32,
     "metadata": {},
     "output_type": "execute_result"
    }
   ],
   "source": [
    "dogfood.solve()"
   ]
  },
  {
   "cell_type": "code",
   "execution_count": 33,
   "metadata": {},
   "outputs": [
    {
     "name": "stdout",
     "output_type": "stream",
     "text": [
      "Ingr_BEEF : 55.0 g\n",
      "Ingr_CHICKEN : 17.0 g\n",
      "Ingr_MUTTON : 0.0 g\n",
      "Ingr_RICE : 0.0 g\n",
      "Ingr_WHEAT : 28.0 g\n",
      "---------------\n",
      "コスト: 39.6 円\n"
     ]
    }
   ],
   "source": [
    "# 結果の表示\n",
    "for v in dogfood.variables():\n",
    "    print(v.name, \":\", pulp.value(v), \"g\")\n",
    "print(\"-\"*15)\n",
    "print(\"コスト:\", pulp.value(dogfood.objective), \"円\")"
   ]
  },
  {
   "cell_type": "markdown",
   "metadata": {},
   "source": [
    "## 参考文献  \n",
    "\n",
    "- [A Blending Problem — PuLP 2.0 documentation](https://coin-or.github.io/pulp/CaseStudies/a_blending_problem.html)  \n",
    "- [問題解決のためのオペレーションズ・リサーチ入門｜日本評論社](https://www.nippyo.co.jp/shop/book/1404.html)  "
   ]
  }
 ],
 "metadata": {
  "kernelspec": {
   "display_name": "or",
   "language": "python",
   "name": "or"
  },
  "language_info": {
   "codemirror_mode": {
    "name": "ipython",
    "version": 3
   },
   "file_extension": ".py",
   "mimetype": "text/x-python",
   "name": "python",
   "nbconvert_exporter": "python",
   "pygments_lexer": "ipython3",
   "version": "3.7.7"
  }
 },
 "nbformat": 4,
 "nbformat_minor": 4
}
